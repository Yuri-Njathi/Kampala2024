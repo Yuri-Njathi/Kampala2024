{
 "cells": [
  {
   "cell_type": "markdown",
   "metadata": {},
   "source": [
    "# Practical ML: Scikit-learn\n",
    "## Introducing Pandas and Scikit-learn\n",
    "### Edited from original from Juan Antonio Cortés (jacortes@ugr.es)"
   ]
  },
  {
   "cell_type": "markdown",
   "metadata": {},
   "source": [
    "---"
   ]
  },
  {
   "cell_type": "code",
   "execution_count": 1,
   "metadata": {},
   "outputs": [],
   "source": [
    "import pandas as pd\n",
    "import numpy as np\n",
    "import matplotlib.pyplot as plt\n",
    "from sklearn.model_selection import train_test_split, cross_val_predict, GridSearchCV, StratifiedKFold\n",
    "from sklearn.metrics import classification_report, hamming_loss\n",
    "from sklearn import tree\n",
    "from sklearn.impute import KNNImputer\n",
    "from sklearn.pipeline import make_pipeline\n",
    "from sklearn.preprocessing import StandardScaler\n",
    "from sklearn.svm import SVC, SVR\n",
    "from sklearn.ensemble import RandomForestClassifier\n",
    "from sklearn.cluster import KMeans\n",
    "from sklearn.neighbors import KNeighborsClassifier\n",
    "import imblearn\n",
    "from skmultilearn.dataset import load_dataset\n",
    "from skmultilearn.problem_transform import BinaryRelevance\n",
    "from skmultilearn.adapt import MLTSVM"
   ]
  },
  {
   "cell_type": "markdown",
   "metadata": {},
   "source": [
    "\n",
    "# Pandas"
   ]
  },
  {
   "cell_type": "markdown",
   "metadata": {},
   "source": [
    "Pandas is a fast, powerful, flexible and easy to use open source data analysis and manipulation tool,\n",
    "built on top of the Python programming language.\n",
    "\n",
    "It is the perfect tool to explore, clean and process tabular data."
   ]
  },
  {
   "cell_type": "markdown",
   "metadata": {},
   "source": [
    "# Pandas series"
   ]
  },
  {
   "cell_type": "markdown",
   "metadata": {},
   "source": [
    "Pandas tables (DataFrames from now on) are comprised of series (one-dimensional ndarray with axis labels). Below, an example of a series with a missing value."
   ]
  },
  {
   "cell_type": "code",
   "execution_count": 2,
   "metadata": {},
   "outputs": [
    {
     "data": {
      "text/plain": [
       "0    1.0\n",
       "1    3.0\n",
       "2    5.0\n",
       "3    NaN\n",
       "4    6.0\n",
       "5    8.0\n",
       "dtype: float64"
      ]
     },
     "execution_count": 2,
     "metadata": {},
     "output_type": "execute_result"
    }
   ],
   "source": [
    "s = pd.Series([1, 3, 5, np.nan, 6, 8])\n",
    "s"
   ]
  },
  {
   "cell_type": "markdown",
   "metadata": {},
   "source": [
    "# Pandas DataFrame"
   ]
  },
  {
   "cell_type": "markdown",
   "metadata": {},
   "source": [
    "DataFrames can be built from different data types. For example, we can build a DataFrame with a date column (it will be the index of the DataFrame in this example) and four numerical columns (the data)."
   ]
  },
  {
   "cell_type": "code",
   "execution_count": 3,
   "metadata": {},
   "outputs": [],
   "source": [
    "dates = pd.date_range('20201101', periods=6)\n",
    "df = pd.DataFrame(np.random.randn(6, 4), index=dates, columns=list('ABCD'))"
   ]
  },
  {
   "cell_type": "code",
   "execution_count": 4,
   "metadata": {},
   "outputs": [
    {
     "data": {
      "text/html": [
       "<div>\n",
       "<style scoped>\n",
       "    .dataframe tbody tr th:only-of-type {\n",
       "        vertical-align: middle;\n",
       "    }\n",
       "\n",
       "    .dataframe tbody tr th {\n",
       "        vertical-align: top;\n",
       "    }\n",
       "\n",
       "    .dataframe thead th {\n",
       "        text-align: right;\n",
       "    }\n",
       "</style>\n",
       "<table border=\"1\" class=\"dataframe\">\n",
       "  <thead>\n",
       "    <tr style=\"text-align: right;\">\n",
       "      <th></th>\n",
       "      <th>A</th>\n",
       "      <th>B</th>\n",
       "      <th>C</th>\n",
       "      <th>D</th>\n",
       "    </tr>\n",
       "  </thead>\n",
       "  <tbody>\n",
       "    <tr>\n",
       "      <th>2020-11-01</th>\n",
       "      <td>-1.426951</td>\n",
       "      <td>-0.339902</td>\n",
       "      <td>-0.996485</td>\n",
       "      <td>0.145876</td>\n",
       "    </tr>\n",
       "    <tr>\n",
       "      <th>2020-11-02</th>\n",
       "      <td>0.611093</td>\n",
       "      <td>2.496005</td>\n",
       "      <td>-0.942824</td>\n",
       "      <td>-1.151100</td>\n",
       "    </tr>\n",
       "    <tr>\n",
       "      <th>2020-11-03</th>\n",
       "      <td>0.749137</td>\n",
       "      <td>0.715941</td>\n",
       "      <td>-1.832690</td>\n",
       "      <td>1.673540</td>\n",
       "    </tr>\n",
       "    <tr>\n",
       "      <th>2020-11-04</th>\n",
       "      <td>-1.059865</td>\n",
       "      <td>0.466425</td>\n",
       "      <td>-0.271732</td>\n",
       "      <td>0.138424</td>\n",
       "    </tr>\n",
       "    <tr>\n",
       "      <th>2020-11-05</th>\n",
       "      <td>-1.476008</td>\n",
       "      <td>-0.366261</td>\n",
       "      <td>0.370270</td>\n",
       "      <td>-0.461485</td>\n",
       "    </tr>\n",
       "    <tr>\n",
       "      <th>2020-11-06</th>\n",
       "      <td>-1.945440</td>\n",
       "      <td>0.565144</td>\n",
       "      <td>-0.734308</td>\n",
       "      <td>-0.525013</td>\n",
       "    </tr>\n",
       "  </tbody>\n",
       "</table>\n",
       "</div>"
      ],
      "text/plain": [
       "                   A         B         C         D\n",
       "2020-11-01 -1.426951 -0.339902 -0.996485  0.145876\n",
       "2020-11-02  0.611093  2.496005 -0.942824 -1.151100\n",
       "2020-11-03  0.749137  0.715941 -1.832690  1.673540\n",
       "2020-11-04 -1.059865  0.466425 -0.271732  0.138424\n",
       "2020-11-05 -1.476008 -0.366261  0.370270 -0.461485\n",
       "2020-11-06 -1.945440  0.565144 -0.734308 -0.525013"
      ]
     },
     "execution_count": 4,
     "metadata": {},
     "output_type": "execute_result"
    }
   ],
   "source": [
    "df"
   ]
  },
  {
   "cell_type": "markdown",
   "metadata": {},
   "source": [
    "We can also build a DataFrame from a Python dictionary. Thanks to the flexibility of Pandas we can mix different data types inside the same DataFrame. For example: integers, time stamps, floats, text..."
   ]
  },
  {
   "cell_type": "code",
   "execution_count": 5,
   "metadata": {},
   "outputs": [],
   "source": [
    "df2 = pd.DataFrame({'A': 1.,\n",
    "                    'B': pd.Timestamp('20201101'),\n",
    "                    'C': pd.Series(1, index=list(range(4)), dtype='float32'),\n",
    "                    'D': np.array([3] * 4, dtype='int32'),\n",
    "                    'E': pd.Categorical([\"test\", \"train\", \"test\", \"train\"]),\n",
    "                    'F': 'foo'})"
   ]
  },
  {
   "cell_type": "code",
   "execution_count": 6,
   "metadata": {},
   "outputs": [
    {
     "data": {
      "text/html": [
       "<div>\n",
       "<style scoped>\n",
       "    .dataframe tbody tr th:only-of-type {\n",
       "        vertical-align: middle;\n",
       "    }\n",
       "\n",
       "    .dataframe tbody tr th {\n",
       "        vertical-align: top;\n",
       "    }\n",
       "\n",
       "    .dataframe thead th {\n",
       "        text-align: right;\n",
       "    }\n",
       "</style>\n",
       "<table border=\"1\" class=\"dataframe\">\n",
       "  <thead>\n",
       "    <tr style=\"text-align: right;\">\n",
       "      <th></th>\n",
       "      <th>A</th>\n",
       "      <th>B</th>\n",
       "      <th>C</th>\n",
       "      <th>D</th>\n",
       "      <th>E</th>\n",
       "      <th>F</th>\n",
       "    </tr>\n",
       "  </thead>\n",
       "  <tbody>\n",
       "    <tr>\n",
       "      <th>0</th>\n",
       "      <td>1.0</td>\n",
       "      <td>2020-11-01</td>\n",
       "      <td>1.0</td>\n",
       "      <td>3</td>\n",
       "      <td>test</td>\n",
       "      <td>foo</td>\n",
       "    </tr>\n",
       "    <tr>\n",
       "      <th>1</th>\n",
       "      <td>1.0</td>\n",
       "      <td>2020-11-01</td>\n",
       "      <td>1.0</td>\n",
       "      <td>3</td>\n",
       "      <td>train</td>\n",
       "      <td>foo</td>\n",
       "    </tr>\n",
       "    <tr>\n",
       "      <th>2</th>\n",
       "      <td>1.0</td>\n",
       "      <td>2020-11-01</td>\n",
       "      <td>1.0</td>\n",
       "      <td>3</td>\n",
       "      <td>test</td>\n",
       "      <td>foo</td>\n",
       "    </tr>\n",
       "    <tr>\n",
       "      <th>3</th>\n",
       "      <td>1.0</td>\n",
       "      <td>2020-11-01</td>\n",
       "      <td>1.0</td>\n",
       "      <td>3</td>\n",
       "      <td>train</td>\n",
       "      <td>foo</td>\n",
       "    </tr>\n",
       "  </tbody>\n",
       "</table>\n",
       "</div>"
      ],
      "text/plain": [
       "     A          B    C  D      E    F\n",
       "0  1.0 2020-11-01  1.0  3   test  foo\n",
       "1  1.0 2020-11-01  1.0  3  train  foo\n",
       "2  1.0 2020-11-01  1.0  3   test  foo\n",
       "3  1.0 2020-11-01  1.0  3  train  foo"
      ]
     },
     "execution_count": 6,
     "metadata": {},
     "output_type": "execute_result"
    }
   ],
   "source": [
    "df2"
   ]
  },
  {
   "cell_type": "markdown",
   "metadata": {},
   "source": [
    "# Viewing data"
   ]
  },
  {
   "cell_type": "markdown",
   "metadata": {},
   "source": [
    "Once we have our DataFrame we can use different approaches to view it. Pandas offers multiples ways to accomplish this task:"
   ]
  },
  {
   "cell_type": "markdown",
   "metadata": {},
   "source": [
    "We can peek at the beginning of the DataFrame"
   ]
  },
  {
   "cell_type": "code",
   "execution_count": 7,
   "metadata": {},
   "outputs": [
    {
     "data": {
      "text/html": [
       "<div>\n",
       "<style scoped>\n",
       "    .dataframe tbody tr th:only-of-type {\n",
       "        vertical-align: middle;\n",
       "    }\n",
       "\n",
       "    .dataframe tbody tr th {\n",
       "        vertical-align: top;\n",
       "    }\n",
       "\n",
       "    .dataframe thead th {\n",
       "        text-align: right;\n",
       "    }\n",
       "</style>\n",
       "<table border=\"1\" class=\"dataframe\">\n",
       "  <thead>\n",
       "    <tr style=\"text-align: right;\">\n",
       "      <th></th>\n",
       "      <th>A</th>\n",
       "      <th>B</th>\n",
       "      <th>C</th>\n",
       "      <th>D</th>\n",
       "    </tr>\n",
       "  </thead>\n",
       "  <tbody>\n",
       "    <tr>\n",
       "      <th>2020-11-01</th>\n",
       "      <td>-1.426951</td>\n",
       "      <td>-0.339902</td>\n",
       "      <td>-0.996485</td>\n",
       "      <td>0.145876</td>\n",
       "    </tr>\n",
       "    <tr>\n",
       "      <th>2020-11-02</th>\n",
       "      <td>0.611093</td>\n",
       "      <td>2.496005</td>\n",
       "      <td>-0.942824</td>\n",
       "      <td>-1.151100</td>\n",
       "    </tr>\n",
       "    <tr>\n",
       "      <th>2020-11-03</th>\n",
       "      <td>0.749137</td>\n",
       "      <td>0.715941</td>\n",
       "      <td>-1.832690</td>\n",
       "      <td>1.673540</td>\n",
       "    </tr>\n",
       "    <tr>\n",
       "      <th>2020-11-04</th>\n",
       "      <td>-1.059865</td>\n",
       "      <td>0.466425</td>\n",
       "      <td>-0.271732</td>\n",
       "      <td>0.138424</td>\n",
       "    </tr>\n",
       "    <tr>\n",
       "      <th>2020-11-05</th>\n",
       "      <td>-1.476008</td>\n",
       "      <td>-0.366261</td>\n",
       "      <td>0.370270</td>\n",
       "      <td>-0.461485</td>\n",
       "    </tr>\n",
       "  </tbody>\n",
       "</table>\n",
       "</div>"
      ],
      "text/plain": [
       "                   A         B         C         D\n",
       "2020-11-01 -1.426951 -0.339902 -0.996485  0.145876\n",
       "2020-11-02  0.611093  2.496005 -0.942824 -1.151100\n",
       "2020-11-03  0.749137  0.715941 -1.832690  1.673540\n",
       "2020-11-04 -1.059865  0.466425 -0.271732  0.138424\n",
       "2020-11-05 -1.476008 -0.366261  0.370270 -0.461485"
      ]
     },
     "execution_count": 7,
     "metadata": {},
     "output_type": "execute_result"
    }
   ],
   "source": [
    "df.head()"
   ]
  },
  {
   "cell_type": "markdown",
   "metadata": {},
   "source": [
    "Or the end:"
   ]
  },
  {
   "cell_type": "code",
   "execution_count": 8,
   "metadata": {},
   "outputs": [
    {
     "data": {
      "text/html": [
       "<div>\n",
       "<style scoped>\n",
       "    .dataframe tbody tr th:only-of-type {\n",
       "        vertical-align: middle;\n",
       "    }\n",
       "\n",
       "    .dataframe tbody tr th {\n",
       "        vertical-align: top;\n",
       "    }\n",
       "\n",
       "    .dataframe thead th {\n",
       "        text-align: right;\n",
       "    }\n",
       "</style>\n",
       "<table border=\"1\" class=\"dataframe\">\n",
       "  <thead>\n",
       "    <tr style=\"text-align: right;\">\n",
       "      <th></th>\n",
       "      <th>A</th>\n",
       "      <th>B</th>\n",
       "      <th>C</th>\n",
       "      <th>D</th>\n",
       "    </tr>\n",
       "  </thead>\n",
       "  <tbody>\n",
       "    <tr>\n",
       "      <th>2020-11-02</th>\n",
       "      <td>0.611093</td>\n",
       "      <td>2.496005</td>\n",
       "      <td>-0.942824</td>\n",
       "      <td>-1.151100</td>\n",
       "    </tr>\n",
       "    <tr>\n",
       "      <th>2020-11-03</th>\n",
       "      <td>0.749137</td>\n",
       "      <td>0.715941</td>\n",
       "      <td>-1.832690</td>\n",
       "      <td>1.673540</td>\n",
       "    </tr>\n",
       "    <tr>\n",
       "      <th>2020-11-04</th>\n",
       "      <td>-1.059865</td>\n",
       "      <td>0.466425</td>\n",
       "      <td>-0.271732</td>\n",
       "      <td>0.138424</td>\n",
       "    </tr>\n",
       "    <tr>\n",
       "      <th>2020-11-05</th>\n",
       "      <td>-1.476008</td>\n",
       "      <td>-0.366261</td>\n",
       "      <td>0.370270</td>\n",
       "      <td>-0.461485</td>\n",
       "    </tr>\n",
       "    <tr>\n",
       "      <th>2020-11-06</th>\n",
       "      <td>-1.945440</td>\n",
       "      <td>0.565144</td>\n",
       "      <td>-0.734308</td>\n",
       "      <td>-0.525013</td>\n",
       "    </tr>\n",
       "  </tbody>\n",
       "</table>\n",
       "</div>"
      ],
      "text/plain": [
       "                   A         B         C         D\n",
       "2020-11-02  0.611093  2.496005 -0.942824 -1.151100\n",
       "2020-11-03  0.749137  0.715941 -1.832690  1.673540\n",
       "2020-11-04 -1.059865  0.466425 -0.271732  0.138424\n",
       "2020-11-05 -1.476008 -0.366261  0.370270 -0.461485\n",
       "2020-11-06 -1.945440  0.565144 -0.734308 -0.525013"
      ]
     },
     "execution_count": 8,
     "metadata": {},
     "output_type": "execute_result"
    }
   ],
   "source": [
    "df.tail()"
   ]
  },
  {
   "cell_type": "markdown",
   "metadata": {},
   "source": [
    "We can also list the name of the columns:"
   ]
  },
  {
   "cell_type": "code",
   "execution_count": 9,
   "metadata": {},
   "outputs": [
    {
     "data": {
      "text/plain": [
       "Index(['A', 'B', 'C', 'D'], dtype='object')"
      ]
     },
     "execution_count": 9,
     "metadata": {},
     "output_type": "execute_result"
    }
   ],
   "source": [
    "df.columns"
   ]
  },
  {
   "cell_type": "markdown",
   "metadata": {},
   "source": [
    "Transposing the data is a trivial task with Pandas:"
   ]
  },
  {
   "cell_type": "code",
   "execution_count": 10,
   "metadata": {},
   "outputs": [
    {
     "data": {
      "text/html": [
       "<div>\n",
       "<style scoped>\n",
       "    .dataframe tbody tr th:only-of-type {\n",
       "        vertical-align: middle;\n",
       "    }\n",
       "\n",
       "    .dataframe tbody tr th {\n",
       "        vertical-align: top;\n",
       "    }\n",
       "\n",
       "    .dataframe thead th {\n",
       "        text-align: right;\n",
       "    }\n",
       "</style>\n",
       "<table border=\"1\" class=\"dataframe\">\n",
       "  <thead>\n",
       "    <tr style=\"text-align: right;\">\n",
       "      <th></th>\n",
       "      <th>2020-11-01</th>\n",
       "      <th>2020-11-02</th>\n",
       "      <th>2020-11-03</th>\n",
       "      <th>2020-11-04</th>\n",
       "      <th>2020-11-05</th>\n",
       "      <th>2020-11-06</th>\n",
       "    </tr>\n",
       "  </thead>\n",
       "  <tbody>\n",
       "    <tr>\n",
       "      <th>A</th>\n",
       "      <td>-1.426951</td>\n",
       "      <td>0.611093</td>\n",
       "      <td>0.749137</td>\n",
       "      <td>-1.059865</td>\n",
       "      <td>-1.476008</td>\n",
       "      <td>-1.945440</td>\n",
       "    </tr>\n",
       "    <tr>\n",
       "      <th>B</th>\n",
       "      <td>-0.339902</td>\n",
       "      <td>2.496005</td>\n",
       "      <td>0.715941</td>\n",
       "      <td>0.466425</td>\n",
       "      <td>-0.366261</td>\n",
       "      <td>0.565144</td>\n",
       "    </tr>\n",
       "    <tr>\n",
       "      <th>C</th>\n",
       "      <td>-0.996485</td>\n",
       "      <td>-0.942824</td>\n",
       "      <td>-1.832690</td>\n",
       "      <td>-0.271732</td>\n",
       "      <td>0.370270</td>\n",
       "      <td>-0.734308</td>\n",
       "    </tr>\n",
       "    <tr>\n",
       "      <th>D</th>\n",
       "      <td>0.145876</td>\n",
       "      <td>-1.151100</td>\n",
       "      <td>1.673540</td>\n",
       "      <td>0.138424</td>\n",
       "      <td>-0.461485</td>\n",
       "      <td>-0.525013</td>\n",
       "    </tr>\n",
       "  </tbody>\n",
       "</table>\n",
       "</div>"
      ],
      "text/plain": [
       "   2020-11-01  2020-11-02  2020-11-03  2020-11-04  2020-11-05  2020-11-06\n",
       "A   -1.426951    0.611093    0.749137   -1.059865   -1.476008   -1.945440\n",
       "B   -0.339902    2.496005    0.715941    0.466425   -0.366261    0.565144\n",
       "C   -0.996485   -0.942824   -1.832690   -0.271732    0.370270   -0.734308\n",
       "D    0.145876   -1.151100    1.673540    0.138424   -0.461485   -0.525013"
      ]
     },
     "execution_count": 10,
     "metadata": {},
     "output_type": "execute_result"
    }
   ],
   "source": [
    "df.T"
   ]
  },
  {
   "cell_type": "markdown",
   "metadata": {},
   "source": [
    "As well as sort the DataFrame. For example, we can sort it by column in descending order:"
   ]
  },
  {
   "cell_type": "code",
   "execution_count": 11,
   "metadata": {},
   "outputs": [
    {
     "data": {
      "text/html": [
       "<div>\n",
       "<style scoped>\n",
       "    .dataframe tbody tr th:only-of-type {\n",
       "        vertical-align: middle;\n",
       "    }\n",
       "\n",
       "    .dataframe tbody tr th {\n",
       "        vertical-align: top;\n",
       "    }\n",
       "\n",
       "    .dataframe thead th {\n",
       "        text-align: right;\n",
       "    }\n",
       "</style>\n",
       "<table border=\"1\" class=\"dataframe\">\n",
       "  <thead>\n",
       "    <tr style=\"text-align: right;\">\n",
       "      <th></th>\n",
       "      <th>D</th>\n",
       "      <th>C</th>\n",
       "      <th>B</th>\n",
       "      <th>A</th>\n",
       "    </tr>\n",
       "  </thead>\n",
       "  <tbody>\n",
       "    <tr>\n",
       "      <th>2020-11-01</th>\n",
       "      <td>0.145876</td>\n",
       "      <td>-0.996485</td>\n",
       "      <td>-0.339902</td>\n",
       "      <td>-1.426951</td>\n",
       "    </tr>\n",
       "    <tr>\n",
       "      <th>2020-11-02</th>\n",
       "      <td>-1.151100</td>\n",
       "      <td>-0.942824</td>\n",
       "      <td>2.496005</td>\n",
       "      <td>0.611093</td>\n",
       "    </tr>\n",
       "    <tr>\n",
       "      <th>2020-11-03</th>\n",
       "      <td>1.673540</td>\n",
       "      <td>-1.832690</td>\n",
       "      <td>0.715941</td>\n",
       "      <td>0.749137</td>\n",
       "    </tr>\n",
       "    <tr>\n",
       "      <th>2020-11-04</th>\n",
       "      <td>0.138424</td>\n",
       "      <td>-0.271732</td>\n",
       "      <td>0.466425</td>\n",
       "      <td>-1.059865</td>\n",
       "    </tr>\n",
       "    <tr>\n",
       "      <th>2020-11-05</th>\n",
       "      <td>-0.461485</td>\n",
       "      <td>0.370270</td>\n",
       "      <td>-0.366261</td>\n",
       "      <td>-1.476008</td>\n",
       "    </tr>\n",
       "    <tr>\n",
       "      <th>2020-11-06</th>\n",
       "      <td>-0.525013</td>\n",
       "      <td>-0.734308</td>\n",
       "      <td>0.565144</td>\n",
       "      <td>-1.945440</td>\n",
       "    </tr>\n",
       "  </tbody>\n",
       "</table>\n",
       "</div>"
      ],
      "text/plain": [
       "                   D         C         B         A\n",
       "2020-11-01  0.145876 -0.996485 -0.339902 -1.426951\n",
       "2020-11-02 -1.151100 -0.942824  2.496005  0.611093\n",
       "2020-11-03  1.673540 -1.832690  0.715941  0.749137\n",
       "2020-11-04  0.138424 -0.271732  0.466425 -1.059865\n",
       "2020-11-05 -0.461485  0.370270 -0.366261 -1.476008\n",
       "2020-11-06 -0.525013 -0.734308  0.565144 -1.945440"
      ]
     },
     "execution_count": 11,
     "metadata": {},
     "output_type": "execute_result"
    }
   ],
   "source": [
    "df.sort_index(axis=1, ascending=False)"
   ]
  },
  {
   "cell_type": "markdown",
   "metadata": {},
   "source": [
    "Or by column:"
   ]
  },
  {
   "cell_type": "code",
   "execution_count": 12,
   "metadata": {},
   "outputs": [
    {
     "data": {
      "text/html": [
       "<div>\n",
       "<style scoped>\n",
       "    .dataframe tbody tr th:only-of-type {\n",
       "        vertical-align: middle;\n",
       "    }\n",
       "\n",
       "    .dataframe tbody tr th {\n",
       "        vertical-align: top;\n",
       "    }\n",
       "\n",
       "    .dataframe thead th {\n",
       "        text-align: right;\n",
       "    }\n",
       "</style>\n",
       "<table border=\"1\" class=\"dataframe\">\n",
       "  <thead>\n",
       "    <tr style=\"text-align: right;\">\n",
       "      <th></th>\n",
       "      <th>A</th>\n",
       "      <th>B</th>\n",
       "      <th>C</th>\n",
       "      <th>D</th>\n",
       "    </tr>\n",
       "  </thead>\n",
       "  <tbody>\n",
       "    <tr>\n",
       "      <th>2020-11-05</th>\n",
       "      <td>-1.476008</td>\n",
       "      <td>-0.366261</td>\n",
       "      <td>0.370270</td>\n",
       "      <td>-0.461485</td>\n",
       "    </tr>\n",
       "    <tr>\n",
       "      <th>2020-11-01</th>\n",
       "      <td>-1.426951</td>\n",
       "      <td>-0.339902</td>\n",
       "      <td>-0.996485</td>\n",
       "      <td>0.145876</td>\n",
       "    </tr>\n",
       "    <tr>\n",
       "      <th>2020-11-04</th>\n",
       "      <td>-1.059865</td>\n",
       "      <td>0.466425</td>\n",
       "      <td>-0.271732</td>\n",
       "      <td>0.138424</td>\n",
       "    </tr>\n",
       "    <tr>\n",
       "      <th>2020-11-06</th>\n",
       "      <td>-1.945440</td>\n",
       "      <td>0.565144</td>\n",
       "      <td>-0.734308</td>\n",
       "      <td>-0.525013</td>\n",
       "    </tr>\n",
       "    <tr>\n",
       "      <th>2020-11-03</th>\n",
       "      <td>0.749137</td>\n",
       "      <td>0.715941</td>\n",
       "      <td>-1.832690</td>\n",
       "      <td>1.673540</td>\n",
       "    </tr>\n",
       "    <tr>\n",
       "      <th>2020-11-02</th>\n",
       "      <td>0.611093</td>\n",
       "      <td>2.496005</td>\n",
       "      <td>-0.942824</td>\n",
       "      <td>-1.151100</td>\n",
       "    </tr>\n",
       "  </tbody>\n",
       "</table>\n",
       "</div>"
      ],
      "text/plain": [
       "                   A         B         C         D\n",
       "2020-11-05 -1.476008 -0.366261  0.370270 -0.461485\n",
       "2020-11-01 -1.426951 -0.339902 -0.996485  0.145876\n",
       "2020-11-04 -1.059865  0.466425 -0.271732  0.138424\n",
       "2020-11-06 -1.945440  0.565144 -0.734308 -0.525013\n",
       "2020-11-03  0.749137  0.715941 -1.832690  1.673540\n",
       "2020-11-02  0.611093  2.496005 -0.942824 -1.151100"
      ]
     },
     "execution_count": 12,
     "metadata": {},
     "output_type": "execute_result"
    }
   ],
   "source": [
    "df.sort_values(by='B')"
   ]
  },
  {
   "cell_type": "markdown",
   "metadata": {},
   "source": [
    "Pandas also offers a quick statistic summary of the data:"
   ]
  },
  {
   "cell_type": "code",
   "execution_count": 13,
   "metadata": {},
   "outputs": [
    {
     "data": {
      "text/html": [
       "<div>\n",
       "<style scoped>\n",
       "    .dataframe tbody tr th:only-of-type {\n",
       "        vertical-align: middle;\n",
       "    }\n",
       "\n",
       "    .dataframe tbody tr th {\n",
       "        vertical-align: top;\n",
       "    }\n",
       "\n",
       "    .dataframe thead th {\n",
       "        text-align: right;\n",
       "    }\n",
       "</style>\n",
       "<table border=\"1\" class=\"dataframe\">\n",
       "  <thead>\n",
       "    <tr style=\"text-align: right;\">\n",
       "      <th></th>\n",
       "      <th>A</th>\n",
       "      <th>B</th>\n",
       "      <th>C</th>\n",
       "      <th>D</th>\n",
       "    </tr>\n",
       "  </thead>\n",
       "  <tbody>\n",
       "    <tr>\n",
       "      <th>count</th>\n",
       "      <td>6.000000</td>\n",
       "      <td>6.000000</td>\n",
       "      <td>6.000000</td>\n",
       "      <td>6.000000</td>\n",
       "    </tr>\n",
       "    <tr>\n",
       "      <th>mean</th>\n",
       "      <td>-0.758006</td>\n",
       "      <td>0.589559</td>\n",
       "      <td>-0.734628</td>\n",
       "      <td>-0.029960</td>\n",
       "    </tr>\n",
       "    <tr>\n",
       "      <th>std</th>\n",
       "      <td>1.149787</td>\n",
       "      <td>1.043432</td>\n",
       "      <td>0.741988</td>\n",
       "      <td>0.964306</td>\n",
       "    </tr>\n",
       "    <tr>\n",
       "      <th>min</th>\n",
       "      <td>-1.945440</td>\n",
       "      <td>-0.366261</td>\n",
       "      <td>-1.832690</td>\n",
       "      <td>-1.151100</td>\n",
       "    </tr>\n",
       "    <tr>\n",
       "      <th>25%</th>\n",
       "      <td>-1.463744</td>\n",
       "      <td>-0.138320</td>\n",
       "      <td>-0.983069</td>\n",
       "      <td>-0.509131</td>\n",
       "    </tr>\n",
       "    <tr>\n",
       "      <th>50%</th>\n",
       "      <td>-1.243408</td>\n",
       "      <td>0.515784</td>\n",
       "      <td>-0.838566</td>\n",
       "      <td>-0.161530</td>\n",
       "    </tr>\n",
       "    <tr>\n",
       "      <th>75%</th>\n",
       "      <td>0.193354</td>\n",
       "      <td>0.678242</td>\n",
       "      <td>-0.387376</td>\n",
       "      <td>0.144013</td>\n",
       "    </tr>\n",
       "    <tr>\n",
       "      <th>max</th>\n",
       "      <td>0.749137</td>\n",
       "      <td>2.496005</td>\n",
       "      <td>0.370270</td>\n",
       "      <td>1.673540</td>\n",
       "    </tr>\n",
       "  </tbody>\n",
       "</table>\n",
       "</div>"
      ],
      "text/plain": [
       "              A         B         C         D\n",
       "count  6.000000  6.000000  6.000000  6.000000\n",
       "mean  -0.758006  0.589559 -0.734628 -0.029960\n",
       "std    1.149787  1.043432  0.741988  0.964306\n",
       "min   -1.945440 -0.366261 -1.832690 -1.151100\n",
       "25%   -1.463744 -0.138320 -0.983069 -0.509131\n",
       "50%   -1.243408  0.515784 -0.838566 -0.161530\n",
       "75%    0.193354  0.678242 -0.387376  0.144013\n",
       "max    0.749137  2.496005  0.370270  1.673540"
      ]
     },
     "execution_count": 13,
     "metadata": {},
     "output_type": "execute_result"
    }
   ],
   "source": [
    "df.describe()"
   ]
  },
  {
   "cell_type": "markdown",
   "metadata": {},
   "source": [
    "# Selection"
   ]
  },
  {
   "cell_type": "markdown",
   "metadata": {},
   "source": [
    "Another usual task whilst working with data is the selection. Pandas offers a \"pythonic\" selection interface so we can slice our DataFrame in multiple ways. With Series, the syntax works exactly as with an ndarray, returning a slice of the values and the corresponding labels."
   ]
  },
  {
   "cell_type": "markdown",
   "metadata": {},
   "source": [
    "We can select by column:"
   ]
  },
  {
   "cell_type": "code",
   "execution_count": 14,
   "metadata": {},
   "outputs": [
    {
     "data": {
      "text/plain": [
       "2020-11-01   -1.426951\n",
       "2020-11-02    0.611093\n",
       "2020-11-03    0.749137\n",
       "2020-11-04   -1.059865\n",
       "2020-11-05   -1.476008\n",
       "2020-11-06   -1.945440\n",
       "Freq: D, Name: A, dtype: float64"
      ]
     },
     "execution_count": 14,
     "metadata": {},
     "output_type": "execute_result"
    }
   ],
   "source": [
    "df['A']"
   ]
  },
  {
   "cell_type": "code",
   "execution_count": 15,
   "metadata": {},
   "outputs": [
    {
     "data": {
      "text/html": [
       "<div>\n",
       "<style scoped>\n",
       "    .dataframe tbody tr th:only-of-type {\n",
       "        vertical-align: middle;\n",
       "    }\n",
       "\n",
       "    .dataframe tbody tr th {\n",
       "        vertical-align: top;\n",
       "    }\n",
       "\n",
       "    .dataframe thead th {\n",
       "        text-align: right;\n",
       "    }\n",
       "</style>\n",
       "<table border=\"1\" class=\"dataframe\">\n",
       "  <thead>\n",
       "    <tr style=\"text-align: right;\">\n",
       "      <th></th>\n",
       "      <th>A</th>\n",
       "      <th>C</th>\n",
       "    </tr>\n",
       "  </thead>\n",
       "  <tbody>\n",
       "    <tr>\n",
       "      <th>2020-11-01</th>\n",
       "      <td>-1.426951</td>\n",
       "      <td>-0.996485</td>\n",
       "    </tr>\n",
       "    <tr>\n",
       "      <th>2020-11-02</th>\n",
       "      <td>0.611093</td>\n",
       "      <td>-0.942824</td>\n",
       "    </tr>\n",
       "    <tr>\n",
       "      <th>2020-11-03</th>\n",
       "      <td>0.749137</td>\n",
       "      <td>-1.832690</td>\n",
       "    </tr>\n",
       "    <tr>\n",
       "      <th>2020-11-04</th>\n",
       "      <td>-1.059865</td>\n",
       "      <td>-0.271732</td>\n",
       "    </tr>\n",
       "    <tr>\n",
       "      <th>2020-11-05</th>\n",
       "      <td>-1.476008</td>\n",
       "      <td>0.370270</td>\n",
       "    </tr>\n",
       "    <tr>\n",
       "      <th>2020-11-06</th>\n",
       "      <td>-1.945440</td>\n",
       "      <td>-0.734308</td>\n",
       "    </tr>\n",
       "  </tbody>\n",
       "</table>\n",
       "</div>"
      ],
      "text/plain": [
       "                   A         C\n",
       "2020-11-01 -1.426951 -0.996485\n",
       "2020-11-02  0.611093 -0.942824\n",
       "2020-11-03  0.749137 -1.832690\n",
       "2020-11-04 -1.059865 -0.271732\n",
       "2020-11-05 -1.476008  0.370270\n",
       "2020-11-06 -1.945440 -0.734308"
      ]
     },
     "execution_count": 15,
     "metadata": {},
     "output_type": "execute_result"
    }
   ],
   "source": [
    "df[['A', 'C']]"
   ]
  },
  {
   "cell_type": "markdown",
   "metadata": {},
   "source": [
    "By index:"
   ]
  },
  {
   "cell_type": "code",
   "execution_count": 16,
   "metadata": {},
   "outputs": [
    {
     "data": {
      "text/html": [
       "<div>\n",
       "<style scoped>\n",
       "    .dataframe tbody tr th:only-of-type {\n",
       "        vertical-align: middle;\n",
       "    }\n",
       "\n",
       "    .dataframe tbody tr th {\n",
       "        vertical-align: top;\n",
       "    }\n",
       "\n",
       "    .dataframe thead th {\n",
       "        text-align: right;\n",
       "    }\n",
       "</style>\n",
       "<table border=\"1\" class=\"dataframe\">\n",
       "  <thead>\n",
       "    <tr style=\"text-align: right;\">\n",
       "      <th></th>\n",
       "      <th>A</th>\n",
       "      <th>B</th>\n",
       "      <th>C</th>\n",
       "      <th>D</th>\n",
       "    </tr>\n",
       "  </thead>\n",
       "  <tbody>\n",
       "    <tr>\n",
       "      <th>2020-11-01</th>\n",
       "      <td>-1.426951</td>\n",
       "      <td>-0.339902</td>\n",
       "      <td>-0.996485</td>\n",
       "      <td>0.145876</td>\n",
       "    </tr>\n",
       "    <tr>\n",
       "      <th>2020-11-02</th>\n",
       "      <td>0.611093</td>\n",
       "      <td>2.496005</td>\n",
       "      <td>-0.942824</td>\n",
       "      <td>-1.151100</td>\n",
       "    </tr>\n",
       "    <tr>\n",
       "      <th>2020-11-03</th>\n",
       "      <td>0.749137</td>\n",
       "      <td>0.715941</td>\n",
       "      <td>-1.832690</td>\n",
       "      <td>1.673540</td>\n",
       "    </tr>\n",
       "  </tbody>\n",
       "</table>\n",
       "</div>"
      ],
      "text/plain": [
       "                   A         B         C         D\n",
       "2020-11-01 -1.426951 -0.339902 -0.996485  0.145876\n",
       "2020-11-02  0.611093  2.496005 -0.942824 -1.151100\n",
       "2020-11-03  0.749137  0.715941 -1.832690  1.673540"
      ]
     },
     "execution_count": 16,
     "metadata": {},
     "output_type": "execute_result"
    }
   ],
   "source": [
    "df[0:3]"
   ]
  },
  {
   "cell_type": "markdown",
   "metadata": {},
   "source": [
    "Or by a combination of the previous method:"
   ]
  },
  {
   "cell_type": "code",
   "execution_count": 17,
   "metadata": {},
   "outputs": [
    {
     "data": {
      "text/html": [
       "<div>\n",
       "<style scoped>\n",
       "    .dataframe tbody tr th:only-of-type {\n",
       "        vertical-align: middle;\n",
       "    }\n",
       "\n",
       "    .dataframe tbody tr th {\n",
       "        vertical-align: top;\n",
       "    }\n",
       "\n",
       "    .dataframe thead th {\n",
       "        text-align: right;\n",
       "    }\n",
       "</style>\n",
       "<table border=\"1\" class=\"dataframe\">\n",
       "  <thead>\n",
       "    <tr style=\"text-align: right;\">\n",
       "      <th></th>\n",
       "      <th>A</th>\n",
       "      <th>B</th>\n",
       "      <th>C</th>\n",
       "      <th>D</th>\n",
       "    </tr>\n",
       "  </thead>\n",
       "  <tbody>\n",
       "    <tr>\n",
       "      <th>2020-11-02</th>\n",
       "      <td>0.611093</td>\n",
       "      <td>2.496005</td>\n",
       "      <td>-0.942824</td>\n",
       "      <td>-1.15110</td>\n",
       "    </tr>\n",
       "    <tr>\n",
       "      <th>2020-11-03</th>\n",
       "      <td>0.749137</td>\n",
       "      <td>0.715941</td>\n",
       "      <td>-1.832690</td>\n",
       "      <td>1.67354</td>\n",
       "    </tr>\n",
       "  </tbody>\n",
       "</table>\n",
       "</div>"
      ],
      "text/plain": [
       "                   A         B         C        D\n",
       "2020-11-02  0.611093  2.496005 -0.942824 -1.15110\n",
       "2020-11-03  0.749137  0.715941 -1.832690  1.67354"
      ]
     },
     "execution_count": 17,
     "metadata": {},
     "output_type": "execute_result"
    }
   ],
   "source": [
    "df.iloc[1:3, :]"
   ]
  },
  {
   "cell_type": "code",
   "execution_count": 18,
   "metadata": {},
   "outputs": [
    {
     "data": {
      "text/html": [
       "<div>\n",
       "<style scoped>\n",
       "    .dataframe tbody tr th:only-of-type {\n",
       "        vertical-align: middle;\n",
       "    }\n",
       "\n",
       "    .dataframe tbody tr th {\n",
       "        vertical-align: top;\n",
       "    }\n",
       "\n",
       "    .dataframe thead th {\n",
       "        text-align: right;\n",
       "    }\n",
       "</style>\n",
       "<table border=\"1\" class=\"dataframe\">\n",
       "  <thead>\n",
       "    <tr style=\"text-align: right;\">\n",
       "      <th></th>\n",
       "      <th>B</th>\n",
       "      <th>C</th>\n",
       "    </tr>\n",
       "  </thead>\n",
       "  <tbody>\n",
       "    <tr>\n",
       "      <th>2020-11-01</th>\n",
       "      <td>-0.339902</td>\n",
       "      <td>-0.996485</td>\n",
       "    </tr>\n",
       "    <tr>\n",
       "      <th>2020-11-02</th>\n",
       "      <td>2.496005</td>\n",
       "      <td>-0.942824</td>\n",
       "    </tr>\n",
       "    <tr>\n",
       "      <th>2020-11-03</th>\n",
       "      <td>0.715941</td>\n",
       "      <td>-1.832690</td>\n",
       "    </tr>\n",
       "    <tr>\n",
       "      <th>2020-11-04</th>\n",
       "      <td>0.466425</td>\n",
       "      <td>-0.271732</td>\n",
       "    </tr>\n",
       "    <tr>\n",
       "      <th>2020-11-05</th>\n",
       "      <td>-0.366261</td>\n",
       "      <td>0.370270</td>\n",
       "    </tr>\n",
       "    <tr>\n",
       "      <th>2020-11-06</th>\n",
       "      <td>0.565144</td>\n",
       "      <td>-0.734308</td>\n",
       "    </tr>\n",
       "  </tbody>\n",
       "</table>\n",
       "</div>"
      ],
      "text/plain": [
       "                   B         C\n",
       "2020-11-01 -0.339902 -0.996485\n",
       "2020-11-02  2.496005 -0.942824\n",
       "2020-11-03  0.715941 -1.832690\n",
       "2020-11-04  0.466425 -0.271732\n",
       "2020-11-05 -0.366261  0.370270\n",
       "2020-11-06  0.565144 -0.734308"
      ]
     },
     "execution_count": 18,
     "metadata": {},
     "output_type": "execute_result"
    }
   ],
   "source": [
    "df.iloc[:, 1:3]"
   ]
  },
  {
   "cell_type": "code",
   "execution_count": 19,
   "metadata": {},
   "outputs": [
    {
     "data": {
      "text/plain": [
       "DatetimeIndex(['2020-11-01', '2020-11-02', '2020-11-03', '2020-11-04',\n",
       "               '2020-11-05', '2020-11-06'],\n",
       "              dtype='datetime64[ns]', freq='D')"
      ]
     },
     "execution_count": 19,
     "metadata": {},
     "output_type": "execute_result"
    }
   ],
   "source": [
    "df.index"
   ]
  },
  {
   "cell_type": "code",
   "execution_count": 20,
   "metadata": {},
   "outputs": [
    {
     "data": {
      "text/html": [
       "<div>\n",
       "<style scoped>\n",
       "    .dataframe tbody tr th:only-of-type {\n",
       "        vertical-align: middle;\n",
       "    }\n",
       "\n",
       "    .dataframe tbody tr th {\n",
       "        vertical-align: top;\n",
       "    }\n",
       "\n",
       "    .dataframe thead th {\n",
       "        text-align: right;\n",
       "    }\n",
       "</style>\n",
       "<table border=\"1\" class=\"dataframe\">\n",
       "  <thead>\n",
       "    <tr style=\"text-align: right;\">\n",
       "      <th></th>\n",
       "      <th>A</th>\n",
       "      <th>B</th>\n",
       "      <th>C</th>\n",
       "      <th>D</th>\n",
       "    </tr>\n",
       "  </thead>\n",
       "  <tbody>\n",
       "    <tr>\n",
       "      <th>2020-11-03</th>\n",
       "      <td>0.749137</td>\n",
       "      <td>0.715941</td>\n",
       "      <td>-1.832690</td>\n",
       "      <td>1.673540</td>\n",
       "    </tr>\n",
       "    <tr>\n",
       "      <th>2020-11-04</th>\n",
       "      <td>-1.059865</td>\n",
       "      <td>0.466425</td>\n",
       "      <td>-0.271732</td>\n",
       "      <td>0.138424</td>\n",
       "    </tr>\n",
       "    <tr>\n",
       "      <th>2020-11-05</th>\n",
       "      <td>-1.476008</td>\n",
       "      <td>-0.366261</td>\n",
       "      <td>0.370270</td>\n",
       "      <td>-0.461485</td>\n",
       "    </tr>\n",
       "  </tbody>\n",
       "</table>\n",
       "</div>"
      ],
      "text/plain": [
       "                   A         B         C         D\n",
       "2020-11-03  0.749137  0.715941 -1.832690  1.673540\n",
       "2020-11-04 -1.059865  0.466425 -0.271732  0.138424\n",
       "2020-11-05 -1.476008 -0.366261  0.370270 -0.461485"
      ]
     },
     "execution_count": 20,
     "metadata": {},
     "output_type": "execute_result"
    }
   ],
   "source": [
    "df.loc['2020-11-3':'2020-11-5']"
   ]
  },
  {
   "cell_type": "markdown",
   "metadata": {},
   "source": [
    "# Boolean indexing"
   ]
  },
  {
   "cell_type": "markdown",
   "metadata": {},
   "source": [
    "Pandas also supports boolean indexing. With this feature we can select data based on conditions, complex or simple."
   ]
  },
  {
   "cell_type": "markdown",
   "metadata": {},
   "source": [
    "For example, we can obtain the boolean mask that satisfies the following condition:"
   ]
  },
  {
   "cell_type": "code",
   "execution_count": 21,
   "metadata": {},
   "outputs": [
    {
     "data": {
      "text/html": [
       "<div>\n",
       "<style scoped>\n",
       "    .dataframe tbody tr th:only-of-type {\n",
       "        vertical-align: middle;\n",
       "    }\n",
       "\n",
       "    .dataframe tbody tr th {\n",
       "        vertical-align: top;\n",
       "    }\n",
       "\n",
       "    .dataframe thead th {\n",
       "        text-align: right;\n",
       "    }\n",
       "</style>\n",
       "<table border=\"1\" class=\"dataframe\">\n",
       "  <thead>\n",
       "    <tr style=\"text-align: right;\">\n",
       "      <th></th>\n",
       "      <th>A</th>\n",
       "      <th>B</th>\n",
       "      <th>C</th>\n",
       "      <th>D</th>\n",
       "    </tr>\n",
       "  </thead>\n",
       "  <tbody>\n",
       "    <tr>\n",
       "      <th>2020-11-01</th>\n",
       "      <td>False</td>\n",
       "      <td>False</td>\n",
       "      <td>False</td>\n",
       "      <td>True</td>\n",
       "    </tr>\n",
       "    <tr>\n",
       "      <th>2020-11-02</th>\n",
       "      <td>True</td>\n",
       "      <td>True</td>\n",
       "      <td>False</td>\n",
       "      <td>False</td>\n",
       "    </tr>\n",
       "    <tr>\n",
       "      <th>2020-11-03</th>\n",
       "      <td>True</td>\n",
       "      <td>True</td>\n",
       "      <td>False</td>\n",
       "      <td>True</td>\n",
       "    </tr>\n",
       "    <tr>\n",
       "      <th>2020-11-04</th>\n",
       "      <td>False</td>\n",
       "      <td>True</td>\n",
       "      <td>False</td>\n",
       "      <td>True</td>\n",
       "    </tr>\n",
       "    <tr>\n",
       "      <th>2020-11-05</th>\n",
       "      <td>False</td>\n",
       "      <td>False</td>\n",
       "      <td>True</td>\n",
       "      <td>False</td>\n",
       "    </tr>\n",
       "    <tr>\n",
       "      <th>2020-11-06</th>\n",
       "      <td>False</td>\n",
       "      <td>True</td>\n",
       "      <td>False</td>\n",
       "      <td>False</td>\n",
       "    </tr>\n",
       "  </tbody>\n",
       "</table>\n",
       "</div>"
      ],
      "text/plain": [
       "                A      B      C      D\n",
       "2020-11-01  False  False  False   True\n",
       "2020-11-02   True   True  False  False\n",
       "2020-11-03   True   True  False   True\n",
       "2020-11-04  False   True  False   True\n",
       "2020-11-05  False  False   True  False\n",
       "2020-11-06  False   True  False  False"
      ]
     },
     "execution_count": 21,
     "metadata": {},
     "output_type": "execute_result"
    }
   ],
   "source": [
    "mask = df > 0\n",
    "mask"
   ]
  },
  {
   "cell_type": "code",
   "execution_count": 22,
   "metadata": {},
   "outputs": [
    {
     "data": {
      "text/html": [
       "<div>\n",
       "<style scoped>\n",
       "    .dataframe tbody tr th:only-of-type {\n",
       "        vertical-align: middle;\n",
       "    }\n",
       "\n",
       "    .dataframe tbody tr th {\n",
       "        vertical-align: top;\n",
       "    }\n",
       "\n",
       "    .dataframe thead th {\n",
       "        text-align: right;\n",
       "    }\n",
       "</style>\n",
       "<table border=\"1\" class=\"dataframe\">\n",
       "  <thead>\n",
       "    <tr style=\"text-align: right;\">\n",
       "      <th></th>\n",
       "      <th>A</th>\n",
       "      <th>B</th>\n",
       "      <th>C</th>\n",
       "      <th>D</th>\n",
       "    </tr>\n",
       "  </thead>\n",
       "  <tbody>\n",
       "    <tr>\n",
       "      <th>2020-11-01</th>\n",
       "      <td>NaN</td>\n",
       "      <td>NaN</td>\n",
       "      <td>NaN</td>\n",
       "      <td>0.145876</td>\n",
       "    </tr>\n",
       "    <tr>\n",
       "      <th>2020-11-02</th>\n",
       "      <td>0.611093</td>\n",
       "      <td>2.496005</td>\n",
       "      <td>NaN</td>\n",
       "      <td>NaN</td>\n",
       "    </tr>\n",
       "    <tr>\n",
       "      <th>2020-11-03</th>\n",
       "      <td>0.749137</td>\n",
       "      <td>0.715941</td>\n",
       "      <td>NaN</td>\n",
       "      <td>1.673540</td>\n",
       "    </tr>\n",
       "    <tr>\n",
       "      <th>2020-11-04</th>\n",
       "      <td>NaN</td>\n",
       "      <td>0.466425</td>\n",
       "      <td>NaN</td>\n",
       "      <td>0.138424</td>\n",
       "    </tr>\n",
       "    <tr>\n",
       "      <th>2020-11-05</th>\n",
       "      <td>NaN</td>\n",
       "      <td>NaN</td>\n",
       "      <td>0.37027</td>\n",
       "      <td>NaN</td>\n",
       "    </tr>\n",
       "    <tr>\n",
       "      <th>2020-11-06</th>\n",
       "      <td>NaN</td>\n",
       "      <td>0.565144</td>\n",
       "      <td>NaN</td>\n",
       "      <td>NaN</td>\n",
       "    </tr>\n",
       "  </tbody>\n",
       "</table>\n",
       "</div>"
      ],
      "text/plain": [
       "                   A         B        C         D\n",
       "2020-11-01       NaN       NaN      NaN  0.145876\n",
       "2020-11-02  0.611093  2.496005      NaN       NaN\n",
       "2020-11-03  0.749137  0.715941      NaN  1.673540\n",
       "2020-11-04       NaN  0.466425      NaN  0.138424\n",
       "2020-11-05       NaN       NaN  0.37027       NaN\n",
       "2020-11-06       NaN  0.565144      NaN       NaN"
      ]
     },
     "execution_count": 22,
     "metadata": {},
     "output_type": "execute_result"
    }
   ],
   "source": [
    "df[mask]"
   ]
  },
  {
   "cell_type": "markdown",
   "metadata": {},
   "source": [
    "We can also apply these conditions over a subset of the data. For example, we can get all the values that satisfy the next constraint:"
   ]
  },
  {
   "cell_type": "code",
   "execution_count": 23,
   "metadata": {},
   "outputs": [
    {
     "data": {
      "text/html": [
       "<div>\n",
       "<style scoped>\n",
       "    .dataframe tbody tr th:only-of-type {\n",
       "        vertical-align: middle;\n",
       "    }\n",
       "\n",
       "    .dataframe tbody tr th {\n",
       "        vertical-align: top;\n",
       "    }\n",
       "\n",
       "    .dataframe thead th {\n",
       "        text-align: right;\n",
       "    }\n",
       "</style>\n",
       "<table border=\"1\" class=\"dataframe\">\n",
       "  <thead>\n",
       "    <tr style=\"text-align: right;\">\n",
       "      <th></th>\n",
       "      <th>A</th>\n",
       "      <th>B</th>\n",
       "      <th>C</th>\n",
       "      <th>D</th>\n",
       "    </tr>\n",
       "  </thead>\n",
       "  <tbody>\n",
       "    <tr>\n",
       "      <th>2020-11-02</th>\n",
       "      <td>0.611093</td>\n",
       "      <td>2.496005</td>\n",
       "      <td>-0.942824</td>\n",
       "      <td>-1.15110</td>\n",
       "    </tr>\n",
       "    <tr>\n",
       "      <th>2020-11-03</th>\n",
       "      <td>0.749137</td>\n",
       "      <td>0.715941</td>\n",
       "      <td>-1.832690</td>\n",
       "      <td>1.67354</td>\n",
       "    </tr>\n",
       "  </tbody>\n",
       "</table>\n",
       "</div>"
      ],
      "text/plain": [
       "                   A         B         C        D\n",
       "2020-11-02  0.611093  2.496005 -0.942824 -1.15110\n",
       "2020-11-03  0.749137  0.715941 -1.832690  1.67354"
      ]
     },
     "execution_count": 23,
     "metadata": {},
     "output_type": "execute_result"
    }
   ],
   "source": [
    "df[df['A'] > 0]"
   ]
  },
  {
   "cell_type": "markdown",
   "metadata": {},
   "source": [
    "And of course the logical operators (and, or, exclusive-or) are supported:"
   ]
  },
  {
   "cell_type": "code",
   "execution_count": 24,
   "metadata": {},
   "outputs": [
    {
     "data": {
      "text/html": [
       "<div>\n",
       "<style scoped>\n",
       "    .dataframe tbody tr th:only-of-type {\n",
       "        vertical-align: middle;\n",
       "    }\n",
       "\n",
       "    .dataframe tbody tr th {\n",
       "        vertical-align: top;\n",
       "    }\n",
       "\n",
       "    .dataframe thead th {\n",
       "        text-align: right;\n",
       "    }\n",
       "</style>\n",
       "<table border=\"1\" class=\"dataframe\">\n",
       "  <thead>\n",
       "    <tr style=\"text-align: right;\">\n",
       "      <th></th>\n",
       "      <th>A</th>\n",
       "      <th>B</th>\n",
       "      <th>C</th>\n",
       "      <th>D</th>\n",
       "    </tr>\n",
       "  </thead>\n",
       "  <tbody>\n",
       "  </tbody>\n",
       "</table>\n",
       "</div>"
      ],
      "text/plain": [
       "Empty DataFrame\n",
       "Columns: [A, B, C, D]\n",
       "Index: []"
      ]
     },
     "execution_count": 24,
     "metadata": {},
     "output_type": "execute_result"
    }
   ],
   "source": [
    "df[(df['A'] > 0) & (df['C'] > 0)]"
   ]
  },
  {
   "cell_type": "markdown",
   "metadata": {},
   "source": [
    "# Missing data"
   ]
  },
  {
   "cell_type": "markdown",
   "metadata": {},
   "source": [
    "Pandas can handle missing values without hassle. Given the Series introduced at the beginning of the notebook which contains one missing value:"
   ]
  },
  {
   "cell_type": "code",
   "execution_count": 25,
   "metadata": {},
   "outputs": [
    {
     "data": {
      "text/plain": [
       "0    1.0\n",
       "1    3.0\n",
       "2    5.0\n",
       "3    NaN\n",
       "4    6.0\n",
       "5    8.0\n",
       "dtype: float64"
      ]
     },
     "execution_count": 25,
     "metadata": {},
     "output_type": "execute_result"
    }
   ],
   "source": [
    "s"
   ]
  },
  {
   "cell_type": "markdown",
   "metadata": {},
   "source": [
    "We can obtain which values are missing (NaN):"
   ]
  },
  {
   "cell_type": "code",
   "execution_count": 26,
   "metadata": {},
   "outputs": [
    {
     "data": {
      "text/plain": [
       "0    False\n",
       "1    False\n",
       "2    False\n",
       "3     True\n",
       "4    False\n",
       "5    False\n",
       "dtype: bool"
      ]
     },
     "execution_count": 26,
     "metadata": {},
     "output_type": "execute_result"
    }
   ],
   "source": [
    "pd.isna(s)"
   ]
  },
  {
   "cell_type": "markdown",
   "metadata": {},
   "source": [
    "As we stated previously Pandas allows boolean indexing..."
   ]
  },
  {
   "cell_type": "code",
   "execution_count": 27,
   "metadata": {},
   "outputs": [
    {
     "data": {
      "text/plain": [
       "3   NaN\n",
       "dtype: float64"
      ]
     },
     "execution_count": 27,
     "metadata": {},
     "output_type": "execute_result"
    }
   ],
   "source": [
    "s[pd.isna(s)]"
   ]
  },
  {
   "cell_type": "markdown",
   "metadata": {},
   "source": [
    "At this point we are left with three choices: do nothing, delete the missing values or replace them with a value. The first one is not an issue and with Pandas neither of them are."
   ]
  },
  {
   "cell_type": "markdown",
   "metadata": {},
   "source": [
    "We can easily delete them:"
   ]
  },
  {
   "cell_type": "code",
   "execution_count": 28,
   "metadata": {},
   "outputs": [
    {
     "data": {
      "text/plain": [
       "0    1.0\n",
       "1    3.0\n",
       "2    5.0\n",
       "4    6.0\n",
       "5    8.0\n",
       "dtype: float64"
      ]
     },
     "execution_count": 28,
     "metadata": {},
     "output_type": "execute_result"
    }
   ],
   "source": [
    "s.dropna(how='any')"
   ]
  },
  {
   "cell_type": "markdown",
   "metadata": {},
   "source": [
    "Or replace it with another value, in this case 5, but Pandas offers multiple options: previous/next valid value, mean or whichever function we pass to the `fillna` method."
   ]
  },
  {
   "cell_type": "code",
   "execution_count": 29,
   "metadata": {},
   "outputs": [
    {
     "data": {
      "text/plain": [
       "0    1.0\n",
       "1    3.0\n",
       "2    5.0\n",
       "3    5.0\n",
       "4    6.0\n",
       "5    8.0\n",
       "dtype: float64"
      ]
     },
     "execution_count": 29,
     "metadata": {},
     "output_type": "execute_result"
    }
   ],
   "source": [
    "s.fillna(value=5)"
   ]
  },
  {
   "cell_type": "markdown",
   "metadata": {},
   "source": [
    "# Plotting"
   ]
  },
  {
   "cell_type": "markdown",
   "metadata": {},
   "source": [
    "Pandas offers a shortcut to `matplotlib` so we can easily plot our data with the call of a method. Let's build a random time series dataset and plot it."
   ]
  },
  {
   "cell_type": "code",
   "execution_count": 30,
   "metadata": {},
   "outputs": [],
   "source": [
    "ts = pd.Series(np.random.randn(1000), index=pd.date_range('11/1/2020', periods=1000))\n",
    "ts = ts.cumsum()"
   ]
  },
  {
   "cell_type": "markdown",
   "metadata": {},
   "source": [
    "The default plot type is the `line` plot, perfect for the data at hand."
   ]
  },
  {
   "cell_type": "code",
   "execution_count": 31,
   "metadata": {},
   "outputs": [
    {
     "data": {
      "text/plain": [
       "<AxesSubplot:>"
      ]
     },
     "execution_count": 31,
     "metadata": {},
     "output_type": "execute_result"
    },
    {
     "data": {
      "image/png": "[encoded data removed]",
      "text/plain": [
       "<Figure size 432x288 with 1 Axes>"
      ]
     },
     "metadata": {
      "needs_background": "light"
     },
     "output_type": "display_data"
    }
   ],
   "source": [
    "ts.plot()"
   ]
  },
  {
   "cell_type": "markdown",
   "metadata": {},
   "source": [
    "We can also plot multivariate data and Pandas will handle the labels, legends, colors..."
   ]
  },
  {
   "cell_type": "code",
   "execution_count": 32,
   "metadata": {},
   "outputs": [
    {
     "data": {
      "text/plain": [
       "<AxesSubplot:>"
      ]
     },
     "execution_count": 32,
     "metadata": {},
     "output_type": "execute_result"
    },
    {
     "data": {
      "image/png": "[encoded data removed]",
      "text/plain": [
       "<Figure size 432x288 with 1 Axes>"
      ]
     },
     "metadata": {
      "needs_background": "light"
     },
     "output_type": "display_data"
    }
   ],
   "source": [
    "df.plot()"
   ]
  },
  {
   "cell_type": "markdown",
   "metadata": {},
   "source": [
    "Or change the plot type:"
   ]
  },
  {
   "cell_type": "code",
   "execution_count": 33,
   "metadata": {},
   "outputs": [
    {
     "data": {
      "text/plain": [
       "<AxesSubplot:>"
      ]
     },
     "execution_count": 33,
     "metadata": {},
     "output_type": "execute_result"
    },
    {
     "data": {
      "image/png": "[encoded data removed]",
      "text/plain": [
       "<Figure size 432x288 with 1 Axes>"
      ]
     },
     "metadata": {
      "needs_background": "light"
     },
     "output_type": "display_data"
    }
   ],
   "source": [
    "df.plot(kind='bar')"
   ]
  },
  {
   "cell_type": "markdown",
   "metadata": {},
   "source": [
    "# Correlation \"plot\""
   ]
  },
  {
   "cell_type": "markdown",
   "metadata": {},
   "source": [
    "In some cases we don't even need to use the binding with Matplotlib. For example, another usual plot we can make with Pandas and Pandas alone is the correlation plot."
   ]
  },
  {
   "cell_type": "code",
   "execution_count": 34,
   "metadata": {},
   "outputs": [
    {
     "data": {
      "text/html": [
       "<div>\n",
       "<style scoped>\n",
       "    .dataframe tbody tr th:only-of-type {\n",
       "        vertical-align: middle;\n",
       "    }\n",
       "\n",
       "    .dataframe tbody tr th {\n",
       "        vertical-align: top;\n",
       "    }\n",
       "\n",
       "    .dataframe thead th {\n",
       "        text-align: right;\n",
       "    }\n",
       "</style>\n",
       "<table border=\"1\" class=\"dataframe\">\n",
       "  <thead>\n",
       "    <tr style=\"text-align: right;\">\n",
       "      <th></th>\n",
       "      <th>A</th>\n",
       "      <th>B</th>\n",
       "      <th>C</th>\n",
       "      <th>D</th>\n",
       "    </tr>\n",
       "  </thead>\n",
       "  <tbody>\n",
       "    <tr>\n",
       "      <th>A</th>\n",
       "      <td>1.000000</td>\n",
       "      <td>0.695958</td>\n",
       "      <td>-0.632552</td>\n",
       "      <td>0.317781</td>\n",
       "    </tr>\n",
       "    <tr>\n",
       "      <th>B</th>\n",
       "      <td>0.695958</td>\n",
       "      <td>1.000000</td>\n",
       "      <td>-0.363050</td>\n",
       "      <td>-0.334276</td>\n",
       "    </tr>\n",
       "    <tr>\n",
       "      <th>C</th>\n",
       "      <td>-0.632552</td>\n",
       "      <td>-0.363050</td>\n",
       "      <td>1.000000</td>\n",
       "      <td>-0.582019</td>\n",
       "    </tr>\n",
       "    <tr>\n",
       "      <th>D</th>\n",
       "      <td>0.317781</td>\n",
       "      <td>-0.334276</td>\n",
       "      <td>-0.582019</td>\n",
       "      <td>1.000000</td>\n",
       "    </tr>\n",
       "  </tbody>\n",
       "</table>\n",
       "</div>"
      ],
      "text/plain": [
       "          A         B         C         D\n",
       "A  1.000000  0.695958 -0.632552  0.317781\n",
       "B  0.695958  1.000000 -0.363050 -0.334276\n",
       "C -0.632552 -0.363050  1.000000 -0.582019\n",
       "D  0.317781 -0.334276 -0.582019  1.000000"
      ]
     },
     "execution_count": 34,
     "metadata": {},
     "output_type": "execute_result"
    }
   ],
   "source": [
    "df_corr = df.corr()\n",
    "df_corr"
   ]
  },
  {
   "cell_type": "markdown",
   "metadata": {},
   "source": [
    "Pandas supports styles (even with HTML and CSS) so creating a colored correlation plot is really easy."
   ]
  },
  {
   "cell_type": "code",
   "execution_count": 35,
   "metadata": {},
   "outputs": [
    {
     "data": {
      "text/html": [
       "<style  type=\"text/css\" >\n",
       "#T_72ef1_row0_col0,#T_72ef1_row1_col1,#T_72ef1_row2_col2,#T_72ef1_row3_col3{\n",
       "            background-color:  #b40426;\n",
       "            color:  #f1f1f1;\n",
       "        }#T_72ef1_row0_col1,#T_72ef1_row1_col0{\n",
       "            background-color:  #eb7d62;\n",
       "            color:  #000000;\n",
       "        }#T_72ef1_row0_col2,#T_72ef1_row2_col0{\n",
       "            background-color:  #3b4cc0;\n",
       "            color:  #f1f1f1;\n",
       "        }#T_72ef1_row0_col3,#T_72ef1_row3_col0{\n",
       "            background-color:  #efcebd;\n",
       "            color:  #000000;\n",
       "        }#T_72ef1_row1_col2,#T_72ef1_row2_col1{\n",
       "            background-color:  #6f92f3;\n",
       "            color:  #000000;\n",
       "        }#T_72ef1_row1_col3,#T_72ef1_row3_col1{\n",
       "            background-color:  #7597f6;\n",
       "            color:  #000000;\n",
       "        }#T_72ef1_row2_col3,#T_72ef1_row3_col2{\n",
       "            background-color:  #4358cb;\n",
       "            color:  #f1f1f1;\n",
       "        }</style><table id=\"T_72ef1_\" ><thead>    <tr>        <th class=\"blank level0\" ></th>        <th class=\"col_heading level0 col0\" >A</th>        <th class=\"col_heading level0 col1\" >B</th>        <th class=\"col_heading level0 col2\" >C</th>        <th class=\"col_heading level0 col3\" >D</th>    </tr></thead><tbody>\n",
       "                <tr>\n",
       "                        <th id=\"T_72ef1_level0_row0\" class=\"row_heading level0 row0\" >A</th>\n",
       "                        <td id=\"T_72ef1_row0_col0\" class=\"data row0 col0\" >1.00</td>\n",
       "                        <td id=\"T_72ef1_row0_col1\" class=\"data row0 col1\" >0.70</td>\n",
       "                        <td id=\"T_72ef1_row0_col2\" class=\"data row0 col2\" >-0.63</td>\n",
       "                        <td id=\"T_72ef1_row0_col3\" class=\"data row0 col3\" >0.32</td>\n",
       "            </tr>\n",
       "            <tr>\n",
       "                        <th id=\"T_72ef1_level0_row1\" class=\"row_heading level0 row1\" >B</th>\n",
       "                        <td id=\"T_72ef1_row1_col0\" class=\"data row1 col0\" >0.70</td>\n",
       "                        <td id=\"T_72ef1_row1_col1\" class=\"data row1 col1\" >1.00</td>\n",
       "                        <td id=\"T_72ef1_row1_col2\" class=\"data row1 col2\" >-0.36</td>\n",
       "                        <td id=\"T_72ef1_row1_col3\" class=\"data row1 col3\" >-0.33</td>\n",
       "            </tr>\n",
       "            <tr>\n",
       "                        <th id=\"T_72ef1_level0_row2\" class=\"row_heading level0 row2\" >C</th>\n",
       "                        <td id=\"T_72ef1_row2_col0\" class=\"data row2 col0\" >-0.63</td>\n",
       "                        <td id=\"T_72ef1_row2_col1\" class=\"data row2 col1\" >-0.36</td>\n",
       "                        <td id=\"T_72ef1_row2_col2\" class=\"data row2 col2\" >1.00</td>\n",
       "                        <td id=\"T_72ef1_row2_col3\" class=\"data row2 col3\" >-0.58</td>\n",
       "            </tr>\n",
       "            <tr>\n",
       "                        <th id=\"T_72ef1_level0_row3\" class=\"row_heading level0 row3\" >D</th>\n",
       "                        <td id=\"T_72ef1_row3_col0\" class=\"data row3 col0\" >0.32</td>\n",
       "                        <td id=\"T_72ef1_row3_col1\" class=\"data row3 col1\" >-0.33</td>\n",
       "                        <td id=\"T_72ef1_row3_col2\" class=\"data row3 col2\" >-0.58</td>\n",
       "                        <td id=\"T_72ef1_row3_col3\" class=\"data row3 col3\" >1.00</td>\n",
       "            </tr>\n",
       "    </tbody></table>"
      ],
      "text/plain": [
       "<pandas.io.formats.style.Styler at 0x1248d4d3190>"
      ]
     },
     "execution_count": 35,
     "metadata": {},
     "output_type": "execute_result"
    }
   ],
   "source": [
    "df_corr.style.background_gradient(cmap='coolwarm', axis=None).set_precision(2)"
   ]
  },
  {
   "cell_type": "markdown",
   "metadata": {},
   "source": [
    "# Data reading"
   ]
  },
  {
   "cell_type": "markdown",
   "metadata": {},
   "source": [
    "And if you are wondering Pandas can also read (and write) from multiple file types: CSV, Excel, HDF5, Parquet... Let's load the SDSS (Sloan Digital Sky Survey) dataset from https://www.sdss.org/."
   ]
  },
  {
   "cell_type": "code",
   "execution_count": 36,
   "metadata": {},
   "outputs": [],
   "source": [
    "df =  pd.read_csv('data/sdss.csv')\n",
    "_ = df.pop('objid')"
   ]
  },
  {
   "cell_type": "markdown",
   "metadata": {},
   "source": [
    "But this is not all about Pandas. Pandas is a huge library which offers endless resources to handle our data. Do not forget to visit the official documentation to take a glance of all that Pandas has to offer: https://pandas.pydata.org/docs/reference/index.html#api"
   ]
  },
  {
   "cell_type": "markdown",
   "metadata": {},
   "source": [
    "# EDA (Exploratory Data Analysis)"
   ]
  },
  {
   "cell_type": "markdown",
   "metadata": {},
   "source": [
    "We can start by taking a peek at the head of the data to get a notion of the data at hand. The data consists of 10000 observations of space taken by the SDSS (Sloan Digital Sky Survey). Every observation is described by 17 feature columns and 1 class column which identifies it to be either a star, galaxy or quasar.\n",
    "\n",
    "Data from: https://www.sdss.org/\n",
    "\n",
    "The Sloan Digital Sky Survey has created the most detailed three-dimensional maps of the Universe ever made, with deep multi-color images of one third of the sky, and spectra for more than three million astronomical objects. Learn and explore all phases and surveys—past, present, and future—of the SDSS.\n"
   ]
  },
  {
   "cell_type": "code",
   "execution_count": 37,
   "metadata": {},
   "outputs": [
    {
     "data": {
      "text/html": [
       "<div>\n",
       "<style scoped>\n",
       "    .dataframe tbody tr th:only-of-type {\n",
       "        vertical-align: middle;\n",
       "    }\n",
       "\n",
       "    .dataframe tbody tr th {\n",
       "        vertical-align: top;\n",
       "    }\n",
       "\n",
       "    .dataframe thead th {\n",
       "        text-align: right;\n",
       "    }\n",
       "</style>\n",
       "<table border=\"1\" class=\"dataframe\">\n",
       "  <thead>\n",
       "    <tr style=\"text-align: right;\">\n",
       "      <th></th>\n",
       "      <th>ra</th>\n",
       "      <th>dec</th>\n",
       "      <th>u</th>\n",
       "      <th>g</th>\n",
       "      <th>r</th>\n",
       "      <th>i</th>\n",
       "      <th>z</th>\n",
       "      <th>run</th>\n",
       "      <th>rerun</th>\n",
       "      <th>camcol</th>\n",
       "      <th>field</th>\n",
       "      <th>specobjid</th>\n",
       "      <th>class</th>\n",
       "      <th>redshift</th>\n",
       "      <th>plate</th>\n",
       "      <th>mjd</th>\n",
       "      <th>fiberid</th>\n",
       "    </tr>\n",
       "  </thead>\n",
       "  <tbody>\n",
       "    <tr>\n",
       "      <th>0</th>\n",
       "      <td>183.531326</td>\n",
       "      <td>0.089693</td>\n",
       "      <td>19.47406</td>\n",
       "      <td>17.04240</td>\n",
       "      <td>15.94699</td>\n",
       "      <td>15.50342</td>\n",
       "      <td>15.22531</td>\n",
       "      <td>752</td>\n",
       "      <td>301</td>\n",
       "      <td>4</td>\n",
       "      <td>267</td>\n",
       "      <td>3722360139651588096</td>\n",
       "      <td>STAR</td>\n",
       "      <td>-0.000009</td>\n",
       "      <td>3306</td>\n",
       "      <td>54922</td>\n",
       "      <td>491</td>\n",
       "    </tr>\n",
       "    <tr>\n",
       "      <th>1</th>\n",
       "      <td>183.598371</td>\n",
       "      <td>0.135285</td>\n",
       "      <td>18.66280</td>\n",
       "      <td>17.21449</td>\n",
       "      <td>16.67637</td>\n",
       "      <td>16.48922</td>\n",
       "      <td>16.39150</td>\n",
       "      <td>752</td>\n",
       "      <td>301</td>\n",
       "      <td>4</td>\n",
       "      <td>267</td>\n",
       "      <td>363814405953054720</td>\n",
       "      <td>STAR</td>\n",
       "      <td>-0.000055</td>\n",
       "      <td>323</td>\n",
       "      <td>51615</td>\n",
       "      <td>541</td>\n",
       "    </tr>\n",
       "    <tr>\n",
       "      <th>2</th>\n",
       "      <td>183.680207</td>\n",
       "      <td>0.126185</td>\n",
       "      <td>19.38298</td>\n",
       "      <td>18.19169</td>\n",
       "      <td>17.47428</td>\n",
       "      <td>17.08732</td>\n",
       "      <td>16.80125</td>\n",
       "      <td>752</td>\n",
       "      <td>301</td>\n",
       "      <td>4</td>\n",
       "      <td>268</td>\n",
       "      <td>323274319570429952</td>\n",
       "      <td>GALAXY</td>\n",
       "      <td>0.123111</td>\n",
       "      <td>287</td>\n",
       "      <td>52023</td>\n",
       "      <td>513</td>\n",
       "    </tr>\n",
       "    <tr>\n",
       "      <th>3</th>\n",
       "      <td>183.870529</td>\n",
       "      <td>0.049911</td>\n",
       "      <td>17.76536</td>\n",
       "      <td>16.60272</td>\n",
       "      <td>16.16116</td>\n",
       "      <td>15.98233</td>\n",
       "      <td>15.90438</td>\n",
       "      <td>752</td>\n",
       "      <td>301</td>\n",
       "      <td>4</td>\n",
       "      <td>269</td>\n",
       "      <td>3722365362331820032</td>\n",
       "      <td>STAR</td>\n",
       "      <td>-0.000111</td>\n",
       "      <td>3306</td>\n",
       "      <td>54922</td>\n",
       "      <td>510</td>\n",
       "    </tr>\n",
       "    <tr>\n",
       "      <th>4</th>\n",
       "      <td>183.883288</td>\n",
       "      <td>0.102557</td>\n",
       "      <td>17.55025</td>\n",
       "      <td>16.26342</td>\n",
       "      <td>16.43869</td>\n",
       "      <td>16.55492</td>\n",
       "      <td>16.61326</td>\n",
       "      <td>752</td>\n",
       "      <td>301</td>\n",
       "      <td>4</td>\n",
       "      <td>269</td>\n",
       "      <td>3722365912087633920</td>\n",
       "      <td>STAR</td>\n",
       "      <td>0.000590</td>\n",
       "      <td>3306</td>\n",
       "      <td>54922</td>\n",
       "      <td>512</td>\n",
       "    </tr>\n",
       "  </tbody>\n",
       "</table>\n",
       "</div>"
      ],
      "text/plain": [
       "           ra       dec         u         g         r         i         z  \\\n",
       "0  183.531326  0.089693  19.47406  17.04240  15.94699  15.50342  15.22531   \n",
       "1  183.598371  0.135285  18.66280  17.21449  16.67637  16.48922  16.39150   \n",
       "2  183.680207  0.126185  19.38298  18.19169  17.47428  17.08732  16.80125   \n",
       "3  183.870529  0.049911  17.76536  16.60272  16.16116  15.98233  15.90438   \n",
       "4  183.883288  0.102557  17.55025  16.26342  16.43869  16.55492  16.61326   \n",
       "\n",
       "   run  rerun  camcol  field            specobjid   class  redshift  plate  \\\n",
       "0  752    301       4    267  3722360139651588096    STAR -0.000009   3306   \n",
       "1  752    301       4    267   363814405953054720    STAR -0.000055    323   \n",
       "2  752    301       4    268   323274319570429952  GALAXY  0.123111    287   \n",
       "3  752    301       4    269  3722365362331820032    STAR -0.000111   3306   \n",
       "4  752    301       4    269  3722365912087633920    STAR  0.000590   3306   \n",
       "\n",
       "     mjd  fiberid  \n",
       "0  54922      491  \n",
       "1  51615      541  \n",
       "2  52023      513  \n",
       "3  54922      510  \n",
       "4  54922      512  "
      ]
     },
     "execution_count": 37,
     "metadata": {},
     "output_type": "execute_result"
    }
   ],
   "source": [
    "df.head()"
   ]
  },
  {
   "cell_type": "markdown",
   "metadata": {},
   "source": [
    "The columns description is as follows:\n",
    "* `ra`: right ascension.\n",
    "* `dec`: declination.\n",
    "* `u`: ultraviolet.\n",
    "* `g`: green.\n",
    "* `r`: red.\n",
    "* `i`: near infrared.\n",
    "* `z`: infrared.\n",
    "* `run`: run number.\n",
    "* `rerun`: rerun number.\n",
    "* `camcol`: camera column.\n",
    "* `field`: field number.\n",
    "* `specobjid`: object Identifier.\n",
    "* `class`: object class (galaxy, star or quasar).\n",
    "* `redshift`: final redshift.\n",
    "* `plate`: plate number.\n",
    "* `mjd`: MJD of observation.\n",
    "* `fiberid`: fiber ID.\n"
   ]
  },
  {
   "cell_type": "code",
   "execution_count": 38,
   "metadata": {},
   "outputs": [],
   "source": [
    "df.describe()\n",
    "df_nan = df.mask(np.random.random(df.shape) < .05)"
   ]
  },
  {
   "cell_type": "markdown",
   "metadata": {},
   "source": [
    "After knowing a bit about the data we can check for missing values:"
   ]
  },
  {
   "cell_type": "code",
   "execution_count": 39,
   "metadata": {},
   "outputs": [
    {
     "data": {
      "text/html": [
       "<div>\n",
       "<style scoped>\n",
       "    .dataframe tbody tr th:only-of-type {\n",
       "        vertical-align: middle;\n",
       "    }\n",
       "\n",
       "    .dataframe tbody tr th {\n",
       "        vertical-align: top;\n",
       "    }\n",
       "\n",
       "    .dataframe thead th {\n",
       "        text-align: right;\n",
       "    }\n",
       "</style>\n",
       "<table border=\"1\" class=\"dataframe\">\n",
       "  <thead>\n",
       "    <tr style=\"text-align: right;\">\n",
       "      <th></th>\n",
       "      <th>ra</th>\n",
       "      <th>dec</th>\n",
       "      <th>u</th>\n",
       "      <th>g</th>\n",
       "      <th>r</th>\n",
       "      <th>i</th>\n",
       "      <th>z</th>\n",
       "      <th>run</th>\n",
       "      <th>rerun</th>\n",
       "      <th>camcol</th>\n",
       "      <th>field</th>\n",
       "      <th>specobjid</th>\n",
       "      <th>class</th>\n",
       "      <th>redshift</th>\n",
       "      <th>plate</th>\n",
       "      <th>mjd</th>\n",
       "      <th>fiberid</th>\n",
       "    </tr>\n",
       "  </thead>\n",
       "  <tbody>\n",
       "    <tr>\n",
       "      <th>0</th>\n",
       "      <td>False</td>\n",
       "      <td>False</td>\n",
       "      <td>False</td>\n",
       "      <td>False</td>\n",
       "      <td>False</td>\n",
       "      <td>False</td>\n",
       "      <td>False</td>\n",
       "      <td>False</td>\n",
       "      <td>False</td>\n",
       "      <td>False</td>\n",
       "      <td>False</td>\n",
       "      <td>False</td>\n",
       "      <td>False</td>\n",
       "      <td>False</td>\n",
       "      <td>False</td>\n",
       "      <td>False</td>\n",
       "      <td>False</td>\n",
       "    </tr>\n",
       "    <tr>\n",
       "      <th>1</th>\n",
       "      <td>False</td>\n",
       "      <td>False</td>\n",
       "      <td>False</td>\n",
       "      <td>False</td>\n",
       "      <td>True</td>\n",
       "      <td>False</td>\n",
       "      <td>False</td>\n",
       "      <td>False</td>\n",
       "      <td>False</td>\n",
       "      <td>False</td>\n",
       "      <td>False</td>\n",
       "      <td>False</td>\n",
       "      <td>False</td>\n",
       "      <td>False</td>\n",
       "      <td>False</td>\n",
       "      <td>False</td>\n",
       "      <td>False</td>\n",
       "    </tr>\n",
       "    <tr>\n",
       "      <th>2</th>\n",
       "      <td>False</td>\n",
       "      <td>False</td>\n",
       "      <td>False</td>\n",
       "      <td>False</td>\n",
       "      <td>False</td>\n",
       "      <td>False</td>\n",
       "      <td>False</td>\n",
       "      <td>False</td>\n",
       "      <td>False</td>\n",
       "      <td>False</td>\n",
       "      <td>False</td>\n",
       "      <td>False</td>\n",
       "      <td>False</td>\n",
       "      <td>False</td>\n",
       "      <td>False</td>\n",
       "      <td>False</td>\n",
       "      <td>False</td>\n",
       "    </tr>\n",
       "    <tr>\n",
       "      <th>3</th>\n",
       "      <td>False</td>\n",
       "      <td>False</td>\n",
       "      <td>False</td>\n",
       "      <td>False</td>\n",
       "      <td>False</td>\n",
       "      <td>False</td>\n",
       "      <td>False</td>\n",
       "      <td>False</td>\n",
       "      <td>False</td>\n",
       "      <td>False</td>\n",
       "      <td>False</td>\n",
       "      <td>False</td>\n",
       "      <td>False</td>\n",
       "      <td>False</td>\n",
       "      <td>False</td>\n",
       "      <td>True</td>\n",
       "      <td>False</td>\n",
       "    </tr>\n",
       "    <tr>\n",
       "      <th>4</th>\n",
       "      <td>False</td>\n",
       "      <td>False</td>\n",
       "      <td>False</td>\n",
       "      <td>False</td>\n",
       "      <td>True</td>\n",
       "      <td>False</td>\n",
       "      <td>False</td>\n",
       "      <td>False</td>\n",
       "      <td>False</td>\n",
       "      <td>False</td>\n",
       "      <td>False</td>\n",
       "      <td>False</td>\n",
       "      <td>True</td>\n",
       "      <td>False</td>\n",
       "      <td>False</td>\n",
       "      <td>False</td>\n",
       "      <td>False</td>\n",
       "    </tr>\n",
       "    <tr>\n",
       "      <th>...</th>\n",
       "      <td>...</td>\n",
       "      <td>...</td>\n",
       "      <td>...</td>\n",
       "      <td>...</td>\n",
       "      <td>...</td>\n",
       "      <td>...</td>\n",
       "      <td>...</td>\n",
       "      <td>...</td>\n",
       "      <td>...</td>\n",
       "      <td>...</td>\n",
       "      <td>...</td>\n",
       "      <td>...</td>\n",
       "      <td>...</td>\n",
       "      <td>...</td>\n",
       "      <td>...</td>\n",
       "      <td>...</td>\n",
       "      <td>...</td>\n",
       "    </tr>\n",
       "    <tr>\n",
       "      <th>9995</th>\n",
       "      <td>False</td>\n",
       "      <td>False</td>\n",
       "      <td>False</td>\n",
       "      <td>False</td>\n",
       "      <td>False</td>\n",
       "      <td>False</td>\n",
       "      <td>False</td>\n",
       "      <td>True</td>\n",
       "      <td>False</td>\n",
       "      <td>False</td>\n",
       "      <td>False</td>\n",
       "      <td>False</td>\n",
       "      <td>False</td>\n",
       "      <td>False</td>\n",
       "      <td>False</td>\n",
       "      <td>False</td>\n",
       "      <td>False</td>\n",
       "    </tr>\n",
       "    <tr>\n",
       "      <th>9996</th>\n",
       "      <td>False</td>\n",
       "      <td>False</td>\n",
       "      <td>False</td>\n",
       "      <td>False</td>\n",
       "      <td>False</td>\n",
       "      <td>False</td>\n",
       "      <td>False</td>\n",
       "      <td>False</td>\n",
       "      <td>False</td>\n",
       "      <td>False</td>\n",
       "      <td>False</td>\n",
       "      <td>False</td>\n",
       "      <td>False</td>\n",
       "      <td>False</td>\n",
       "      <td>False</td>\n",
       "      <td>False</td>\n",
       "      <td>False</td>\n",
       "    </tr>\n",
       "    <tr>\n",
       "      <th>9997</th>\n",
       "      <td>False</td>\n",
       "      <td>False</td>\n",
       "      <td>False</td>\n",
       "      <td>False</td>\n",
       "      <td>False</td>\n",
       "      <td>False</td>\n",
       "      <td>False</td>\n",
       "      <td>False</td>\n",
       "      <td>False</td>\n",
       "      <td>False</td>\n",
       "      <td>False</td>\n",
       "      <td>False</td>\n",
       "      <td>False</td>\n",
       "      <td>False</td>\n",
       "      <td>False</td>\n",
       "      <td>False</td>\n",
       "      <td>False</td>\n",
       "    </tr>\n",
       "    <tr>\n",
       "      <th>9998</th>\n",
       "      <td>False</td>\n",
       "      <td>False</td>\n",
       "      <td>False</td>\n",
       "      <td>False</td>\n",
       "      <td>False</td>\n",
       "      <td>False</td>\n",
       "      <td>False</td>\n",
       "      <td>False</td>\n",
       "      <td>False</td>\n",
       "      <td>False</td>\n",
       "      <td>False</td>\n",
       "      <td>False</td>\n",
       "      <td>False</td>\n",
       "      <td>False</td>\n",
       "      <td>False</td>\n",
       "      <td>False</td>\n",
       "      <td>False</td>\n",
       "    </tr>\n",
       "    <tr>\n",
       "      <th>9999</th>\n",
       "      <td>False</td>\n",
       "      <td>False</td>\n",
       "      <td>False</td>\n",
       "      <td>False</td>\n",
       "      <td>False</td>\n",
       "      <td>False</td>\n",
       "      <td>False</td>\n",
       "      <td>False</td>\n",
       "      <td>False</td>\n",
       "      <td>False</td>\n",
       "      <td>False</td>\n",
       "      <td>False</td>\n",
       "      <td>False</td>\n",
       "      <td>False</td>\n",
       "      <td>False</td>\n",
       "      <td>True</td>\n",
       "      <td>False</td>\n",
       "    </tr>\n",
       "  </tbody>\n",
       "</table>\n",
       "<p>10000 rows × 17 columns</p>\n",
       "</div>"
      ],
      "text/plain": [
       "         ra    dec      u      g      r      i      z    run  rerun  camcol  \\\n",
       "0     False  False  False  False  False  False  False  False  False   False   \n",
       "1     False  False  False  False   True  False  False  False  False   False   \n",
       "2     False  False  False  False  False  False  False  False  False   False   \n",
       "3     False  False  False  False  False  False  False  False  False   False   \n",
       "4     False  False  False  False   True  False  False  False  False   False   \n",
       "...     ...    ...    ...    ...    ...    ...    ...    ...    ...     ...   \n",
       "9995  False  False  False  False  False  False  False   True  False   False   \n",
       "9996  False  False  False  False  False  False  False  False  False   False   \n",
       "9997  False  False  False  False  False  False  False  False  False   False   \n",
       "9998  False  False  False  False  False  False  False  False  False   False   \n",
       "9999  False  False  False  False  False  False  False  False  False   False   \n",
       "\n",
       "      field  specobjid  class  redshift  plate    mjd  fiberid  \n",
       "0     False      False  False     False  False  False    False  \n",
       "1     False      False  False     False  False  False    False  \n",
       "2     False      False  False     False  False  False    False  \n",
       "3     False      False  False     False  False   True    False  \n",
       "4     False      False   True     False  False  False    False  \n",
       "...     ...        ...    ...       ...    ...    ...      ...  \n",
       "9995  False      False  False     False  False  False    False  \n",
       "9996  False      False  False     False  False  False    False  \n",
       "9997  False      False  False     False  False  False    False  \n",
       "9998  False      False  False     False  False  False    False  \n",
       "9999  False      False  False     False  False   True    False  \n",
       "\n",
       "[10000 rows x 17 columns]"
      ]
     },
     "execution_count": 39,
     "metadata": {},
     "output_type": "execute_result"
    }
   ],
   "source": [
    "pd.isna(df_nan) #.any()"
   ]
  },
  {
   "cell_type": "markdown",
   "metadata": {},
   "source": [
    "Another basic task during the EDA phase is to check the class distribution. We can easily plot the histogram with Pandas:"
   ]
  },
  {
   "cell_type": "code",
   "execution_count": 40,
   "metadata": {},
   "outputs": [
    {
     "data": {
      "text/plain": [
       "<AxesSubplot:>"
      ]
     },
     "execution_count": 40,
     "metadata": {},
     "output_type": "execute_result"
    },
    {
     "data": {
      "image/png": "[encoded data removed]",
      "text/plain": [
       "<Figure size 432x288 with 1 Axes>"
      ]
     },
     "metadata": {
      "needs_background": "light"
     },
     "output_type": "display_data"
    }
   ],
   "source": [
    "df['class'].value_counts().plot(kind='bar')"
   ]
  },
  {
   "cell_type": "markdown",
   "metadata": {},
   "source": [
    "The data is clearly imbalanced towards the GALAXY and STAR classes."
   ]
  },
  {
   "cell_type": "code",
   "execution_count": 41,
   "metadata": {},
   "outputs": [
    {
     "data": {
      "text/plain": [
       "GALAXY    4998\n",
       "STAR      4152\n",
       "QSO        850\n",
       "Name: class, dtype: int64"
      ]
     },
     "execution_count": 41,
     "metadata": {},
     "output_type": "execute_result"
    }
   ],
   "source": [
    "df['class'].value_counts()"
   ]
  },
  {
   "cell_type": "markdown",
   "metadata": {},
   "source": [
    "Having an unbalanced dataset can degrade the quality of the prediction for the less represented class and even ignore completly the minority class."
   ]
  },
  {
   "cell_type": "markdown",
   "metadata": {},
   "source": [
    "# SMOTE"
   ]
  },
  {
   "cell_type": "markdown",
   "metadata": {},
   "source": [
    "New examples can be synthesized from the existing examples. This is a type of data augmentation for the minority class and is referred to as the Synthetic Minority Oversampling Technique, or SMOTE for short.\n",
    "\n",
    "Multiple variations and improvements:\n",
    "\n",
    "- SMOTE\n",
    "- SMOTENC\n",
    "- SMOTEN\n",
    "- ADASYN\n",
    "- BorderlineSMOTE\n",
    "- KMeansSMOTE\n",
    "- SVMSMOTE\n"
   ]
  },
  {
   "cell_type": "code",
   "execution_count": 42,
   "metadata": {
    "pycharm": {
     "name": "#%%\n"
    }
   },
   "outputs": [
    {
     "data": {
      "text/plain": [
       "<AxesSubplot:>"
      ]
     },
     "execution_count": 42,
     "metadata": {},
     "output_type": "execute_result"
    },
    {
     "data": {
      "image/png": "[encoded data removed]",
      "text/plain": [
       "<Figure size 432x288 with 1 Axes>"
      ]
     },
     "metadata": {
      "needs_background": "light"
     },
     "output_type": "display_data"
    }
   ],
   "source": [
    "y = df.pop('class')\n",
    "X = df\n",
    "oversample = imblearn.over_sampling.SMOTE()\n",
    "X_smote, y_smote = oversample.fit_resample(X, y)\n",
    "y_smote.value_counts().plot(kind='bar')"
   ]
  },
  {
   "cell_type": "markdown",
   "metadata": {
    "pycharm": {
     "name": "#%% md\n"
    }
   },
   "source": [
    "![](data/oversampling.png)"
   ]
  },
  {
   "cell_type": "markdown",
   "metadata": {},
   "source": [
    "---"
   ]
  },
  {
   "cell_type": "markdown",
   "metadata": {},
   "source": [
    "# Scikit-learn"
   ]
  },
  {
   "cell_type": "markdown",
   "metadata": {},
   "source": [
    "Scikit-learn is an open source machine learning library that supports supervised and unsupervised learning. It also provides various tools for model fitting, data preprocessing, model selection and evaluation, and many other utilities."
   ]
  },
  {
   "cell_type": "markdown",
   "metadata": {},
   "source": [
    "# Workflow"
   ]
  },
  {
   "cell_type": "markdown",
   "metadata": {},
   "source": [
    "The next figure shows the basic workflow while approaching a Machine Learning problem. We can distinguish two tasks, separate at first but intertwined in the last stages:\n",
    "\n",
    "* Optimization of the machine learning model (left) which will make the prediction using the data.\n",
    "* Construction of the dataset (accomplished during the EDA phase) and partitioning in training and test data (right)."
   ]
  },
  {
   "cell_type": "markdown",
   "metadata": {},
   "source": [
    "![](data/grid_search_workflow.png)\n",
    "From: https://scikit-learn.org/stable/modules/cross_validation.html"
   ]
  },
  {
   "cell_type": "markdown",
   "metadata": {},
   "source": [
    "# Data split"
   ]
  },
  {
   "cell_type": "markdown",
   "metadata": {},
   "source": [
    "We must first split the data in two sets: `X` and `y`. These names are a common convention. `X` for the variables and `y` for the target (class)."
   ]
  },
  {
   "cell_type": "code",
   "execution_count": 43,
   "metadata": {},
   "outputs": [],
   "source": [
    "df =  pd.read_csv('data/sdss.csv')\n",
    "_ = df.pop('objid') # df.drop(['objid'], axis=1)\n",
    "\n",
    "y = df.pop('class')\n",
    "X = df"
   ]
  },
  {
   "cell_type": "markdown",
   "metadata": {},
   "source": [
    "The next step is to split the data, one more time, into train and test partitions. Scikit-learn can easily do that for us."
   ]
  },
  {
   "cell_type": "code",
   "execution_count": 44,
   "metadata": {},
   "outputs": [],
   "source": [
    "X_train, X_test, y_train, y_test = train_test_split(X, y, test_size=0.2, stratify=y, random_state=24112020)"
   ]
  },
  {
   "cell_type": "markdown",
   "metadata": {},
   "source": [
    "We get the train partition (80% of our data) and the test partition (20% of our data) randomly selected from all the data and stratified (both partitions has the same class distribution) for better results."
   ]
  },
  {
   "cell_type": "markdown",
   "metadata": {},
   "source": [
    "# Cross Validation"
   ]
  },
  {
   "cell_type": "markdown",
   "metadata": {},
   "source": [
    "Next, we train and optimize the desired model via the cross validation strategy. The next figure shows a graphical representation of this strategy:"
   ]
  },
  {
   "cell_type": "markdown",
   "metadata": {},
   "source": [
    "![](data/grid_search_cross_validation.png)\n",
    "From: https://scikit-learn.org/stable/modules/cross_validation.html"
   ]
  },
  {
   "cell_type": "markdown",
   "metadata": {},
   "source": [
    "# kNN"
   ]
  },
  {
   "cell_type": "markdown",
   "metadata": {},
   "source": [
    "![](data/knn_example.png)\n",
    "From: Cheng, Debo, et al. \"kNN algorithm with data-driven k value.\" International Conference on Advanced Data Mining and Applications. Springer, Cham, 2014."
   ]
  },
  {
   "cell_type": "markdown",
   "metadata": {},
   "source": [
    "First, we need to define the parameters which will be tested. In this case, the number of neighbors (`k`) that the algorithm will use."
   ]
  },
  {
   "cell_type": "code",
   "execution_count": 45,
   "metadata": {},
   "outputs": [],
   "source": [
    "parameters = {'n_neighbors': [x for x in range (3, 16)]}"
   ]
  },
  {
   "cell_type": "markdown",
   "metadata": {},
   "source": [
    "Next, we instantiate our classifier."
   ]
  },
  {
   "cell_type": "code",
   "execution_count": 46,
   "metadata": {},
   "outputs": [],
   "source": [
    "clf = KNeighborsClassifier()"
   ]
  },
  {
   "cell_type": "markdown",
   "metadata": {},
   "source": [
    "Now we can search for the best `k`. Sklearn offers the `GridSearchCV` method to accomplish this. This method will test all the combination of parameters via cross validation and will return the best parameters obtained during this training phase."
   ]
  },
  {
   "cell_type": "code",
   "execution_count": 47,
   "metadata": {},
   "outputs": [],
   "source": [
    "clf = GridSearchCV(clf, parameters, refit=True, cv=StratifiedKFold(), n_jobs=4)"
   ]
  },
  {
   "cell_type": "code",
   "execution_count": 48,
   "metadata": {},
   "outputs": [
    {
     "data": {
      "text/plain": [
       "GridSearchCV(cv=StratifiedKFold(n_splits=5, random_state=None, shuffle=False),\n",
       "             estimator=KNeighborsClassifier(), n_jobs=4,\n",
       "             param_grid={'n_neighbors': [3, 4, 5, 6, 7, 8, 9, 10, 11, 12, 13,\n",
       "                                         14, 15]})"
      ]
     },
     "execution_count": 48,
     "metadata": {},
     "output_type": "execute_result"
    }
   ],
   "source": [
    "clf.fit(X_train, y_train)"
   ]
  },
  {
   "cell_type": "markdown",
   "metadata": {},
   "source": [
    "In this example, we get `k=15`."
   ]
  },
  {
   "cell_type": "code",
   "execution_count": 49,
   "metadata": {},
   "outputs": [
    {
     "data": {
      "text/plain": [
       "KNeighborsClassifier(n_neighbors=15)"
      ]
     },
     "execution_count": 49,
     "metadata": {},
     "output_type": "execute_result"
    }
   ],
   "source": [
    "clf.best_estimator_"
   ]
  },
  {
   "cell_type": "code",
   "execution_count": 50,
   "metadata": {},
   "outputs": [],
   "source": [
    "clf = clf.best_estimator_"
   ]
  },
  {
   "cell_type": "markdown",
   "metadata": {},
   "source": [
    "After the training step we need to check how the model performs against data that has not been \"seen\" by the model (the test data)."
   ]
  },
  {
   "cell_type": "code",
   "execution_count": 51,
   "metadata": {},
   "outputs": [],
   "source": [
    "y_pred = clf.predict(X_test)"
   ]
  },
  {
   "cell_type": "markdown",
   "metadata": {},
   "source": [
    "After we get the predictions we compare them to the ground-truth to check the model's performance. Once again, sklearn has a classification report with all the common metrics used in this type of problems. "
   ]
  },
  {
   "cell_type": "code",
   "execution_count": 52,
   "metadata": {},
   "outputs": [
    {
     "name": "stdout",
     "output_type": "stream",
     "text": [
      "              precision    recall  f1-score   support\n",
      "\n",
      "      GALAXY       0.75      0.96      0.85      1000\n",
      "         QSO       0.57      0.02      0.05       170\n",
      "        STAR       0.91      0.78      0.84       830\n",
      "\n",
      "    accuracy                           0.81      2000\n",
      "   macro avg       0.74      0.59      0.58      2000\n",
      "weighted avg       0.80      0.81      0.78      2000\n",
      "\n"
     ]
    }
   ],
   "source": [
    "print(classification_report(y_test, y_pred))"
   ]
  },
  {
   "cell_type": "markdown",
   "metadata": {},
   "source": [
    "# Decision Tree"
   ]
  },
  {
   "cell_type": "markdown",
   "metadata": {},
   "source": [
    "But what if we use a more complex (yet simple) model? The next figure shows a simple decision tree."
   ]
  },
  {
   "cell_type": "markdown",
   "metadata": {},
   "source": [
    "![](data/dt_example.png)\n",
    "From: https://towardsai.net/p/programming/decision-trees-explained-with-a-practical-example-fe47872d3b53"
   ]
  },
  {
   "cell_type": "code",
   "execution_count": 53,
   "metadata": {},
   "outputs": [],
   "source": [
    "parameters = {'criterion':('gini', 'entropy'), \n",
    "              'max_depth':[5, 10, 15, None]}"
   ]
  },
  {
   "cell_type": "code",
   "execution_count": 54,
   "metadata": {},
   "outputs": [],
   "source": [
    "clf = tree.DecisionTreeClassifier(random_state=24112020)"
   ]
  },
  {
   "cell_type": "code",
   "execution_count": 55,
   "metadata": {},
   "outputs": [],
   "source": [
    "clf = GridSearchCV(clf, parameters, refit=True, cv=StratifiedKFold(), n_jobs=4)"
   ]
  },
  {
   "cell_type": "code",
   "execution_count": 56,
   "metadata": {},
   "outputs": [
    {
     "data": {
      "text/plain": [
       "GridSearchCV(cv=StratifiedKFold(n_splits=5, random_state=None, shuffle=False),\n",
       "             estimator=DecisionTreeClassifier(random_state=24112020), n_jobs=4,\n",
       "             param_grid={'criterion': ('gini', 'entropy'),\n",
       "                         'max_depth': [5, 10, 15, None]})"
      ]
     },
     "execution_count": 56,
     "metadata": {},
     "output_type": "execute_result"
    }
   ],
   "source": [
    "clf.fit(X_train, y_train)"
   ]
  },
  {
   "cell_type": "code",
   "execution_count": 57,
   "metadata": {},
   "outputs": [
    {
     "data": {
      "text/plain": [
       "DecisionTreeClassifier(criterion='entropy', max_depth=5, random_state=24112020)"
      ]
     },
     "execution_count": 57,
     "metadata": {},
     "output_type": "execute_result"
    }
   ],
   "source": [
    "clf.best_estimator_"
   ]
  },
  {
   "cell_type": "code",
   "execution_count": 58,
   "metadata": {},
   "outputs": [],
   "source": [
    "clf = clf.best_estimator_"
   ]
  },
  {
   "cell_type": "code",
   "execution_count": 59,
   "metadata": {},
   "outputs": [],
   "source": [
    "y_pred = clf.predict(X_test)"
   ]
  },
  {
   "cell_type": "code",
   "execution_count": 60,
   "metadata": {},
   "outputs": [
    {
     "name": "stdout",
     "output_type": "stream",
     "text": [
      "              precision    recall  f1-score   support\n",
      "\n",
      "      GALAXY       0.98      0.99      0.99      1000\n",
      "         QSO       0.94      0.91      0.93       170\n",
      "        STAR       1.00      1.00      1.00       830\n",
      "\n",
      "    accuracy                           0.99      2000\n",
      "   macro avg       0.97      0.97      0.97      2000\n",
      "weighted avg       0.99      0.99      0.99      2000\n",
      "\n"
     ]
    }
   ],
   "source": [
    "print(classification_report(y_test, y_pred))"
   ]
  },
  {
   "cell_type": "markdown",
   "metadata": {},
   "source": [
    "One of the perks of this model is the interpretability of it. Thanks to sklearn, we can plot the final decision tree:"
   ]
  },
  {
   "cell_type": "code",
   "execution_count": 61,
   "metadata": {},
   "outputs": [
    {
     "data": {
      "image/png": "[encoded data removed]",
      "text/plain": [
       "<Figure size 2880x1440 with 1 Axes>"
      ]
     },
     "metadata": {
      "needs_background": "light"
     },
     "output_type": "display_data"
    }
   ],
   "source": [
    "plt.figure(figsize=(40,20))\n",
    "tree.plot_tree(clf, feature_names=X.columns, class_names=['GALAXY', 'QSAR', 'STAR']);"
   ]
  },
  {
   "cell_type": "markdown",
   "metadata": {},
   "source": [
    "# Random Forest"
   ]
  },
  {
   "cell_type": "markdown",
   "metadata": {},
   "source": [
    "Random forests are an ensemble learning method for classification, regression and other tasks that operate by constructing a multitude of decision trees."
   ]
  },
  {
   "cell_type": "markdown",
   "metadata": {},
   "source": [
    "![](data/rf_example.png)\n",
    "From: https://rpubs.com/Avalos42/randomforest"
   ]
  },
  {
   "cell_type": "code",
   "execution_count": 62,
   "metadata": {},
   "outputs": [],
   "source": [
    "parameters = {'criterion': ['gini', 'entropy'],\n",
    "              'n_estimators': [5, 10, 15, 20],\n",
    "              'max_depth': [5, 10, 15, None]}"
   ]
  },
  {
   "cell_type": "code",
   "execution_count": 63,
   "metadata": {},
   "outputs": [],
   "source": [
    "clf = RandomForestClassifier(random_state=24112020)\n"
   ]
  },
  {
   "cell_type": "code",
   "execution_count": 64,
   "metadata": {},
   "outputs": [],
   "source": [
    "clf = GridSearchCV(clf, parameters, refit=True, cv=StratifiedKFold(), n_jobs=4)"
   ]
  },
  {
   "cell_type": "code",
   "execution_count": 65,
   "metadata": {},
   "outputs": [
    {
     "data": {
      "text/plain": [
       "GridSearchCV(cv=StratifiedKFold(n_splits=5, random_state=None, shuffle=False),\n",
       "             estimator=RandomForestClassifier(random_state=24112020), n_jobs=4,\n",
       "             param_grid={'criterion': ['gini', 'entropy'],\n",
       "                         'max_depth': [5, 10, 15, None],\n",
       "                         'n_estimators': [5, 10, 15, 20]})"
      ]
     },
     "execution_count": 65,
     "metadata": {},
     "output_type": "execute_result"
    }
   ],
   "source": [
    "clf.fit(X_train, y_train)"
   ]
  },
  {
   "cell_type": "code",
   "execution_count": 66,
   "metadata": {},
   "outputs": [
    {
     "data": {
      "text/plain": [
       "RandomForestClassifier(max_depth=15, n_estimators=15, random_state=24112020)"
      ]
     },
     "execution_count": 66,
     "metadata": {},
     "output_type": "execute_result"
    }
   ],
   "source": [
    "clf.best_estimator_"
   ]
  },
  {
   "cell_type": "code",
   "execution_count": 67,
   "metadata": {},
   "outputs": [],
   "source": [
    "clf = clf.best_estimator_"
   ]
  },
  {
   "cell_type": "code",
   "execution_count": 68,
   "metadata": {},
   "outputs": [],
   "source": [
    "y_pred = clf.predict(X_test)"
   ]
  },
  {
   "cell_type": "code",
   "execution_count": 69,
   "metadata": {},
   "outputs": [
    {
     "name": "stdout",
     "output_type": "stream",
     "text": [
      "              precision    recall  f1-score   support\n",
      "\n",
      "      GALAXY       0.99      0.99      0.99      1000\n",
      "         QSO       0.96      0.93      0.94       170\n",
      "        STAR       1.00      1.00      1.00       830\n",
      "\n",
      "    accuracy                           0.99      2000\n",
      "   macro avg       0.98      0.97      0.98      2000\n",
      "weighted avg       0.99      0.99      0.99      2000\n",
      "\n"
     ]
    }
   ],
   "source": [
    "print(classification_report(y_test, y_pred))"
   ]
  },
  {
   "cell_type": "markdown",
   "metadata": {},
   "source": [
    "This model offers an useful trait: the feature importance. The higher the value the more important is the feature (variable) to the model so we can discard useless variables and improve the performance of the model. This is called \"feature selection\" and is one of the most powerful preprocessing techniques."
   ]
  },
  {
   "cell_type": "code",
   "execution_count": 70,
   "metadata": {},
   "outputs": [
    {
     "data": {
      "text/plain": [
       "array([0.00391372, 0.0032789 , 0.02165442, 0.02865361, 0.01082761,\n",
       "       0.10353049, 0.0497029 , 0.00244479, 0.        , 0.00107068,\n",
       "       0.00400284, 0.14607243, 0.56476699, 0.03300232, 0.02383341,\n",
       "       0.0032449 ])"
      ]
     },
     "execution_count": 70,
     "metadata": {},
     "output_type": "execute_result"
    }
   ],
   "source": [
    "feature_importance = clf.feature_importances_\n",
    "feature_importance"
   ]
  },
  {
   "cell_type": "code",
   "execution_count": 71,
   "metadata": {},
   "outputs": [
    {
     "data": {
      "text/html": [
       "<div>\n",
       "<style scoped>\n",
       "    .dataframe tbody tr th:only-of-type {\n",
       "        vertical-align: middle;\n",
       "    }\n",
       "\n",
       "    .dataframe tbody tr th {\n",
       "        vertical-align: top;\n",
       "    }\n",
       "\n",
       "    .dataframe thead th {\n",
       "        text-align: right;\n",
       "    }\n",
       "</style>\n",
       "<table border=\"1\" class=\"dataframe\">\n",
       "  <thead>\n",
       "    <tr style=\"text-align: right;\">\n",
       "      <th></th>\n",
       "      <th>Feature</th>\n",
       "      <th>Importance</th>\n",
       "    </tr>\n",
       "  </thead>\n",
       "  <tbody>\n",
       "    <tr>\n",
       "      <th>12</th>\n",
       "      <td>redshift</td>\n",
       "      <td>0.564767</td>\n",
       "    </tr>\n",
       "    <tr>\n",
       "      <th>11</th>\n",
       "      <td>specobjid</td>\n",
       "      <td>0.146072</td>\n",
       "    </tr>\n",
       "    <tr>\n",
       "      <th>5</th>\n",
       "      <td>i</td>\n",
       "      <td>0.10353</td>\n",
       "    </tr>\n",
       "    <tr>\n",
       "      <th>6</th>\n",
       "      <td>z</td>\n",
       "      <td>0.049703</td>\n",
       "    </tr>\n",
       "    <tr>\n",
       "      <th>13</th>\n",
       "      <td>plate</td>\n",
       "      <td>0.033002</td>\n",
       "    </tr>\n",
       "    <tr>\n",
       "      <th>3</th>\n",
       "      <td>g</td>\n",
       "      <td>0.028654</td>\n",
       "    </tr>\n",
       "    <tr>\n",
       "      <th>14</th>\n",
       "      <td>mjd</td>\n",
       "      <td>0.023833</td>\n",
       "    </tr>\n",
       "    <tr>\n",
       "      <th>2</th>\n",
       "      <td>u</td>\n",
       "      <td>0.021654</td>\n",
       "    </tr>\n",
       "    <tr>\n",
       "      <th>4</th>\n",
       "      <td>r</td>\n",
       "      <td>0.010828</td>\n",
       "    </tr>\n",
       "    <tr>\n",
       "      <th>10</th>\n",
       "      <td>field</td>\n",
       "      <td>0.004003</td>\n",
       "    </tr>\n",
       "    <tr>\n",
       "      <th>0</th>\n",
       "      <td>ra</td>\n",
       "      <td>0.003914</td>\n",
       "    </tr>\n",
       "    <tr>\n",
       "      <th>1</th>\n",
       "      <td>dec</td>\n",
       "      <td>0.003279</td>\n",
       "    </tr>\n",
       "    <tr>\n",
       "      <th>15</th>\n",
       "      <td>fiberid</td>\n",
       "      <td>0.003245</td>\n",
       "    </tr>\n",
       "    <tr>\n",
       "      <th>7</th>\n",
       "      <td>run</td>\n",
       "      <td>0.002445</td>\n",
       "    </tr>\n",
       "    <tr>\n",
       "      <th>9</th>\n",
       "      <td>camcol</td>\n",
       "      <td>0.001071</td>\n",
       "    </tr>\n",
       "    <tr>\n",
       "      <th>8</th>\n",
       "      <td>rerun</td>\n",
       "      <td>0.0</td>\n",
       "    </tr>\n",
       "  </tbody>\n",
       "</table>\n",
       "</div>"
      ],
      "text/plain": [
       "      Feature Importance\n",
       "12   redshift   0.564767\n",
       "11  specobjid   0.146072\n",
       "5           i    0.10353\n",
       "6           z   0.049703\n",
       "13      plate   0.033002\n",
       "3           g   0.028654\n",
       "14        mjd   0.023833\n",
       "2           u   0.021654\n",
       "4           r   0.010828\n",
       "10      field   0.004003\n",
       "0          ra   0.003914\n",
       "1         dec   0.003279\n",
       "15    fiberid   0.003245\n",
       "7         run   0.002445\n",
       "9      camcol   0.001071\n",
       "8       rerun        0.0"
      ]
     },
     "execution_count": 71,
     "metadata": {},
     "output_type": "execute_result"
    }
   ],
   "source": [
    "fs_df = pd.DataFrame([X.columns, feature_importance]).T\n",
    "fs_df.columns = ['Feature', 'Importance']\n",
    "fs_df.sort_values(by='Importance', ascending=False)"
   ]
  },
  {
   "cell_type": "markdown",
   "metadata": {},
   "source": [
    "As we can see the `redshift` is the more important feature by a huge margin. Let's see what happens when we train another model with only this feature."
   ]
  },
  {
   "cell_type": "markdown",
   "metadata": {},
   "source": [
    "# Support Vector Machine (SVM)"
   ]
  },
  {
   "cell_type": "markdown",
   "metadata": {},
   "source": [
    "A support-vector machine (SVM) constructs a hyperplane or set of hyperplanes in a high- or infinite-dimensional space, which can be used for classification, regression, or other tasks like outliers detection."
   ]
  },
  {
   "cell_type": "markdown",
   "metadata": {},
   "source": [
    "![](data/svm_example.png)\n",
    "From: Ulas, Cagdas. (2013). INCORPORATION OF A LANGUAGE MODEL INTO A BRAIN COMPUTER INTERFACE BASED SPELLER. 10.13140/2.1.2017.6326. "
   ]
  },
  {
   "cell_type": "code",
   "execution_count": 72,
   "metadata": {},
   "outputs": [],
   "source": [
    "parameters = {'svc__kernel': ['rbf', 'linear', 'poly']}"
   ]
  },
  {
   "cell_type": "markdown",
   "metadata": {},
   "source": [
    "The purpose of the pipeline is to assemble several steps that can be cross-validated together while setting different parameters. For this, it enables setting parameters of the various steps using their names and the parameter name."
   ]
  },
  {
   "cell_type": "code",
   "execution_count": 73,
   "metadata": {},
   "outputs": [],
   "source": [
    "clf = make_pipeline(StandardScaler(), SVC(random_state=24112020))"
   ]
  },
  {
   "cell_type": "code",
   "execution_count": 74,
   "metadata": {},
   "outputs": [],
   "source": [
    "clf = GridSearchCV(clf, parameters, refit=True, cv=StratifiedKFold(), n_jobs=4)"
   ]
  },
  {
   "cell_type": "code",
   "execution_count": 75,
   "metadata": {},
   "outputs": [
    {
     "data": {
      "text/plain": [
       "GridSearchCV(cv=StratifiedKFold(n_splits=5, random_state=None, shuffle=False),\n",
       "             estimator=Pipeline(steps=[('standardscaler', StandardScaler()),\n",
       "                                       ('svc', SVC(random_state=24112020))]),\n",
       "             n_jobs=4, param_grid={'svc__kernel': ['rbf', 'linear', 'poly']})"
      ]
     },
     "execution_count": 75,
     "metadata": {},
     "output_type": "execute_result"
    }
   ],
   "source": [
    "clf.fit(X_train['redshift'].values.reshape(-1, 1), y_train)"
   ]
  },
  {
   "cell_type": "code",
   "execution_count": 76,
   "metadata": {},
   "outputs": [
    {
     "data": {
      "text/plain": [
       "Pipeline(steps=[('standardscaler', StandardScaler()),\n",
       "                ('svc', SVC(random_state=24112020))])"
      ]
     },
     "execution_count": 76,
     "metadata": {},
     "output_type": "execute_result"
    }
   ],
   "source": [
    "clf.best_estimator_"
   ]
  },
  {
   "cell_type": "code",
   "execution_count": 77,
   "metadata": {},
   "outputs": [],
   "source": [
    "clf = clf.best_estimator_"
   ]
  },
  {
   "cell_type": "code",
   "execution_count": 78,
   "metadata": {},
   "outputs": [],
   "source": [
    "y_pred = clf.predict(X_test['redshift'].values.reshape(-1, 1))"
   ]
  },
  {
   "cell_type": "markdown",
   "metadata": {},
   "source": [
    "As we can see we obtain \"nearly perfect\" results using only one feature. This is a huge improvement in terms of training speed, prediction speed and model complexity (less complex models are often preferred)"
   ]
  },
  {
   "cell_type": "code",
   "execution_count": 79,
   "metadata": {},
   "outputs": [
    {
     "name": "stdout",
     "output_type": "stream",
     "text": [
      "              precision    recall  f1-score   support\n",
      "\n",
      "      GALAXY       0.98      0.98      0.98      1000\n",
      "         QSO       0.96      0.88      0.92       170\n",
      "        STAR       0.99      1.00      0.99       830\n",
      "\n",
      "    accuracy                           0.98      2000\n",
      "   macro avg       0.98      0.95      0.96      2000\n",
      "weighted avg       0.98      0.98      0.98      2000\n",
      "\n"
     ]
    }
   ],
   "source": [
    "print(classification_report(y_test, y_pred))"
   ]
  },
  {
   "cell_type": "markdown",
   "metadata": {},
   "source": [
    "# Clustering (K-Means)"
   ]
  },
  {
   "cell_type": "markdown",
   "metadata": {},
   "source": [
    "Lastly, lets try an unsupervised learning (a type of machine learning that looks for previously undetected patterns in a data set with no pre-existing labels and with a minimum of human supervision) model for clustering: K-Means"
   ]
  },
  {
   "cell_type": "markdown",
   "metadata": {},
   "source": [
    "## Choosing the best number of cluster: the elbow method"
   ]
  },
  {
   "cell_type": "markdown",
   "metadata": {},
   "source": [
    "In cluster analysis, the elbow method is a heuristic used in determining the number of clusters in a data set. The method consists of plotting the explained variation as a function of the number of clusters, and picking the elbow of the curve as the number of clusters to use."
   ]
  },
  {
   "cell_type": "code",
   "execution_count": 80,
   "metadata": {},
   "outputs": [
    {
     "data": {
      "text/plain": [
       "Text(0.5, 1.0, 'Elbow curve')"
      ]
     },
     "execution_count": 80,
     "metadata": {},
     "output_type": "execute_result"
    },
    {
     "data": {
      "image/png": "[encoded data removed]",
      "text/plain": [
       "<Figure size 1080x360 with 1 Axes>"
      ]
     },
     "metadata": {
      "needs_background": "light"
     },
     "output_type": "display_data"
    }
   ],
   "source": [
    "distorsions = []\n",
    "labels = []\n",
    "centroids = []\n",
    "X = X[['ra', 'dec', 'redshift']]\n",
    "X_test = X_test[['ra', 'dec', 'redshift']]\n",
    "for k in range(2, 10):\n",
    "    clf = KMeans(n_clusters=k, random_state=24112020)\n",
    "    clf.fit(X)\n",
    "    labels.append(clf.predict(X_test))\n",
    "    distorsions.append(clf.inertia_)\n",
    "    centroids.append(clf.cluster_centers_)\n",
    "\n",
    "fig = plt.figure(figsize=(15, 5))\n",
    "plt.plot(range(2, 10), distorsions)\n",
    "plt.grid(True)\n",
    "plt.title('Elbow curve')"
   ]
  },
  {
   "cell_type": "code",
   "execution_count": 81,
   "metadata": {},
   "outputs": [],
   "source": [
    "%matplotlib notebook"
   ]
  },
  {
   "cell_type": "code",
   "execution_count": 82,
   "metadata": {
    "scrolled": true
   },
   "outputs": [
    {
     "data": {
      "application/javascript": [
       "/* Put everything inside the global mpl namespace */\n",
       "/* global mpl */\n",
       "window.mpl = {};\n",
       "\n",
       "mpl.get_websocket_type = function () {\n",
       "    if (typeof WebSocket !== 'undefined') {\n",
       "        return WebSocket;\n",
       "    } else if (typeof MozWebSocket !== 'undefined') {\n",
       "        return MozWebSocket;\n",
       "    } else {\n",
       "        alert(\n",
       "            'Your browser does not have WebSocket support. ' +\n",
       "                'Please try Chrome, Safari or Firefox ≥ 6. ' +\n",
       "                'Firefox 4 and 5 are also supported but you ' +\n",
       "                'have to enable WebSockets in about:config.'\n",
       "        );\n",
       "    }\n",
       "};\n",
       "\n",
       "mpl.figure = function (figure_id, websocket, ondownload, parent_element) {\n",
       "    this.id = figure_id;\n",
       "\n",
       "    this.ws = websocket;\n",
       "\n",
       "    this.supports_binary = this.ws.binaryType !== undefined;\n",
       "\n",
       "    if (!this.supports_binary) {\n",
       "        var warnings = document.getElementById('mpl-warnings');\n",
       "        if (warnings) {\n",
       "            warnings.style.display = 'block';\n",
       "            warnings.textContent =\n",
       "                'This browser does not support binary websocket messages. ' +\n",
       "                'Performance may be slow.';\n",
       "        }\n",
       "    }\n",
       "\n",
       "    this.imageObj = new Image();\n",
       "\n",
       "    this.context = undefined;\n",
       "    this.message = undefined;\n",
       "    this.canvas = undefined;\n",
       "    this.rubberband_canvas = undefined;\n",
       "    this.rubberband_context = undefined;\n",
       "    this.format_dropdown = undefined;\n",
       "\n",
       "    this.image_mode = 'full';\n",
       "\n",
       "    this.root = document.createElement('div');\n",
       "    this.root.setAttribute('style', 'display: inline-block');\n",
       "    this._root_extra_style(this.root);\n",
       "\n",
       "    parent_element.appendChild(this.root);\n",
       "\n",
       "    this._init_header(this);\n",
       "    this._init_canvas(this);\n",
       "    this._init_toolbar(this);\n",
       "\n",
       "    var fig = this;\n",
       "\n",
       "    this.waiting = false;\n",
       "\n",
       "    this.ws.onopen = function () {\n",
       "        fig.send_message('supports_binary', { value: fig.supports_binary });\n",
       "        fig.send_message('send_image_mode', {});\n",
       "        if (fig.ratio !== 1) {\n",
       "            fig.send_message('set_dpi_ratio', { dpi_ratio: fig.ratio });\n",
       "        }\n",
       "        fig.send_message('refresh', {});\n",
       "    };\n",
       "\n",
       "    this.imageObj.onload = function () {\n",
       "        if (fig.image_mode === 'full') {\n",
       "            // Full images could contain transparency (where diff images\n",
       "            // almost always do), so we need to clear the canvas so that\n",
       "            // there is no ghosting.\n",
       "            fig.context.clearRect(0, 0, fig.canvas.width, fig.canvas.height);\n",
       "        }\n",
       "        fig.context.drawImage(fig.imageObj, 0, 0);\n",
       "    };\n",
       "\n",
       "    this.imageObj.onunload = function () {\n",
       "        fig.ws.close();\n",
       "    };\n",
       "\n",
       "    this.ws.onmessage = this._make_on_message_function(this);\n",
       "\n",
       "    this.ondownload = ondownload;\n",
       "};\n",
       "\n",
       "mpl.figure.prototype._init_header = function () {\n",
       "    var titlebar = document.createElement('div');\n",
       "    titlebar.classList =\n",
       "        'ui-dialog-titlebar ui-widget-header ui-corner-all ui-helper-clearfix';\n",
       "    var titletext = document.createElement('div');\n",
       "    titletext.classList = 'ui-dialog-title';\n",
       "    titletext.setAttribute(\n",
       "        'style',\n",
       "        'width: 100%; text-align: center; padding: 3px;'\n",
       "    );\n",
       "    titlebar.appendChild(titletext);\n",
       "    this.root.appendChild(titlebar);\n",
       "    this.header = titletext;\n",
       "};\n",
       "\n",
       "mpl.figure.prototype._canvas_extra_style = function (_canvas_div) {};\n",
       "\n",
       "mpl.figure.prototype._root_extra_style = function (_canvas_div) {};\n",
       "\n",
       "mpl.figure.prototype._init_canvas = function () {\n",
       "    var fig = this;\n",
       "\n",
       "    var canvas_div = (this.canvas_div = document.createElement('div'));\n",
       "    canvas_div.setAttribute(\n",
       "        'style',\n",
       "        'border: 1px solid #ddd;' +\n",
       "            'box-sizing: content-box;' +\n",
       "            'clear: both;' +\n",
       "            'min-height: 1px;' +\n",
       "            'min-width: 1px;' +\n",
       "            'outline: 0;' +\n",
       "            'overflow: hidden;' +\n",
       "            'position: relative;' +\n",
       "            'resize: both;'\n",
       "    );\n",
       "\n",
       "    function on_keyboard_event_closure(name) {\n",
       "        return function (event) {\n",
       "            return fig.key_event(event, name);\n",
       "        };\n",
       "    }\n",
       "\n",
       "    canvas_div.addEventListener(\n",
       "        'keydown',\n",
       "        on_keyboard_event_closure('key_press')\n",
       "    );\n",
       "    canvas_div.addEventListener(\n",
       "        'keyup',\n",
       "        on_keyboard_event_closure('key_release')\n",
       "    );\n",
       "\n",
       "    this._canvas_extra_style(canvas_div);\n",
       "    this.root.appendChild(canvas_div);\n",
       "\n",
       "    var canvas = (this.canvas = document.createElement('canvas'));\n",
       "    canvas.classList.add('mpl-canvas');\n",
       "    canvas.setAttribute('style', 'box-sizing: content-box;');\n",
       "\n",
       "    this.context = canvas.getContext('2d');\n",
       "\n",
       "    var backingStore =\n",
       "        this.context.backingStorePixelRatio ||\n",
       "        this.context.webkitBackingStorePixelRatio ||\n",
       "        this.context.mozBackingStorePixelRatio ||\n",
       "        this.context.msBackingStorePixelRatio ||\n",
       "        this.context.oBackingStorePixelRatio ||\n",
       "        this.context.backingStorePixelRatio ||\n",
       "        1;\n",
       "\n",
       "    this.ratio = (window.devicePixelRatio || 1) / backingStore;\n",
       "\n",
       "    var rubberband_canvas = (this.rubberband_canvas = document.createElement(\n",
       "        'canvas'\n",
       "    ));\n",
       "    rubberband_canvas.setAttribute(\n",
       "        'style',\n",
       "        'box-sizing: content-box; position: absolute; left: 0; top: 0; z-index: 1;'\n",
       "    );\n",
       "\n",
       "    // Apply a ponyfill if ResizeObserver is not implemented by browser.\n",
       "    if (this.ResizeObserver === undefined) {\n",
       "        if (window.ResizeObserver !== undefined) {\n",
       "            this.ResizeObserver = window.ResizeObserver;\n",
       "        } else {\n",
       "            var obs = _JSXTOOLS_RESIZE_OBSERVER({});\n",
       "            this.ResizeObserver = obs.ResizeObserver;\n",
       "        }\n",
       "    }\n",
       "\n",
       "    this.resizeObserverInstance = new this.ResizeObserver(function (entries) {\n",
       "        var nentries = entries.length;\n",
       "        for (var i = 0; i < nentries; i++) {\n",
       "            var entry = entries[i];\n",
       "            var width, height;\n",
       "            if (entry.contentBoxSize) {\n",
       "                if (entry.contentBoxSize instanceof Array) {\n",
       "                    // Chrome 84 implements new version of spec.\n",
       "                    width = entry.contentBoxSize[0].inlineSize;\n",
       "                    height = entry.contentBoxSize[0].blockSize;\n",
       "                } else {\n",
       "                    // Firefox implements old version of spec.\n",
       "                    width = entry.contentBoxSize.inlineSize;\n",
       "                    height = entry.contentBoxSize.blockSize;\n",
       "                }\n",
       "            } else {\n",
       "                // Chrome <84 implements even older version of spec.\n",
       "                width = entry.contentRect.width;\n",
       "                height = entry.contentRect.height;\n",
       "            }\n",
       "\n",
       "            // Keep the size of the canvas and rubber band canvas in sync with\n",
       "            // the canvas container.\n",
       "            if (entry.devicePixelContentBoxSize) {\n",
       "                // Chrome 84 implements new version of spec.\n",
       "                canvas.setAttribute(\n",
       "                    'width',\n",
       "                    entry.devicePixelContentBoxSize[0].inlineSize\n",
       "                );\n",
       "                canvas.setAttribute(\n",
       "                    'height',\n",
       "                    entry.devicePixelContentBoxSize[0].blockSize\n",
       "                );\n",
       "            } else {\n",
       "                canvas.setAttribute('width', width * fig.ratio);\n",
       "                canvas.setAttribute('height', height * fig.ratio);\n",
       "            }\n",
       "            canvas.setAttribute(\n",
       "                'style',\n",
       "                'width: ' + width + 'px; height: ' + height + 'px;'\n",
       "            );\n",
       "\n",
       "            rubberband_canvas.setAttribute('width', width);\n",
       "            rubberband_canvas.setAttribute('height', height);\n",
       "\n",
       "            // And update the size in Python. We ignore the initial 0/0 size\n",
       "            // that occurs as the element is placed into the DOM, which should\n",
       "            // otherwise not happen due to the minimum size styling.\n",
       "            if (fig.ws.readyState == 1 && width != 0 && height != 0) {\n",
       "                fig.request_resize(width, height);\n",
       "            }\n",
       "        }\n",
       "    });\n",
       "    this.resizeObserverInstance.observe(canvas_div);\n",
       "\n",
       "    function on_mouse_event_closure(name) {\n",
       "        return function (event) {\n",
       "            return fig.mouse_event(event, name);\n",
       "        };\n",
       "    }\n",
       "\n",
       "    rubberband_canvas.addEventListener(\n",
       "        'mousedown',\n",
       "        on_mouse_event_closure('button_press')\n",
       "    );\n",
       "    rubberband_canvas.addEventListener(\n",
       "        'mouseup',\n",
       "        on_mouse_event_closure('button_release')\n",
       "    );\n",
       "    // Throttle sequential mouse events to 1 every 20ms.\n",
       "    rubberband_canvas.addEventListener(\n",
       "        'mousemove',\n",
       "        on_mouse_event_closure('motion_notify')\n",
       "    );\n",
       "\n",
       "    rubberband_canvas.addEventListener(\n",
       "        'mouseenter',\n",
       "        on_mouse_event_closure('figure_enter')\n",
       "    );\n",
       "    rubberband_canvas.addEventListener(\n",
       "        'mouseleave',\n",
       "        on_mouse_event_closure('figure_leave')\n",
       "    );\n",
       "\n",
       "    canvas_div.addEventListener('wheel', function (event) {\n",
       "        if (event.deltaY < 0) {\n",
       "            event.step = 1;\n",
       "        } else {\n",
       "            event.step = -1;\n",
       "        }\n",
       "        on_mouse_event_closure('scroll')(event);\n",
       "    });\n",
       "\n",
       "    canvas_div.appendChild(canvas);\n",
       "    canvas_div.appendChild(rubberband_canvas);\n",
       "\n",
       "    this.rubberband_context = rubberband_canvas.getContext('2d');\n",
       "    this.rubberband_context.strokeStyle = '#000000';\n",
       "\n",
       "    this._resize_canvas = function (width, height, forward) {\n",
       "        if (forward) {\n",
       "            canvas_div.style.width = width + 'px';\n",
       "            canvas_div.style.height = height + 'px';\n",
       "        }\n",
       "    };\n",
       "\n",
       "    // Disable right mouse context menu.\n",
       "    this.rubberband_canvas.addEventListener('contextmenu', function (_e) {\n",
       "        event.preventDefault();\n",
       "        return false;\n",
       "    });\n",
       "\n",
       "    function set_focus() {\n",
       "        canvas.focus();\n",
       "        canvas_div.focus();\n",
       "    }\n",
       "\n",
       "    window.setTimeout(set_focus, 100);\n",
       "};\n",
       "\n",
       "mpl.figure.prototype._init_toolbar = function () {\n",
       "    var fig = this;\n",
       "\n",
       "    var toolbar = document.createElement('div');\n",
       "    toolbar.classList = 'mpl-toolbar';\n",
       "    this.root.appendChild(toolbar);\n",
       "\n",
       "    function on_click_closure(name) {\n",
       "        return function (_event) {\n",
       "            return fig.toolbar_button_onclick(name);\n",
       "        };\n",
       "    }\n",
       "\n",
       "    function on_mouseover_closure(tooltip) {\n",
       "        return function (event) {\n",
       "            if (!event.currentTarget.disabled) {\n",
       "                return fig.toolbar_button_onmouseover(tooltip);\n",
       "            }\n",
       "        };\n",
       "    }\n",
       "\n",
       "    fig.buttons = {};\n",
       "    var buttonGroup = document.createElement('div');\n",
       "    buttonGroup.classList = 'mpl-button-group';\n",
       "    for (var toolbar_ind in mpl.toolbar_items) {\n",
       "        var name = mpl.toolbar_items[toolbar_ind][0];\n",
       "        var tooltip = mpl.toolbar_items[toolbar_ind][1];\n",
       "        var image = mpl.toolbar_items[toolbar_ind][2];\n",
       "        var method_name = mpl.toolbar_items[toolbar_ind][3];\n",
       "\n",
       "        if (!name) {\n",
       "            /* Instead of a spacer, we start a new button group. */\n",
       "            if (buttonGroup.hasChildNodes()) {\n",
       "                toolbar.appendChild(buttonGroup);\n",
       "            }\n",
       "            buttonGroup = document.createElement('div');\n",
       "            buttonGroup.classList = 'mpl-button-group';\n",
       "            continue;\n",
       "        }\n",
       "\n",
       "        var button = (fig.buttons[name] = document.createElement('button'));\n",
       "        button.classList = 'mpl-widget';\n",
       "        button.setAttribute('role', 'button');\n",
       "        button.setAttribute('aria-disabled', 'false');\n",
       "        button.addEventListener('click', on_click_closure(method_name));\n",
       "        button.addEventListener('mouseover', on_mouseover_closure(tooltip));\n",
       "\n",
       "        var icon_img = document.createElement('img');\n",
       "        icon_img.src = '_images/' + image + '.png';\n",
       "        icon_img.srcset = '_images/' + image + '_large.png 2x';\n",
       "        icon_img.alt = tooltip;\n",
       "        button.appendChild(icon_img);\n",
       "\n",
       "        buttonGroup.appendChild(button);\n",
       "    }\n",
       "\n",
       "    if (buttonGroup.hasChildNodes()) {\n",
       "        toolbar.appendChild(buttonGroup);\n",
       "    }\n",
       "\n",
       "    var fmt_picker = document.createElement('select');\n",
       "    fmt_picker.classList = 'mpl-widget';\n",
       "    toolbar.appendChild(fmt_picker);\n",
       "    this.format_dropdown = fmt_picker;\n",
       "\n",
       "    for (var ind in mpl.extensions) {\n",
       "        var fmt = mpl.extensions[ind];\n",
       "        var option = document.createElement('option');\n",
       "        option.selected = fmt === mpl.default_extension;\n",
       "        option.innerHTML = fmt;\n",
       "        fmt_picker.appendChild(option);\n",
       "    }\n",
       "\n",
       "    var status_bar = document.createElement('span');\n",
       "    status_bar.classList = 'mpl-message';\n",
       "    toolbar.appendChild(status_bar);\n",
       "    this.message = status_bar;\n",
       "};\n",
       "\n",
       "mpl.figure.prototype.request_resize = function (x_pixels, y_pixels) {\n",
       "    // Request matplotlib to resize the figure. Matplotlib will then trigger a resize in the client,\n",
       "    // which will in turn request a refresh of the image.\n",
       "    this.send_message('resize', { width: x_pixels, height: y_pixels });\n",
       "};\n",
       "\n",
       "mpl.figure.prototype.send_message = function (type, properties) {\n",
       "    properties['type'] = type;\n",
       "    properties['figure_id'] = this.id;\n",
       "    this.ws.send(JSON.stringify(properties));\n",
       "};\n",
       "\n",
       "mpl.figure.prototype.send_draw_message = function () {\n",
       "    if (!this.waiting) {\n",
       "        this.waiting = true;\n",
       "        this.ws.send(JSON.stringify({ type: 'draw', figure_id: this.id }));\n",
       "    }\n",
       "};\n",
       "\n",
       "mpl.figure.prototype.handle_save = function (fig, _msg) {\n",
       "    var format_dropdown = fig.format_dropdown;\n",
       "    var format = format_dropdown.options[format_dropdown.selectedIndex].value;\n",
       "    fig.ondownload(fig, format);\n",
       "};\n",
       "\n",
       "mpl.figure.prototype.handle_resize = function (fig, msg) {\n",
       "    var size = msg['size'];\n",
       "    if (size[0] !== fig.canvas.width || size[1] !== fig.canvas.height) {\n",
       "        fig._resize_canvas(size[0], size[1], msg['forward']);\n",
       "        fig.send_message('refresh', {});\n",
       "    }\n",
       "};\n",
       "\n",
       "mpl.figure.prototype.handle_rubberband = function (fig, msg) {\n",
       "    var x0 = msg['x0'] / fig.ratio;\n",
       "    var y0 = (fig.canvas.height - msg['y0']) / fig.ratio;\n",
       "    var x1 = msg['x1'] / fig.ratio;\n",
       "    var y1 = (fig.canvas.height - msg['y1']) / fig.ratio;\n",
       "    x0 = Math.floor(x0) + 0.5;\n",
       "    y0 = Math.floor(y0) + 0.5;\n",
       "    x1 = Math.floor(x1) + 0.5;\n",
       "    y1 = Math.floor(y1) + 0.5;\n",
       "    var min_x = Math.min(x0, x1);\n",
       "    var min_y = Math.min(y0, y1);\n",
       "    var width = Math.abs(x1 - x0);\n",
       "    var height = Math.abs(y1 - y0);\n",
       "\n",
       "    fig.rubberband_context.clearRect(\n",
       "        0,\n",
       "        0,\n",
       "        fig.canvas.width / fig.ratio,\n",
       "        fig.canvas.height / fig.ratio\n",
       "    );\n",
       "\n",
       "    fig.rubberband_context.strokeRect(min_x, min_y, width, height);\n",
       "};\n",
       "\n",
       "mpl.figure.prototype.handle_figure_label = function (fig, msg) {\n",
       "    // Updates the figure title.\n",
       "    fig.header.textContent = msg['label'];\n",
       "};\n",
       "\n",
       "mpl.figure.prototype.handle_cursor = function (fig, msg) {\n",
       "    var cursor = msg['cursor'];\n",
       "    switch (cursor) {\n",
       "        case 0:\n",
       "            cursor = 'pointer';\n",
       "            break;\n",
       "        case 1:\n",
       "            cursor = 'default';\n",
       "            break;\n",
       "        case 2:\n",
       "            cursor = 'crosshair';\n",
       "            break;\n",
       "        case 3:\n",
       "            cursor = 'move';\n",
       "            break;\n",
       "    }\n",
       "    fig.rubberband_canvas.style.cursor = cursor;\n",
       "};\n",
       "\n",
       "mpl.figure.prototype.handle_message = function (fig, msg) {\n",
       "    fig.message.textContent = msg['message'];\n",
       "};\n",
       "\n",
       "mpl.figure.prototype.handle_draw = function (fig, _msg) {\n",
       "    // Request the server to send over a new figure.\n",
       "    fig.send_draw_message();\n",
       "};\n",
       "\n",
       "mpl.figure.prototype.handle_image_mode = function (fig, msg) {\n",
       "    fig.image_mode = msg['mode'];\n",
       "};\n",
       "\n",
       "mpl.figure.prototype.handle_history_buttons = function (fig, msg) {\n",
       "    for (var key in msg) {\n",
       "        if (!(key in fig.buttons)) {\n",
       "            continue;\n",
       "        }\n",
       "        fig.buttons[key].disabled = !msg[key];\n",
       "        fig.buttons[key].setAttribute('aria-disabled', !msg[key]);\n",
       "    }\n",
       "};\n",
       "\n",
       "mpl.figure.prototype.handle_navigate_mode = function (fig, msg) {\n",
       "    if (msg['mode'] === 'PAN') {\n",
       "        fig.buttons['Pan'].classList.add('active');\n",
       "        fig.buttons['Zoom'].classList.remove('active');\n",
       "    } else if (msg['mode'] === 'ZOOM') {\n",
       "        fig.buttons['Pan'].classList.remove('active');\n",
       "        fig.buttons['Zoom'].classList.add('active');\n",
       "    } else {\n",
       "        fig.buttons['Pan'].classList.remove('active');\n",
       "        fig.buttons['Zoom'].classList.remove('active');\n",
       "    }\n",
       "};\n",
       "\n",
       "mpl.figure.prototype.updated_canvas_event = function () {\n",
       "    // Called whenever the canvas gets updated.\n",
       "    this.send_message('ack', {});\n",
       "};\n",
       "\n",
       "// A function to construct a web socket function for onmessage handling.\n",
       "// Called in the figure constructor.\n",
       "mpl.figure.prototype._make_on_message_function = function (fig) {\n",
       "    return function socket_on_message(evt) {\n",
       "        if (evt.data instanceof Blob) {\n",
       "            /* FIXME: We get \"Resource interpreted as Image but\n",
       "             * transferred with MIME type text/plain:\" errors on\n",
       "             * Chrome.  But how to set the MIME type?  It doesn't seem\n",
       "             * to be part of the websocket stream */\n",
       "            evt.data.type = 'image/png';\n",
       "\n",
       "            /* Free the memory for the previous frames */\n",
       "            if (fig.imageObj.src) {\n",
       "                (window.URL || window.webkitURL).revokeObjectURL(\n",
       "                    fig.imageObj.src\n",
       "                );\n",
       "            }\n",
       "\n",
       "            fig.imageObj.src = (window.URL || window.webkitURL).createObjectURL(\n",
       "                evt.data\n",
       "            );\n",
       "            fig.updated_canvas_event();\n",
       "            fig.waiting = false;\n",
       "            return;\n",
       "        } else if (\n",
       "            typeof evt.data === 'string' &&\n",
       "            evt.data.slice(0, 21) === 'data:image/png;base64'\n",
       "        ) {\n",
       "            fig.imageObj.src = evt.data;\n",
       "            fig.updated_canvas_event();\n",
       "            fig.waiting = false;\n",
       "            return;\n",
       "        }\n",
       "\n",
       "        var msg = JSON.parse(evt.data);\n",
       "        var msg_type = msg['type'];\n",
       "\n",
       "        // Call the  \"handle_{type}\" callback, which takes\n",
       "        // the figure and JSON message as its only arguments.\n",
       "        try {\n",
       "            var callback = fig['handle_' + msg_type];\n",
       "        } catch (e) {\n",
       "            console.log(\n",
       "                \"No handler for the '\" + msg_type + \"' message type: \",\n",
       "                msg\n",
       "            );\n",
       "            return;\n",
       "        }\n",
       "\n",
       "        if (callback) {\n",
       "            try {\n",
       "                // console.log(\"Handling '\" + msg_type + \"' message: \", msg);\n",
       "                callback(fig, msg);\n",
       "            } catch (e) {\n",
       "                console.log(\n",
       "                    \"Exception inside the 'handler_\" + msg_type + \"' callback:\",\n",
       "                    e,\n",
       "                    e.stack,\n",
       "                    msg\n",
       "                );\n",
       "            }\n",
       "        }\n",
       "    };\n",
       "};\n",
       "\n",
       "// from http://stackoverflow.com/questions/1114465/getting-mouse-location-in-canvas\n",
       "mpl.findpos = function (e) {\n",
       "    //this section is from http://www.quirksmode.org/js/events_properties.html\n",
       "    var targ;\n",
       "    if (!e) {\n",
       "        e = window.event;\n",
       "    }\n",
       "    if (e.target) {\n",
       "        targ = e.target;\n",
       "    } else if (e.srcElement) {\n",
       "        targ = e.srcElement;\n",
       "    }\n",
       "    if (targ.nodeType === 3) {\n",
       "        // defeat Safari bug\n",
       "        targ = targ.parentNode;\n",
       "    }\n",
       "\n",
       "    // pageX,Y are the mouse positions relative to the document\n",
       "    var boundingRect = targ.getBoundingClientRect();\n",
       "    var x = e.pageX - (boundingRect.left + document.body.scrollLeft);\n",
       "    var y = e.pageY - (boundingRect.top + document.body.scrollTop);\n",
       "\n",
       "    return { x: x, y: y };\n",
       "};\n",
       "\n",
       "/*\n",
       " * return a copy of an object with only non-object keys\n",
       " * we need this to avoid circular references\n",
       " * http://stackoverflow.com/a/24161582/3208463\n",
       " */\n",
       "function simpleKeys(original) {\n",
       "    return Object.keys(original).reduce(function (obj, key) {\n",
       "        if (typeof original[key] !== 'object') {\n",
       "            obj[key] = original[key];\n",
       "        }\n",
       "        return obj;\n",
       "    }, {});\n",
       "}\n",
       "\n",
       "mpl.figure.prototype.mouse_event = function (event, name) {\n",
       "    var canvas_pos = mpl.findpos(event);\n",
       "\n",
       "    if (name === 'button_press') {\n",
       "        this.canvas.focus();\n",
       "        this.canvas_div.focus();\n",
       "    }\n",
       "\n",
       "    var x = canvas_pos.x * this.ratio;\n",
       "    var y = canvas_pos.y * this.ratio;\n",
       "\n",
       "    this.send_message(name, {\n",
       "        x: x,\n",
       "        y: y,\n",
       "        button: event.button,\n",
       "        step: event.step,\n",
       "        guiEvent: simpleKeys(event),\n",
       "    });\n",
       "\n",
       "    /* This prevents the web browser from automatically changing to\n",
       "     * the text insertion cursor when the button is pressed.  We want\n",
       "     * to control all of the cursor setting manually through the\n",
       "     * 'cursor' event from matplotlib */\n",
       "    event.preventDefault();\n",
       "    return false;\n",
       "};\n",
       "\n",
       "mpl.figure.prototype._key_event_extra = function (_event, _name) {\n",
       "    // Handle any extra behaviour associated with a key event\n",
       "};\n",
       "\n",
       "mpl.figure.prototype.key_event = function (event, name) {\n",
       "    // Prevent repeat events\n",
       "    if (name === 'key_press') {\n",
       "        if (event.which === this._key) {\n",
       "            return;\n",
       "        } else {\n",
       "            this._key = event.which;\n",
       "        }\n",
       "    }\n",
       "    if (name === 'key_release') {\n",
       "        this._key = null;\n",
       "    }\n",
       "\n",
       "    var value = '';\n",
       "    if (event.ctrlKey && event.which !== 17) {\n",
       "        value += 'ctrl+';\n",
       "    }\n",
       "    if (event.altKey && event.which !== 18) {\n",
       "        value += 'alt+';\n",
       "    }\n",
       "    if (event.shiftKey && event.which !== 16) {\n",
       "        value += 'shift+';\n",
       "    }\n",
       "\n",
       "    value += 'k';\n",
       "    value += event.which.toString();\n",
       "\n",
       "    this._key_event_extra(event, name);\n",
       "\n",
       "    this.send_message(name, { key: value, guiEvent: simpleKeys(event) });\n",
       "    return false;\n",
       "};\n",
       "\n",
       "mpl.figure.prototype.toolbar_button_onclick = function (name) {\n",
       "    if (name === 'download') {\n",
       "        this.handle_save(this, null);\n",
       "    } else {\n",
       "        this.send_message('toolbar_button', { name: name });\n",
       "    }\n",
       "};\n",
       "\n",
       "mpl.figure.prototype.toolbar_button_onmouseover = function (tooltip) {\n",
       "    this.message.textContent = tooltip;\n",
       "};\n",
       "\n",
       "///////////////// REMAINING CONTENT GENERATED BY embed_js.py /////////////////\n",
       "// prettier-ignore\n",
       "var _JSXTOOLS_RESIZE_OBSERVER=function(A){var t,i=new WeakMap,n=new WeakMap,a=new WeakMap,r=new WeakMap,o=new Set;function s(e){if(!(this instanceof s))throw new TypeError(\"Constructor requires 'new' operator\");i.set(this,e)}function h(){throw new TypeError(\"Function is not a constructor\")}function c(e,t,i,n){e=0 in arguments?Number(arguments[0]):0,t=1 in arguments?Number(arguments[1]):0,i=2 in arguments?Number(arguments[2]):0,n=3 in arguments?Number(arguments[3]):0,this.right=(this.x=this.left=e)+(this.width=i),this.bottom=(this.y=this.top=t)+(this.height=n),Object.freeze(this)}function d(){t=requestAnimationFrame(d);var s=new WeakMap,p=new Set;o.forEach((function(t){r.get(t).forEach((function(i){var r=t instanceof window.SVGElement,o=a.get(t),d=r?0:parseFloat(o.paddingTop),f=r?0:parseFloat(o.paddingRight),l=r?0:parseFloat(o.paddingBottom),u=r?0:parseFloat(o.paddingLeft),g=r?0:parseFloat(o.borderTopWidth),m=r?0:parseFloat(o.borderRightWidth),w=r?0:parseFloat(o.borderBottomWidth),b=u+f,F=d+l,v=(r?0:parseFloat(o.borderLeftWidth))+m,W=g+w,y=r?0:t.offsetHeight-W-t.clientHeight,E=r?0:t.offsetWidth-v-t.clientWidth,R=b+v,z=F+W,M=r?t.width:parseFloat(o.width)-R-E,O=r?t.height:parseFloat(o.height)-z-y;if(n.has(t)){var k=n.get(t);if(k[0]===M&&k[1]===O)return}n.set(t,[M,O]);var S=Object.create(h.prototype);S.target=t,S.contentRect=new c(u,d,M,O),s.has(i)||(s.set(i,[]),p.add(i)),s.get(i).push(S)}))})),p.forEach((function(e){i.get(e).call(e,s.get(e),e)}))}return s.prototype.observe=function(i){if(i instanceof window.Element){r.has(i)||(r.set(i,new Set),o.add(i),a.set(i,window.getComputedStyle(i)));var n=r.get(i);n.has(this)||n.add(this),cancelAnimationFrame(t),t=requestAnimationFrame(d)}},s.prototype.unobserve=function(i){if(i instanceof window.Element&&r.has(i)){var n=r.get(i);n.has(this)&&(n.delete(this),n.size||(r.delete(i),o.delete(i))),n.size||r.delete(i),o.size||cancelAnimationFrame(t)}},A.DOMRectReadOnly=c,A.ResizeObserver=s,A.ResizeObserverEntry=h,A}; // eslint-disable-line\n",
       "mpl.toolbar_items = [[\"Home\", \"Reset original view\", \"fa fa-home icon-home\", \"home\"], [\"Back\", \"Back to previous view\", \"fa fa-arrow-left icon-arrow-left\", \"back\"], [\"Forward\", \"Forward to next view\", \"fa fa-arrow-right icon-arrow-right\", \"forward\"], [\"\", \"\", \"\", \"\"], [\"Pan\", \"Left button pans, Right button zooms\\nx/y fixes axis, CTRL fixes aspect\", \"fa fa-arrows icon-move\", \"pan\"], [\"Zoom\", \"Zoom to rectangle\\nx/y fixes axis, CTRL fixes aspect\", \"fa fa-square-o icon-check-empty\", \"zoom\"], [\"\", \"\", \"\", \"\"], [\"Download\", \"Download plot\", \"fa fa-floppy-o icon-save\", \"download\"]];\n",
       "\n",
       "mpl.extensions = [\"eps\", \"jpeg\", \"pdf\", \"png\", \"ps\", \"raw\", \"svg\", \"tif\"];\n",
       "\n",
       "mpl.default_extension = \"png\";/* global mpl */\n",
       "\n",
       "var comm_websocket_adapter = function (comm) {\n",
       "    // Create a \"websocket\"-like object which calls the given IPython comm\n",
       "    // object with the appropriate methods. Currently this is a non binary\n",
       "    // socket, so there is still some room for performance tuning.\n",
       "    var ws = {};\n",
       "\n",
       "    ws.close = function () {\n",
       "        comm.close();\n",
       "    };\n",
       "    ws.send = function (m) {\n",
       "        //console.log('sending', m);\n",
       "        comm.send(m);\n",
       "    };\n",
       "    // Register the callback with on_msg.\n",
       "    comm.on_msg(function (msg) {\n",
       "        //console.log('receiving', msg['content']['data'], msg);\n",
       "        // Pass the mpl event to the overridden (by mpl) onmessage function.\n",
       "        ws.onmessage(msg['content']['data']);\n",
       "    });\n",
       "    return ws;\n",
       "};\n",
       "\n",
       "mpl.mpl_figure_comm = function (comm, msg) {\n",
       "    // This is the function which gets called when the mpl process\n",
       "    // starts-up an IPython Comm through the \"matplotlib\" channel.\n",
       "\n",
       "    var id = msg.content.data.id;\n",
       "    // Get hold of the div created by the display call when the Comm\n",
       "    // socket was opened in Python.\n",
       "    var element = document.getElementById(id);\n",
       "    var ws_proxy = comm_websocket_adapter(comm);\n",
       "\n",
       "    function ondownload(figure, _format) {\n",
       "        window.open(figure.canvas.toDataURL());\n",
       "    }\n",
       "\n",
       "    var fig = new mpl.figure(id, ws_proxy, ondownload, element);\n",
       "\n",
       "    // Call onopen now - mpl needs it, as it is assuming we've passed it a real\n",
       "    // web socket which is closed, not our websocket->open comm proxy.\n",
       "    ws_proxy.onopen();\n",
       "\n",
       "    fig.parent_element = element;\n",
       "    fig.cell_info = mpl.find_output_cell(\"<div id='\" + id + \"'></div>\");\n",
       "    if (!fig.cell_info) {\n",
       "        console.error('Failed to find cell for figure', id, fig);\n",
       "        return;\n",
       "    }\n",
       "    fig.cell_info[0].output_area.element.on(\n",
       "        'cleared',\n",
       "        { fig: fig },\n",
       "        fig._remove_fig_handler\n",
       "    );\n",
       "};\n",
       "\n",
       "mpl.figure.prototype.handle_close = function (fig, msg) {\n",
       "    var width = fig.canvas.width / fig.ratio;\n",
       "    fig.cell_info[0].output_area.element.off(\n",
       "        'cleared',\n",
       "        fig._remove_fig_handler\n",
       "    );\n",
       "    fig.resizeObserverInstance.unobserve(fig.canvas_div);\n",
       "\n",
       "    // Update the output cell to use the data from the current canvas.\n",
       "    fig.push_to_output();\n",
       "    var dataURL = fig.canvas.toDataURL();\n",
       "    // Re-enable the keyboard manager in IPython - without this line, in FF,\n",
       "    // the notebook keyboard shortcuts fail.\n",
       "    IPython.keyboard_manager.enable();\n",
       "    fig.parent_element.innerHTML =\n",
       "        '<img src=\"' + dataURL + '\" width=\"' + width + '\">';\n",
       "    fig.close_ws(fig, msg);\n",
       "};\n",
       "\n",
       "mpl.figure.prototype.close_ws = function (fig, msg) {\n",
       "    fig.send_message('closing', msg);\n",
       "    // fig.ws.close()\n",
       "};\n",
       "\n",
       "mpl.figure.prototype.push_to_output = function (_remove_interactive) {\n",
       "    // Turn the data on the canvas into data in the output cell.\n",
       "    var width = this.canvas.width / this.ratio;\n",
       "    var dataURL = this.canvas.toDataURL();\n",
       "    this.cell_info[1]['text/html'] =\n",
       "        '<img src=\"' + dataURL + '\" width=\"' + width + '\">';\n",
       "};\n",
       "\n",
       "mpl.figure.prototype.updated_canvas_event = function () {\n",
       "    // Tell IPython that the notebook contents must change.\n",
       "    IPython.notebook.set_dirty(true);\n",
       "    this.send_message('ack', {});\n",
       "    var fig = this;\n",
       "    // Wait a second, then push the new image to the DOM so\n",
       "    // that it is saved nicely (might be nice to debounce this).\n",
       "    setTimeout(function () {\n",
       "        fig.push_to_output();\n",
       "    }, 1000);\n",
       "};\n",
       "\n",
       "mpl.figure.prototype._init_toolbar = function () {\n",
       "    var fig = this;\n",
       "\n",
       "    var toolbar = document.createElement('div');\n",
       "    toolbar.classList = 'btn-toolbar';\n",
       "    this.root.appendChild(toolbar);\n",
       "\n",
       "    function on_click_closure(name) {\n",
       "        return function (_event) {\n",
       "            return fig.toolbar_button_onclick(name);\n",
       "        };\n",
       "    }\n",
       "\n",
       "    function on_mouseover_closure(tooltip) {\n",
       "        return function (event) {\n",
       "            if (!event.currentTarget.disabled) {\n",
       "                return fig.toolbar_button_onmouseover(tooltip);\n",
       "            }\n",
       "        };\n",
       "    }\n",
       "\n",
       "    fig.buttons = {};\n",
       "    var buttonGroup = document.createElement('div');\n",
       "    buttonGroup.classList = 'btn-group';\n",
       "    var button;\n",
       "    for (var toolbar_ind in mpl.toolbar_items) {\n",
       "        var name = mpl.toolbar_items[toolbar_ind][0];\n",
       "        var tooltip = mpl.toolbar_items[toolbar_ind][1];\n",
       "        var image = mpl.toolbar_items[toolbar_ind][2];\n",
       "        var method_name = mpl.toolbar_items[toolbar_ind][3];\n",
       "\n",
       "        if (!name) {\n",
       "            /* Instead of a spacer, we start a new button group. */\n",
       "            if (buttonGroup.hasChildNodes()) {\n",
       "                toolbar.appendChild(buttonGroup);\n",
       "            }\n",
       "            buttonGroup = document.createElement('div');\n",
       "            buttonGroup.classList = 'btn-group';\n",
       "            continue;\n",
       "        }\n",
       "\n",
       "        button = fig.buttons[name] = document.createElement('button');\n",
       "        button.classList = 'btn btn-default';\n",
       "        button.href = '#';\n",
       "        button.title = name;\n",
       "        button.innerHTML = '<i class=\"fa ' + image + ' fa-lg\"></i>';\n",
       "        button.addEventListener('click', on_click_closure(method_name));\n",
       "        button.addEventListener('mouseover', on_mouseover_closure(tooltip));\n",
       "        buttonGroup.appendChild(button);\n",
       "    }\n",
       "\n",
       "    if (buttonGroup.hasChildNodes()) {\n",
       "        toolbar.appendChild(buttonGroup);\n",
       "    }\n",
       "\n",
       "    // Add the status bar.\n",
       "    var status_bar = document.createElement('span');\n",
       "    status_bar.classList = 'mpl-message pull-right';\n",
       "    toolbar.appendChild(status_bar);\n",
       "    this.message = status_bar;\n",
       "\n",
       "    // Add the close button to the window.\n",
       "    var buttongrp = document.createElement('div');\n",
       "    buttongrp.classList = 'btn-group inline pull-right';\n",
       "    button = document.createElement('button');\n",
       "    button.classList = 'btn btn-mini btn-primary';\n",
       "    button.href = '#';\n",
       "    button.title = 'Stop Interaction';\n",
       "    button.innerHTML = '<i class=\"fa fa-power-off icon-remove icon-large\"></i>';\n",
       "    button.addEventListener('click', function (_evt) {\n",
       "        fig.handle_close(fig, {});\n",
       "    });\n",
       "    button.addEventListener(\n",
       "        'mouseover',\n",
       "        on_mouseover_closure('Stop Interaction')\n",
       "    );\n",
       "    buttongrp.appendChild(button);\n",
       "    var titlebar = this.root.querySelector('.ui-dialog-titlebar');\n",
       "    titlebar.insertBefore(buttongrp, titlebar.firstChild);\n",
       "};\n",
       "\n",
       "mpl.figure.prototype._remove_fig_handler = function (event) {\n",
       "    var fig = event.data.fig;\n",
       "    if (event.target !== this) {\n",
       "        // Ignore bubbled events from children.\n",
       "        return;\n",
       "    }\n",
       "    fig.close_ws(fig, {});\n",
       "};\n",
       "\n",
       "mpl.figure.prototype._root_extra_style = function (el) {\n",
       "    el.style.boxSizing = 'content-box'; // override notebook setting of border-box.\n",
       "};\n",
       "\n",
       "mpl.figure.prototype._canvas_extra_style = function (el) {\n",
       "    // this is important to make the div 'focusable\n",
       "    el.setAttribute('tabindex', 0);\n",
       "    // reach out to IPython and tell the keyboard manager to turn it's self\n",
       "    // off when our div gets focus\n",
       "\n",
       "    // location in version 3\n",
       "    if (IPython.notebook.keyboard_manager) {\n",
       "        IPython.notebook.keyboard_manager.register_events(el);\n",
       "    } else {\n",
       "        // location in version 2\n",
       "        IPython.keyboard_manager.register_events(el);\n",
       "    }\n",
       "};\n",
       "\n",
       "mpl.figure.prototype._key_event_extra = function (event, _name) {\n",
       "    var manager = IPython.notebook.keyboard_manager;\n",
       "    if (!manager) {\n",
       "        manager = IPython.keyboard_manager;\n",
       "    }\n",
       "\n",
       "    // Check for shift+enter\n",
       "    if (event.shiftKey && event.which === 13) {\n",
       "        this.canvas_div.blur();\n",
       "        // select the cell after this one\n",
       "        var index = IPython.notebook.find_cell_index(this.cell_info[0]);\n",
       "        IPython.notebook.select(index + 1);\n",
       "    }\n",
       "};\n",
       "\n",
       "mpl.figure.prototype.handle_save = function (fig, _msg) {\n",
       "    fig.ondownload(fig, null);\n",
       "};\n",
       "\n",
       "mpl.find_output_cell = function (html_output) {\n",
       "    // Return the cell and output element which can be found *uniquely* in the notebook.\n",
       "    // Note - this is a bit hacky, but it is done because the \"notebook_saving.Notebook\"\n",
       "    // IPython event is triggered only after the cells have been serialised, which for\n",
       "    // our purposes (turning an active figure into a static one), is too late.\n",
       "    var cells = IPython.notebook.get_cells();\n",
       "    var ncells = cells.length;\n",
       "    for (var i = 0; i < ncells; i++) {\n",
       "        var cell = cells[i];\n",
       "        if (cell.cell_type === 'code') {\n",
       "            for (var j = 0; j < cell.output_area.outputs.length; j++) {\n",
       "                var data = cell.output_area.outputs[j];\n",
       "                if (data.data) {\n",
       "                    // IPython >= 3 moved mimebundle to data attribute of output\n",
       "                    data = data.data;\n",
       "                }\n",
       "                if (data['text/html'] === html_output) {\n",
       "                    return [cell, data, j];\n",
       "                }\n",
       "            }\n",
       "        }\n",
       "    }\n",
       "};\n",
       "\n",
       "// Register the function which deals with the matplotlib target/channel.\n",
       "// The kernel may be null if the page has been refreshed.\n",
       "if (IPython.notebook.kernel !== null) {\n",
       "    IPython.notebook.kernel.comm_manager.register_target(\n",
       "        'matplotlib',\n",
       "        mpl.mpl_figure_comm\n",
       "    );\n",
       "}\n"
      ],
      "text/plain": [
       "<IPython.core.display.Javascript object>"
      ]
     },
     "metadata": {},
     "output_type": "display_data"
    },
    {
     "data": {
      "text/html": [
       "<img src=\"data:image/png;base64,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\" width=\"1000\">"
      ],
      "text/plain": [
       "<IPython.core.display.HTML object>"
      ]
     },
     "metadata": {},
     "output_type": "display_data"
    },
    {
     "data": {
      "text/plain": [
       "<matplotlib.legend.Legend at 0x124e9a75940>"
      ]
     },
     "execution_count": 82,
     "metadata": {},
     "output_type": "execute_result"
    }
   ],
   "source": [
    "fig = plt.figure('K-Means on SDSS Dataset', figsize=(10,10))\n",
    "ax = plt.axes(projection='3d')\n",
    "ax.scatter(centroids[1][0][0], centroids[1][0][1], centroids[1][0][2], c='r', s=100)\n",
    "ax.scatter(centroids[1][1][0], centroids[1][1][1], centroids[1][1][2], c='r', s=100)\n",
    "ax.scatter(centroids[1][2][0], centroids[1][2][1], centroids[1][2][2], c='r', s=100)\n",
    "scatter = ax.scatter(X_test['ra'], X_test['dec'], X_test['redshift'], c=labels[1])\n",
    "fig.legend(handles=scatter.legend_elements()[0], labels=['GALAXY', 'QSO', 'STAR'])"
   ]
  },
  {
   "cell_type": "code",
   "execution_count": 83,
   "metadata": {},
   "outputs": [
    {
     "data": {
      "application/javascript": [
       "/* Put everything inside the global mpl namespace */\n",
       "/* global mpl */\n",
       "window.mpl = {};\n",
       "\n",
       "mpl.get_websocket_type = function () {\n",
       "    if (typeof WebSocket !== 'undefined') {\n",
       "        return WebSocket;\n",
       "    } else if (typeof MozWebSocket !== 'undefined') {\n",
       "        return MozWebSocket;\n",
       "    } else {\n",
       "        alert(\n",
       "            'Your browser does not have WebSocket support. ' +\n",
       "                'Please try Chrome, Safari or Firefox ≥ 6. ' +\n",
       "                'Firefox 4 and 5 are also supported but you ' +\n",
       "                'have to enable WebSockets in about:config.'\n",
       "        );\n",
       "    }\n",
       "};\n",
       "\n",
       "mpl.figure = function (figure_id, websocket, ondownload, parent_element) {\n",
       "    this.id = figure_id;\n",
       "\n",
       "    this.ws = websocket;\n",
       "\n",
       "    this.supports_binary = this.ws.binaryType !== undefined;\n",
       "\n",
       "    if (!this.supports_binary) {\n",
       "        var warnings = document.getElementById('mpl-warnings');\n",
       "        if (warnings) {\n",
       "            warnings.style.display = 'block';\n",
       "            warnings.textContent =\n",
       "                'This browser does not support binary websocket messages. ' +\n",
       "                'Performance may be slow.';\n",
       "        }\n",
       "    }\n",
       "\n",
       "    this.imageObj = new Image();\n",
       "\n",
       "    this.context = undefined;\n",
       "    this.message = undefined;\n",
       "    this.canvas = undefined;\n",
       "    this.rubberband_canvas = undefined;\n",
       "    this.rubberband_context = undefined;\n",
       "    this.format_dropdown = undefined;\n",
       "\n",
       "    this.image_mode = 'full';\n",
       "\n",
       "    this.root = document.createElement('div');\n",
       "    this.root.setAttribute('style', 'display: inline-block');\n",
       "    this._root_extra_style(this.root);\n",
       "\n",
       "    parent_element.appendChild(this.root);\n",
       "\n",
       "    this._init_header(this);\n",
       "    this._init_canvas(this);\n",
       "    this._init_toolbar(this);\n",
       "\n",
       "    var fig = this;\n",
       "\n",
       "    this.waiting = false;\n",
       "\n",
       "    this.ws.onopen = function () {\n",
       "        fig.send_message('supports_binary', { value: fig.supports_binary });\n",
       "        fig.send_message('send_image_mode', {});\n",
       "        if (fig.ratio !== 1) {\n",
       "            fig.send_message('set_dpi_ratio', { dpi_ratio: fig.ratio });\n",
       "        }\n",
       "        fig.send_message('refresh', {});\n",
       "    };\n",
       "\n",
       "    this.imageObj.onload = function () {\n",
       "        if (fig.image_mode === 'full') {\n",
       "            // Full images could contain transparency (where diff images\n",
       "            // almost always do), so we need to clear the canvas so that\n",
       "            // there is no ghosting.\n",
       "            fig.context.clearRect(0, 0, fig.canvas.width, fig.canvas.height);\n",
       "        }\n",
       "        fig.context.drawImage(fig.imageObj, 0, 0);\n",
       "    };\n",
       "\n",
       "    this.imageObj.onunload = function () {\n",
       "        fig.ws.close();\n",
       "    };\n",
       "\n",
       "    this.ws.onmessage = this._make_on_message_function(this);\n",
       "\n",
       "    this.ondownload = ondownload;\n",
       "};\n",
       "\n",
       "mpl.figure.prototype._init_header = function () {\n",
       "    var titlebar = document.createElement('div');\n",
       "    titlebar.classList =\n",
       "        'ui-dialog-titlebar ui-widget-header ui-corner-all ui-helper-clearfix';\n",
       "    var titletext = document.createElement('div');\n",
       "    titletext.classList = 'ui-dialog-title';\n",
       "    titletext.setAttribute(\n",
       "        'style',\n",
       "        'width: 100%; text-align: center; padding: 3px;'\n",
       "    );\n",
       "    titlebar.appendChild(titletext);\n",
       "    this.root.appendChild(titlebar);\n",
       "    this.header = titletext;\n",
       "};\n",
       "\n",
       "mpl.figure.prototype._canvas_extra_style = function (_canvas_div) {};\n",
       "\n",
       "mpl.figure.prototype._root_extra_style = function (_canvas_div) {};\n",
       "\n",
       "mpl.figure.prototype._init_canvas = function () {\n",
       "    var fig = this;\n",
       "\n",
       "    var canvas_div = (this.canvas_div = document.createElement('div'));\n",
       "    canvas_div.setAttribute(\n",
       "        'style',\n",
       "        'border: 1px solid #ddd;' +\n",
       "            'box-sizing: content-box;' +\n",
       "            'clear: both;' +\n",
       "            'min-height: 1px;' +\n",
       "            'min-width: 1px;' +\n",
       "            'outline: 0;' +\n",
       "            'overflow: hidden;' +\n",
       "            'position: relative;' +\n",
       "            'resize: both;'\n",
       "    );\n",
       "\n",
       "    function on_keyboard_event_closure(name) {\n",
       "        return function (event) {\n",
       "            return fig.key_event(event, name);\n",
       "        };\n",
       "    }\n",
       "\n",
       "    canvas_div.addEventListener(\n",
       "        'keydown',\n",
       "        on_keyboard_event_closure('key_press')\n",
       "    );\n",
       "    canvas_div.addEventListener(\n",
       "        'keyup',\n",
       "        on_keyboard_event_closure('key_release')\n",
       "    );\n",
       "\n",
       "    this._canvas_extra_style(canvas_div);\n",
       "    this.root.appendChild(canvas_div);\n",
       "\n",
       "    var canvas = (this.canvas = document.createElement('canvas'));\n",
       "    canvas.classList.add('mpl-canvas');\n",
       "    canvas.setAttribute('style', 'box-sizing: content-box;');\n",
       "\n",
       "    this.context = canvas.getContext('2d');\n",
       "\n",
       "    var backingStore =\n",
       "        this.context.backingStorePixelRatio ||\n",
       "        this.context.webkitBackingStorePixelRatio ||\n",
       "        this.context.mozBackingStorePixelRatio ||\n",
       "        this.context.msBackingStorePixelRatio ||\n",
       "        this.context.oBackingStorePixelRatio ||\n",
       "        this.context.backingStorePixelRatio ||\n",
       "        1;\n",
       "\n",
       "    this.ratio = (window.devicePixelRatio || 1) / backingStore;\n",
       "\n",
       "    var rubberband_canvas = (this.rubberband_canvas = document.createElement(\n",
       "        'canvas'\n",
       "    ));\n",
       "    rubberband_canvas.setAttribute(\n",
       "        'style',\n",
       "        'box-sizing: content-box; position: absolute; left: 0; top: 0; z-index: 1;'\n",
       "    );\n",
       "\n",
       "    // Apply a ponyfill if ResizeObserver is not implemented by browser.\n",
       "    if (this.ResizeObserver === undefined) {\n",
       "        if (window.ResizeObserver !== undefined) {\n",
       "            this.ResizeObserver = window.ResizeObserver;\n",
       "        } else {\n",
       "            var obs = _JSXTOOLS_RESIZE_OBSERVER({});\n",
       "            this.ResizeObserver = obs.ResizeObserver;\n",
       "        }\n",
       "    }\n",
       "\n",
       "    this.resizeObserverInstance = new this.ResizeObserver(function (entries) {\n",
       "        var nentries = entries.length;\n",
       "        for (var i = 0; i < nentries; i++) {\n",
       "            var entry = entries[i];\n",
       "            var width, height;\n",
       "            if (entry.contentBoxSize) {\n",
       "                if (entry.contentBoxSize instanceof Array) {\n",
       "                    // Chrome 84 implements new version of spec.\n",
       "                    width = entry.contentBoxSize[0].inlineSize;\n",
       "                    height = entry.contentBoxSize[0].blockSize;\n",
       "                } else {\n",
       "                    // Firefox implements old version of spec.\n",
       "                    width = entry.contentBoxSize.inlineSize;\n",
       "                    height = entry.contentBoxSize.blockSize;\n",
       "                }\n",
       "            } else {\n",
       "                // Chrome <84 implements even older version of spec.\n",
       "                width = entry.contentRect.width;\n",
       "                height = entry.contentRect.height;\n",
       "            }\n",
       "\n",
       "            // Keep the size of the canvas and rubber band canvas in sync with\n",
       "            // the canvas container.\n",
       "            if (entry.devicePixelContentBoxSize) {\n",
       "                // Chrome 84 implements new version of spec.\n",
       "                canvas.setAttribute(\n",
       "                    'width',\n",
       "                    entry.devicePixelContentBoxSize[0].inlineSize\n",
       "                );\n",
       "                canvas.setAttribute(\n",
       "                    'height',\n",
       "                    entry.devicePixelContentBoxSize[0].blockSize\n",
       "                );\n",
       "            } else {\n",
       "                canvas.setAttribute('width', width * fig.ratio);\n",
       "                canvas.setAttribute('height', height * fig.ratio);\n",
       "            }\n",
       "            canvas.setAttribute(\n",
       "                'style',\n",
       "                'width: ' + width + 'px; height: ' + height + 'px;'\n",
       "            );\n",
       "\n",
       "            rubberband_canvas.setAttribute('width', width);\n",
       "            rubberband_canvas.setAttribute('height', height);\n",
       "\n",
       "            // And update the size in Python. We ignore the initial 0/0 size\n",
       "            // that occurs as the element is placed into the DOM, which should\n",
       "            // otherwise not happen due to the minimum size styling.\n",
       "            if (fig.ws.readyState == 1 && width != 0 && height != 0) {\n",
       "                fig.request_resize(width, height);\n",
       "            }\n",
       "        }\n",
       "    });\n",
       "    this.resizeObserverInstance.observe(canvas_div);\n",
       "\n",
       "    function on_mouse_event_closure(name) {\n",
       "        return function (event) {\n",
       "            return fig.mouse_event(event, name);\n",
       "        };\n",
       "    }\n",
       "\n",
       "    rubberband_canvas.addEventListener(\n",
       "        'mousedown',\n",
       "        on_mouse_event_closure('button_press')\n",
       "    );\n",
       "    rubberband_canvas.addEventListener(\n",
       "        'mouseup',\n",
       "        on_mouse_event_closure('button_release')\n",
       "    );\n",
       "    // Throttle sequential mouse events to 1 every 20ms.\n",
       "    rubberband_canvas.addEventListener(\n",
       "        'mousemove',\n",
       "        on_mouse_event_closure('motion_notify')\n",
       "    );\n",
       "\n",
       "    rubberband_canvas.addEventListener(\n",
       "        'mouseenter',\n",
       "        on_mouse_event_closure('figure_enter')\n",
       "    );\n",
       "    rubberband_canvas.addEventListener(\n",
       "        'mouseleave',\n",
       "        on_mouse_event_closure('figure_leave')\n",
       "    );\n",
       "\n",
       "    canvas_div.addEventListener('wheel', function (event) {\n",
       "        if (event.deltaY < 0) {\n",
       "            event.step = 1;\n",
       "        } else {\n",
       "            event.step = -1;\n",
       "        }\n",
       "        on_mouse_event_closure('scroll')(event);\n",
       "    });\n",
       "\n",
       "    canvas_div.appendChild(canvas);\n",
       "    canvas_div.appendChild(rubberband_canvas);\n",
       "\n",
       "    this.rubberband_context = rubberband_canvas.getContext('2d');\n",
       "    this.rubberband_context.strokeStyle = '#000000';\n",
       "\n",
       "    this._resize_canvas = function (width, height, forward) {\n",
       "        if (forward) {\n",
       "            canvas_div.style.width = width + 'px';\n",
       "            canvas_div.style.height = height + 'px';\n",
       "        }\n",
       "    };\n",
       "\n",
       "    // Disable right mouse context menu.\n",
       "    this.rubberband_canvas.addEventListener('contextmenu', function (_e) {\n",
       "        event.preventDefault();\n",
       "        return false;\n",
       "    });\n",
       "\n",
       "    function set_focus() {\n",
       "        canvas.focus();\n",
       "        canvas_div.focus();\n",
       "    }\n",
       "\n",
       "    window.setTimeout(set_focus, 100);\n",
       "};\n",
       "\n",
       "mpl.figure.prototype._init_toolbar = function () {\n",
       "    var fig = this;\n",
       "\n",
       "    var toolbar = document.createElement('div');\n",
       "    toolbar.classList = 'mpl-toolbar';\n",
       "    this.root.appendChild(toolbar);\n",
       "\n",
       "    function on_click_closure(name) {\n",
       "        return function (_event) {\n",
       "            return fig.toolbar_button_onclick(name);\n",
       "        };\n",
       "    }\n",
       "\n",
       "    function on_mouseover_closure(tooltip) {\n",
       "        return function (event) {\n",
       "            if (!event.currentTarget.disabled) {\n",
       "                return fig.toolbar_button_onmouseover(tooltip);\n",
       "            }\n",
       "        };\n",
       "    }\n",
       "\n",
       "    fig.buttons = {};\n",
       "    var buttonGroup = document.createElement('div');\n",
       "    buttonGroup.classList = 'mpl-button-group';\n",
       "    for (var toolbar_ind in mpl.toolbar_items) {\n",
       "        var name = mpl.toolbar_items[toolbar_ind][0];\n",
       "        var tooltip = mpl.toolbar_items[toolbar_ind][1];\n",
       "        var image = mpl.toolbar_items[toolbar_ind][2];\n",
       "        var method_name = mpl.toolbar_items[toolbar_ind][3];\n",
       "\n",
       "        if (!name) {\n",
       "            /* Instead of a spacer, we start a new button group. */\n",
       "            if (buttonGroup.hasChildNodes()) {\n",
       "                toolbar.appendChild(buttonGroup);\n",
       "            }\n",
       "            buttonGroup = document.createElement('div');\n",
       "            buttonGroup.classList = 'mpl-button-group';\n",
       "            continue;\n",
       "        }\n",
       "\n",
       "        var button = (fig.buttons[name] = document.createElement('button'));\n",
       "        button.classList = 'mpl-widget';\n",
       "        button.setAttribute('role', 'button');\n",
       "        button.setAttribute('aria-disabled', 'false');\n",
       "        button.addEventListener('click', on_click_closure(method_name));\n",
       "        button.addEventListener('mouseover', on_mouseover_closure(tooltip));\n",
       "\n",
       "        var icon_img = document.createElement('img');\n",
       "        icon_img.src = '_images/' + image + '.png';\n",
       "        icon_img.srcset = '_images/' + image + '_large.png 2x';\n",
       "        icon_img.alt = tooltip;\n",
       "        button.appendChild(icon_img);\n",
       "\n",
       "        buttonGroup.appendChild(button);\n",
       "    }\n",
       "\n",
       "    if (buttonGroup.hasChildNodes()) {\n",
       "        toolbar.appendChild(buttonGroup);\n",
       "    }\n",
       "\n",
       "    var fmt_picker = document.createElement('select');\n",
       "    fmt_picker.classList = 'mpl-widget';\n",
       "    toolbar.appendChild(fmt_picker);\n",
       "    this.format_dropdown = fmt_picker;\n",
       "\n",
       "    for (var ind in mpl.extensions) {\n",
       "        var fmt = mpl.extensions[ind];\n",
       "        var option = document.createElement('option');\n",
       "        option.selected = fmt === mpl.default_extension;\n",
       "        option.innerHTML = fmt;\n",
       "        fmt_picker.appendChild(option);\n",
       "    }\n",
       "\n",
       "    var status_bar = document.createElement('span');\n",
       "    status_bar.classList = 'mpl-message';\n",
       "    toolbar.appendChild(status_bar);\n",
       "    this.message = status_bar;\n",
       "};\n",
       "\n",
       "mpl.figure.prototype.request_resize = function (x_pixels, y_pixels) {\n",
       "    // Request matplotlib to resize the figure. Matplotlib will then trigger a resize in the client,\n",
       "    // which will in turn request a refresh of the image.\n",
       "    this.send_message('resize', { width: x_pixels, height: y_pixels });\n",
       "};\n",
       "\n",
       "mpl.figure.prototype.send_message = function (type, properties) {\n",
       "    properties['type'] = type;\n",
       "    properties['figure_id'] = this.id;\n",
       "    this.ws.send(JSON.stringify(properties));\n",
       "};\n",
       "\n",
       "mpl.figure.prototype.send_draw_message = function () {\n",
       "    if (!this.waiting) {\n",
       "        this.waiting = true;\n",
       "        this.ws.send(JSON.stringify({ type: 'draw', figure_id: this.id }));\n",
       "    }\n",
       "};\n",
       "\n",
       "mpl.figure.prototype.handle_save = function (fig, _msg) {\n",
       "    var format_dropdown = fig.format_dropdown;\n",
       "    var format = format_dropdown.options[format_dropdown.selectedIndex].value;\n",
       "    fig.ondownload(fig, format);\n",
       "};\n",
       "\n",
       "mpl.figure.prototype.handle_resize = function (fig, msg) {\n",
       "    var size = msg['size'];\n",
       "    if (size[0] !== fig.canvas.width || size[1] !== fig.canvas.height) {\n",
       "        fig._resize_canvas(size[0], size[1], msg['forward']);\n",
       "        fig.send_message('refresh', {});\n",
       "    }\n",
       "};\n",
       "\n",
       "mpl.figure.prototype.handle_rubberband = function (fig, msg) {\n",
       "    var x0 = msg['x0'] / fig.ratio;\n",
       "    var y0 = (fig.canvas.height - msg['y0']) / fig.ratio;\n",
       "    var x1 = msg['x1'] / fig.ratio;\n",
       "    var y1 = (fig.canvas.height - msg['y1']) / fig.ratio;\n",
       "    x0 = Math.floor(x0) + 0.5;\n",
       "    y0 = Math.floor(y0) + 0.5;\n",
       "    x1 = Math.floor(x1) + 0.5;\n",
       "    y1 = Math.floor(y1) + 0.5;\n",
       "    var min_x = Math.min(x0, x1);\n",
       "    var min_y = Math.min(y0, y1);\n",
       "    var width = Math.abs(x1 - x0);\n",
       "    var height = Math.abs(y1 - y0);\n",
       "\n",
       "    fig.rubberband_context.clearRect(\n",
       "        0,\n",
       "        0,\n",
       "        fig.canvas.width / fig.ratio,\n",
       "        fig.canvas.height / fig.ratio\n",
       "    );\n",
       "\n",
       "    fig.rubberband_context.strokeRect(min_x, min_y, width, height);\n",
       "};\n",
       "\n",
       "mpl.figure.prototype.handle_figure_label = function (fig, msg) {\n",
       "    // Updates the figure title.\n",
       "    fig.header.textContent = msg['label'];\n",
       "};\n",
       "\n",
       "mpl.figure.prototype.handle_cursor = function (fig, msg) {\n",
       "    var cursor = msg['cursor'];\n",
       "    switch (cursor) {\n",
       "        case 0:\n",
       "            cursor = 'pointer';\n",
       "            break;\n",
       "        case 1:\n",
       "            cursor = 'default';\n",
       "            break;\n",
       "        case 2:\n",
       "            cursor = 'crosshair';\n",
       "            break;\n",
       "        case 3:\n",
       "            cursor = 'move';\n",
       "            break;\n",
       "    }\n",
       "    fig.rubberband_canvas.style.cursor = cursor;\n",
       "};\n",
       "\n",
       "mpl.figure.prototype.handle_message = function (fig, msg) {\n",
       "    fig.message.textContent = msg['message'];\n",
       "};\n",
       "\n",
       "mpl.figure.prototype.handle_draw = function (fig, _msg) {\n",
       "    // Request the server to send over a new figure.\n",
       "    fig.send_draw_message();\n",
       "};\n",
       "\n",
       "mpl.figure.prototype.handle_image_mode = function (fig, msg) {\n",
       "    fig.image_mode = msg['mode'];\n",
       "};\n",
       "\n",
       "mpl.figure.prototype.handle_history_buttons = function (fig, msg) {\n",
       "    for (var key in msg) {\n",
       "        if (!(key in fig.buttons)) {\n",
       "            continue;\n",
       "        }\n",
       "        fig.buttons[key].disabled = !msg[key];\n",
       "        fig.buttons[key].setAttribute('aria-disabled', !msg[key]);\n",
       "    }\n",
       "};\n",
       "\n",
       "mpl.figure.prototype.handle_navigate_mode = function (fig, msg) {\n",
       "    if (msg['mode'] === 'PAN') {\n",
       "        fig.buttons['Pan'].classList.add('active');\n",
       "        fig.buttons['Zoom'].classList.remove('active');\n",
       "    } else if (msg['mode'] === 'ZOOM') {\n",
       "        fig.buttons['Pan'].classList.remove('active');\n",
       "        fig.buttons['Zoom'].classList.add('active');\n",
       "    } else {\n",
       "        fig.buttons['Pan'].classList.remove('active');\n",
       "        fig.buttons['Zoom'].classList.remove('active');\n",
       "    }\n",
       "};\n",
       "\n",
       "mpl.figure.prototype.updated_canvas_event = function () {\n",
       "    // Called whenever the canvas gets updated.\n",
       "    this.send_message('ack', {});\n",
       "};\n",
       "\n",
       "// A function to construct a web socket function for onmessage handling.\n",
       "// Called in the figure constructor.\n",
       "mpl.figure.prototype._make_on_message_function = function (fig) {\n",
       "    return function socket_on_message(evt) {\n",
       "        if (evt.data instanceof Blob) {\n",
       "            /* FIXME: We get \"Resource interpreted as Image but\n",
       "             * transferred with MIME type text/plain:\" errors on\n",
       "             * Chrome.  But how to set the MIME type?  It doesn't seem\n",
       "             * to be part of the websocket stream */\n",
       "            evt.data.type = 'image/png';\n",
       "\n",
       "            /* Free the memory for the previous frames */\n",
       "            if (fig.imageObj.src) {\n",
       "                (window.URL || window.webkitURL).revokeObjectURL(\n",
       "                    fig.imageObj.src\n",
       "                );\n",
       "            }\n",
       "\n",
       "            fig.imageObj.src = (window.URL || window.webkitURL).createObjectURL(\n",
       "                evt.data\n",
       "            );\n",
       "            fig.updated_canvas_event();\n",
       "            fig.waiting = false;\n",
       "            return;\n",
       "        } else if (\n",
       "            typeof evt.data === 'string' &&\n",
       "            evt.data.slice(0, 21) === 'data:image/png;base64'\n",
       "        ) {\n",
       "            fig.imageObj.src = evt.data;\n",
       "            fig.updated_canvas_event();\n",
       "            fig.waiting = false;\n",
       "            return;\n",
       "        }\n",
       "\n",
       "        var msg = JSON.parse(evt.data);\n",
       "        var msg_type = msg['type'];\n",
       "\n",
       "        // Call the  \"handle_{type}\" callback, which takes\n",
       "        // the figure and JSON message as its only arguments.\n",
       "        try {\n",
       "            var callback = fig['handle_' + msg_type];\n",
       "        } catch (e) {\n",
       "            console.log(\n",
       "                \"No handler for the '\" + msg_type + \"' message type: \",\n",
       "                msg\n",
       "            );\n",
       "            return;\n",
       "        }\n",
       "\n",
       "        if (callback) {\n",
       "            try {\n",
       "                // console.log(\"Handling '\" + msg_type + \"' message: \", msg);\n",
       "                callback(fig, msg);\n",
       "            } catch (e) {\n",
       "                console.log(\n",
       "                    \"Exception inside the 'handler_\" + msg_type + \"' callback:\",\n",
       "                    e,\n",
       "                    e.stack,\n",
       "                    msg\n",
       "                );\n",
       "            }\n",
       "        }\n",
       "    };\n",
       "};\n",
       "\n",
       "// from http://stackoverflow.com/questions/1114465/getting-mouse-location-in-canvas\n",
       "mpl.findpos = function (e) {\n",
       "    //this section is from http://www.quirksmode.org/js/events_properties.html\n",
       "    var targ;\n",
       "    if (!e) {\n",
       "        e = window.event;\n",
       "    }\n",
       "    if (e.target) {\n",
       "        targ = e.target;\n",
       "    } else if (e.srcElement) {\n",
       "        targ = e.srcElement;\n",
       "    }\n",
       "    if (targ.nodeType === 3) {\n",
       "        // defeat Safari bug\n",
       "        targ = targ.parentNode;\n",
       "    }\n",
       "\n",
       "    // pageX,Y are the mouse positions relative to the document\n",
       "    var boundingRect = targ.getBoundingClientRect();\n",
       "    var x = e.pageX - (boundingRect.left + document.body.scrollLeft);\n",
       "    var y = e.pageY - (boundingRect.top + document.body.scrollTop);\n",
       "\n",
       "    return { x: x, y: y };\n",
       "};\n",
       "\n",
       "/*\n",
       " * return a copy of an object with only non-object keys\n",
       " * we need this to avoid circular references\n",
       " * http://stackoverflow.com/a/24161582/3208463\n",
       " */\n",
       "function simpleKeys(original) {\n",
       "    return Object.keys(original).reduce(function (obj, key) {\n",
       "        if (typeof original[key] !== 'object') {\n",
       "            obj[key] = original[key];\n",
       "        }\n",
       "        return obj;\n",
       "    }, {});\n",
       "}\n",
       "\n",
       "mpl.figure.prototype.mouse_event = function (event, name) {\n",
       "    var canvas_pos = mpl.findpos(event);\n",
       "\n",
       "    if (name === 'button_press') {\n",
       "        this.canvas.focus();\n",
       "        this.canvas_div.focus();\n",
       "    }\n",
       "\n",
       "    var x = canvas_pos.x * this.ratio;\n",
       "    var y = canvas_pos.y * this.ratio;\n",
       "\n",
       "    this.send_message(name, {\n",
       "        x: x,\n",
       "        y: y,\n",
       "        button: event.button,\n",
       "        step: event.step,\n",
       "        guiEvent: simpleKeys(event),\n",
       "    });\n",
       "\n",
       "    /* This prevents the web browser from automatically changing to\n",
       "     * the text insertion cursor when the button is pressed.  We want\n",
       "     * to control all of the cursor setting manually through the\n",
       "     * 'cursor' event from matplotlib */\n",
       "    event.preventDefault();\n",
       "    return false;\n",
       "};\n",
       "\n",
       "mpl.figure.prototype._key_event_extra = function (_event, _name) {\n",
       "    // Handle any extra behaviour associated with a key event\n",
       "};\n",
       "\n",
       "mpl.figure.prototype.key_event = function (event, name) {\n",
       "    // Prevent repeat events\n",
       "    if (name === 'key_press') {\n",
       "        if (event.which === this._key) {\n",
       "            return;\n",
       "        } else {\n",
       "            this._key = event.which;\n",
       "        }\n",
       "    }\n",
       "    if (name === 'key_release') {\n",
       "        this._key = null;\n",
       "    }\n",
       "\n",
       "    var value = '';\n",
       "    if (event.ctrlKey && event.which !== 17) {\n",
       "        value += 'ctrl+';\n",
       "    }\n",
       "    if (event.altKey && event.which !== 18) {\n",
       "        value += 'alt+';\n",
       "    }\n",
       "    if (event.shiftKey && event.which !== 16) {\n",
       "        value += 'shift+';\n",
       "    }\n",
       "\n",
       "    value += 'k';\n",
       "    value += event.which.toString();\n",
       "\n",
       "    this._key_event_extra(event, name);\n",
       "\n",
       "    this.send_message(name, { key: value, guiEvent: simpleKeys(event) });\n",
       "    return false;\n",
       "};\n",
       "\n",
       "mpl.figure.prototype.toolbar_button_onclick = function (name) {\n",
       "    if (name === 'download') {\n",
       "        this.handle_save(this, null);\n",
       "    } else {\n",
       "        this.send_message('toolbar_button', { name: name });\n",
       "    }\n",
       "};\n",
       "\n",
       "mpl.figure.prototype.toolbar_button_onmouseover = function (tooltip) {\n",
       "    this.message.textContent = tooltip;\n",
       "};\n",
       "\n",
       "///////////////// REMAINING CONTENT GENERATED BY embed_js.py /////////////////\n",
       "// prettier-ignore\n",
       "var _JSXTOOLS_RESIZE_OBSERVER=function(A){var t,i=new WeakMap,n=new WeakMap,a=new WeakMap,r=new WeakMap,o=new Set;function s(e){if(!(this instanceof s))throw new TypeError(\"Constructor requires 'new' operator\");i.set(this,e)}function h(){throw new TypeError(\"Function is not a constructor\")}function c(e,t,i,n){e=0 in arguments?Number(arguments[0]):0,t=1 in arguments?Number(arguments[1]):0,i=2 in arguments?Number(arguments[2]):0,n=3 in arguments?Number(arguments[3]):0,this.right=(this.x=this.left=e)+(this.width=i),this.bottom=(this.y=this.top=t)+(this.height=n),Object.freeze(this)}function d(){t=requestAnimationFrame(d);var s=new WeakMap,p=new Set;o.forEach((function(t){r.get(t).forEach((function(i){var r=t instanceof window.SVGElement,o=a.get(t),d=r?0:parseFloat(o.paddingTop),f=r?0:parseFloat(o.paddingRight),l=r?0:parseFloat(o.paddingBottom),u=r?0:parseFloat(o.paddingLeft),g=r?0:parseFloat(o.borderTopWidth),m=r?0:parseFloat(o.borderRightWidth),w=r?0:parseFloat(o.borderBottomWidth),b=u+f,F=d+l,v=(r?0:parseFloat(o.borderLeftWidth))+m,W=g+w,y=r?0:t.offsetHeight-W-t.clientHeight,E=r?0:t.offsetWidth-v-t.clientWidth,R=b+v,z=F+W,M=r?t.width:parseFloat(o.width)-R-E,O=r?t.height:parseFloat(o.height)-z-y;if(n.has(t)){var k=n.get(t);if(k[0]===M&&k[1]===O)return}n.set(t,[M,O]);var S=Object.create(h.prototype);S.target=t,S.contentRect=new c(u,d,M,O),s.has(i)||(s.set(i,[]),p.add(i)),s.get(i).push(S)}))})),p.forEach((function(e){i.get(e).call(e,s.get(e),e)}))}return s.prototype.observe=function(i){if(i instanceof window.Element){r.has(i)||(r.set(i,new Set),o.add(i),a.set(i,window.getComputedStyle(i)));var n=r.get(i);n.has(this)||n.add(this),cancelAnimationFrame(t),t=requestAnimationFrame(d)}},s.prototype.unobserve=function(i){if(i instanceof window.Element&&r.has(i)){var n=r.get(i);n.has(this)&&(n.delete(this),n.size||(r.delete(i),o.delete(i))),n.size||r.delete(i),o.size||cancelAnimationFrame(t)}},A.DOMRectReadOnly=c,A.ResizeObserver=s,A.ResizeObserverEntry=h,A}; // eslint-disable-line\n",
       "mpl.toolbar_items = [[\"Home\", \"Reset original view\", \"fa fa-home icon-home\", \"home\"], [\"Back\", \"Back to previous view\", \"fa fa-arrow-left icon-arrow-left\", \"back\"], [\"Forward\", \"Forward to next view\", \"fa fa-arrow-right icon-arrow-right\", \"forward\"], [\"\", \"\", \"\", \"\"], [\"Pan\", \"Left button pans, Right button zooms\\nx/y fixes axis, CTRL fixes aspect\", \"fa fa-arrows icon-move\", \"pan\"], [\"Zoom\", \"Zoom to rectangle\\nx/y fixes axis, CTRL fixes aspect\", \"fa fa-square-o icon-check-empty\", \"zoom\"], [\"\", \"\", \"\", \"\"], [\"Download\", \"Download plot\", \"fa fa-floppy-o icon-save\", \"download\"]];\n",
       "\n",
       "mpl.extensions = [\"eps\", \"jpeg\", \"pdf\", \"png\", \"ps\", \"raw\", \"svg\", \"tif\"];\n",
       "\n",
       "mpl.default_extension = \"png\";/* global mpl */\n",
       "\n",
       "var comm_websocket_adapter = function (comm) {\n",
       "    // Create a \"websocket\"-like object which calls the given IPython comm\n",
       "    // object with the appropriate methods. Currently this is a non binary\n",
       "    // socket, so there is still some room for performance tuning.\n",
       "    var ws = {};\n",
       "\n",
       "    ws.close = function () {\n",
       "        comm.close();\n",
       "    };\n",
       "    ws.send = function (m) {\n",
       "        //console.log('sending', m);\n",
       "        comm.send(m);\n",
       "    };\n",
       "    // Register the callback with on_msg.\n",
       "    comm.on_msg(function (msg) {\n",
       "        //console.log('receiving', msg['content']['data'], msg);\n",
       "        // Pass the mpl event to the overridden (by mpl) onmessage function.\n",
       "        ws.onmessage(msg['content']['data']);\n",
       "    });\n",
       "    return ws;\n",
       "};\n",
       "\n",
       "mpl.mpl_figure_comm = function (comm, msg) {\n",
       "    // This is the function which gets called when the mpl process\n",
       "    // starts-up an IPython Comm through the \"matplotlib\" channel.\n",
       "\n",
       "    var id = msg.content.data.id;\n",
       "    // Get hold of the div created by the display call when the Comm\n",
       "    // socket was opened in Python.\n",
       "    var element = document.getElementById(id);\n",
       "    var ws_proxy = comm_websocket_adapter(comm);\n",
       "\n",
       "    function ondownload(figure, _format) {\n",
       "        window.open(figure.canvas.toDataURL());\n",
       "    }\n",
       "\n",
       "    var fig = new mpl.figure(id, ws_proxy, ondownload, element);\n",
       "\n",
       "    // Call onopen now - mpl needs it, as it is assuming we've passed it a real\n",
       "    // web socket which is closed, not our websocket->open comm proxy.\n",
       "    ws_proxy.onopen();\n",
       "\n",
       "    fig.parent_element = element;\n",
       "    fig.cell_info = mpl.find_output_cell(\"<div id='\" + id + \"'></div>\");\n",
       "    if (!fig.cell_info) {\n",
       "        console.error('Failed to find cell for figure', id, fig);\n",
       "        return;\n",
       "    }\n",
       "    fig.cell_info[0].output_area.element.on(\n",
       "        'cleared',\n",
       "        { fig: fig },\n",
       "        fig._remove_fig_handler\n",
       "    );\n",
       "};\n",
       "\n",
       "mpl.figure.prototype.handle_close = function (fig, msg) {\n",
       "    var width = fig.canvas.width / fig.ratio;\n",
       "    fig.cell_info[0].output_area.element.off(\n",
       "        'cleared',\n",
       "        fig._remove_fig_handler\n",
       "    );\n",
       "    fig.resizeObserverInstance.unobserve(fig.canvas_div);\n",
       "\n",
       "    // Update the output cell to use the data from the current canvas.\n",
       "    fig.push_to_output();\n",
       "    var dataURL = fig.canvas.toDataURL();\n",
       "    // Re-enable the keyboard manager in IPython - without this line, in FF,\n",
       "    // the notebook keyboard shortcuts fail.\n",
       "    IPython.keyboard_manager.enable();\n",
       "    fig.parent_element.innerHTML =\n",
       "        '<img src=\"' + dataURL + '\" width=\"' + width + '\">';\n",
       "    fig.close_ws(fig, msg);\n",
       "};\n",
       "\n",
       "mpl.figure.prototype.close_ws = function (fig, msg) {\n",
       "    fig.send_message('closing', msg);\n",
       "    // fig.ws.close()\n",
       "};\n",
       "\n",
       "mpl.figure.prototype.push_to_output = function (_remove_interactive) {\n",
       "    // Turn the data on the canvas into data in the output cell.\n",
       "    var width = this.canvas.width / this.ratio;\n",
       "    var dataURL = this.canvas.toDataURL();\n",
       "    this.cell_info[1]['text/html'] =\n",
       "        '<img src=\"' + dataURL + '\" width=\"' + width + '\">';\n",
       "};\n",
       "\n",
       "mpl.figure.prototype.updated_canvas_event = function () {\n",
       "    // Tell IPython that the notebook contents must change.\n",
       "    IPython.notebook.set_dirty(true);\n",
       "    this.send_message('ack', {});\n",
       "    var fig = this;\n",
       "    // Wait a second, then push the new image to the DOM so\n",
       "    // that it is saved nicely (might be nice to debounce this).\n",
       "    setTimeout(function () {\n",
       "        fig.push_to_output();\n",
       "    }, 1000);\n",
       "};\n",
       "\n",
       "mpl.figure.prototype._init_toolbar = function () {\n",
       "    var fig = this;\n",
       "\n",
       "    var toolbar = document.createElement('div');\n",
       "    toolbar.classList = 'btn-toolbar';\n",
       "    this.root.appendChild(toolbar);\n",
       "\n",
       "    function on_click_closure(name) {\n",
       "        return function (_event) {\n",
       "            return fig.toolbar_button_onclick(name);\n",
       "        };\n",
       "    }\n",
       "\n",
       "    function on_mouseover_closure(tooltip) {\n",
       "        return function (event) {\n",
       "            if (!event.currentTarget.disabled) {\n",
       "                return fig.toolbar_button_onmouseover(tooltip);\n",
       "            }\n",
       "        };\n",
       "    }\n",
       "\n",
       "    fig.buttons = {};\n",
       "    var buttonGroup = document.createElement('div');\n",
       "    buttonGroup.classList = 'btn-group';\n",
       "    var button;\n",
       "    for (var toolbar_ind in mpl.toolbar_items) {\n",
       "        var name = mpl.toolbar_items[toolbar_ind][0];\n",
       "        var tooltip = mpl.toolbar_items[toolbar_ind][1];\n",
       "        var image = mpl.toolbar_items[toolbar_ind][2];\n",
       "        var method_name = mpl.toolbar_items[toolbar_ind][3];\n",
       "\n",
       "        if (!name) {\n",
       "            /* Instead of a spacer, we start a new button group. */\n",
       "            if (buttonGroup.hasChildNodes()) {\n",
       "                toolbar.appendChild(buttonGroup);\n",
       "            }\n",
       "            buttonGroup = document.createElement('div');\n",
       "            buttonGroup.classList = 'btn-group';\n",
       "            continue;\n",
       "        }\n",
       "\n",
       "        button = fig.buttons[name] = document.createElement('button');\n",
       "        button.classList = 'btn btn-default';\n",
       "        button.href = '#';\n",
       "        button.title = name;\n",
       "        button.innerHTML = '<i class=\"fa ' + image + ' fa-lg\"></i>';\n",
       "        button.addEventListener('click', on_click_closure(method_name));\n",
       "        button.addEventListener('mouseover', on_mouseover_closure(tooltip));\n",
       "        buttonGroup.appendChild(button);\n",
       "    }\n",
       "\n",
       "    if (buttonGroup.hasChildNodes()) {\n",
       "        toolbar.appendChild(buttonGroup);\n",
       "    }\n",
       "\n",
       "    // Add the status bar.\n",
       "    var status_bar = document.createElement('span');\n",
       "    status_bar.classList = 'mpl-message pull-right';\n",
       "    toolbar.appendChild(status_bar);\n",
       "    this.message = status_bar;\n",
       "\n",
       "    // Add the close button to the window.\n",
       "    var buttongrp = document.createElement('div');\n",
       "    buttongrp.classList = 'btn-group inline pull-right';\n",
       "    button = document.createElement('button');\n",
       "    button.classList = 'btn btn-mini btn-primary';\n",
       "    button.href = '#';\n",
       "    button.title = 'Stop Interaction';\n",
       "    button.innerHTML = '<i class=\"fa fa-power-off icon-remove icon-large\"></i>';\n",
       "    button.addEventListener('click', function (_evt) {\n",
       "        fig.handle_close(fig, {});\n",
       "    });\n",
       "    button.addEventListener(\n",
       "        'mouseover',\n",
       "        on_mouseover_closure('Stop Interaction')\n",
       "    );\n",
       "    buttongrp.appendChild(button);\n",
       "    var titlebar = this.root.querySelector('.ui-dialog-titlebar');\n",
       "    titlebar.insertBefore(buttongrp, titlebar.firstChild);\n",
       "};\n",
       "\n",
       "mpl.figure.prototype._remove_fig_handler = function (event) {\n",
       "    var fig = event.data.fig;\n",
       "    if (event.target !== this) {\n",
       "        // Ignore bubbled events from children.\n",
       "        return;\n",
       "    }\n",
       "    fig.close_ws(fig, {});\n",
       "};\n",
       "\n",
       "mpl.figure.prototype._root_extra_style = function (el) {\n",
       "    el.style.boxSizing = 'content-box'; // override notebook setting of border-box.\n",
       "};\n",
       "\n",
       "mpl.figure.prototype._canvas_extra_style = function (el) {\n",
       "    // this is important to make the div 'focusable\n",
       "    el.setAttribute('tabindex', 0);\n",
       "    // reach out to IPython and tell the keyboard manager to turn it's self\n",
       "    // off when our div gets focus\n",
       "\n",
       "    // location in version 3\n",
       "    if (IPython.notebook.keyboard_manager) {\n",
       "        IPython.notebook.keyboard_manager.register_events(el);\n",
       "    } else {\n",
       "        // location in version 2\n",
       "        IPython.keyboard_manager.register_events(el);\n",
       "    }\n",
       "};\n",
       "\n",
       "mpl.figure.prototype._key_event_extra = function (event, _name) {\n",
       "    var manager = IPython.notebook.keyboard_manager;\n",
       "    if (!manager) {\n",
       "        manager = IPython.keyboard_manager;\n",
       "    }\n",
       "\n",
       "    // Check for shift+enter\n",
       "    if (event.shiftKey && event.which === 13) {\n",
       "        this.canvas_div.blur();\n",
       "        // select the cell after this one\n",
       "        var index = IPython.notebook.find_cell_index(this.cell_info[0]);\n",
       "        IPython.notebook.select(index + 1);\n",
       "    }\n",
       "};\n",
       "\n",
       "mpl.figure.prototype.handle_save = function (fig, _msg) {\n",
       "    fig.ondownload(fig, null);\n",
       "};\n",
       "\n",
       "mpl.find_output_cell = function (html_output) {\n",
       "    // Return the cell and output element which can be found *uniquely* in the notebook.\n",
       "    // Note - this is a bit hacky, but it is done because the \"notebook_saving.Notebook\"\n",
       "    // IPython event is triggered only after the cells have been serialised, which for\n",
       "    // our purposes (turning an active figure into a static one), is too late.\n",
       "    var cells = IPython.notebook.get_cells();\n",
       "    var ncells = cells.length;\n",
       "    for (var i = 0; i < ncells; i++) {\n",
       "        var cell = cells[i];\n",
       "        if (cell.cell_type === 'code') {\n",
       "            for (var j = 0; j < cell.output_area.outputs.length; j++) {\n",
       "                var data = cell.output_area.outputs[j];\n",
       "                if (data.data) {\n",
       "                    // IPython >= 3 moved mimebundle to data attribute of output\n",
       "                    data = data.data;\n",
       "                }\n",
       "                if (data['text/html'] === html_output) {\n",
       "                    return [cell, data, j];\n",
       "                }\n",
       "            }\n",
       "        }\n",
       "    }\n",
       "};\n",
       "\n",
       "// Register the function which deals with the matplotlib target/channel.\n",
       "// The kernel may be null if the page has been refreshed.\n",
       "if (IPython.notebook.kernel !== null) {\n",
       "    IPython.notebook.kernel.comm_manager.register_target(\n",
       "        'matplotlib',\n",
       "        mpl.mpl_figure_comm\n",
       "    );\n",
       "}\n"
      ],
      "text/plain": [
       "<IPython.core.display.Javascript object>"
      ]
     },
     "metadata": {},
     "output_type": "display_data"
    },
    {
     "data": {
      "text/html": [
       "<img src=\"data:image/png;base64,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\" width=\"1000\">"
      ],
      "text/plain": [
       "<IPython.core.display.HTML object>"
      ]
     },
     "metadata": {},
     "output_type": "display_data"
    }
   ],
   "source": [
    "fig"
   ]
  },
  {
   "cell_type": "markdown",
   "metadata": {},
   "source": [
    "# Multi-label Classification"
   ]
  },
  {
   "cell_type": "markdown",
   "metadata": {},
   "source": [
    "Multi-label classification is a generalization of multiclass classification, which is the single-label problem of categorizing instances into precisely one of more than two classes; in the multi-label problem there is no constraint on how many of the classes the instance can be assigned to."
   ]
  },
  {
   "cell_type": "markdown",
   "metadata": {},
   "source": [
    "![](data/classi_paradigms.png)"
   ]
  },
  {
   "cell_type": "markdown",
   "metadata": {},
   "source": [
    "In this example we are going to use an especific music dataset. This dataset contains 593 different songs each one of them eliciting different emotions (multi-label): angry-fearful, relaxing-calm, happy-pleased...\n",
    "\n",
    "*From: Trohidis, K., Tsoumakas, G., Kalliris, G., & Vlahavas, I. P. (2008, September). Multi-label classification of music into emotions. In ISMIR (Vol. 8, pp. 325-330).*"
   ]
  },
  {
   "cell_type": "markdown",
   "metadata": {},
   "source": [
    "As before, we need our train and test partitions. In this case, this dataset is part of the library so we can import the data with the `load_dataset` function."
   ]
  },
  {
   "cell_type": "code",
   "execution_count": 84,
   "metadata": {},
   "outputs": [
    {
     "name": "stdout",
     "output_type": "stream",
     "text": [
      "emotions:train - exists, not redownloading\n",
      "emotions:test - exists, not redownloading\n"
     ]
    }
   ],
   "source": [
    "X_train, y_train, feature_names, label_names = load_dataset('emotions', 'train')\n",
    "X_test, y_test, _, _ = load_dataset('emotions', 'test')"
   ]
  },
  {
   "cell_type": "markdown",
   "metadata": {},
   "source": [
    "We can start transforming a multi-label classification problem with L labels into L single-label separate binary classification problems using the same base classifier (Support Vector in this case). The prediction output is the union of all per label classifiers"
   ]
  },
  {
   "cell_type": "code",
   "execution_count": 85,
   "metadata": {},
   "outputs": [],
   "source": [
    "clf = BinaryRelevance(classifier=SVC(), require_dense=[False, True])"
   ]
  },
  {
   "cell_type": "code",
   "execution_count": 86,
   "metadata": {},
   "outputs": [
    {
     "data": {
      "text/plain": [
       "BinaryRelevance(classifier=SVC(), require_dense=[False, True])"
      ]
     },
     "execution_count": 86,
     "metadata": {},
     "output_type": "execute_result"
    }
   ],
   "source": [
    "clf.fit(X_train, y_train)"
   ]
  },
  {
   "cell_type": "markdown",
   "metadata": {},
   "source": [
    "We can check the six classifiers trained (one per label)."
   ]
  },
  {
   "cell_type": "code",
   "execution_count": 87,
   "metadata": {},
   "outputs": [
    {
     "data": {
      "text/plain": [
       "[SVC(), SVC(), SVC(), SVC(), SVC(), SVC()]"
      ]
     },
     "execution_count": 87,
     "metadata": {},
     "output_type": "execute_result"
    }
   ],
   "source": [
    "clf.classifiers_"
   ]
  },
  {
   "cell_type": "markdown",
   "metadata": {},
   "source": [
    "And finish with the prediction step:"
   ]
  },
  {
   "cell_type": "code",
   "execution_count": 88,
   "metadata": {},
   "outputs": [],
   "source": [
    "prediction = clf.predict(X_test)"
   ]
  },
  {
   "cell_type": "markdown",
   "metadata": {},
   "source": [
    "The Hamming loss is the fraction of labels that are incorrectly predicted."
   ]
  },
  {
   "cell_type": "code",
   "execution_count": 89,
   "metadata": {},
   "outputs": [
    {
     "data": {
      "text/plain": [
       "0.3250825082508251"
      ]
     },
     "execution_count": 89,
     "metadata": {},
     "output_type": "execute_result"
    }
   ],
   "source": [
    "hamming_loss(y_test, prediction)"
   ]
  },
  {
   "cell_type": "markdown",
   "metadata": {},
   "source": [
    "# MLTSVM (Twin multi-Label Support Vector Machines)\n",
    "*From: Chen, W. J., Shao, Y. H., Li, C. N., & Deng, N. Y. (2016). MLTSVM: a novel twin support vector machine to multi-label learning. Pattern Recognition, 52, 61-74.*"
   ]
  },
  {
   "cell_type": "markdown",
   "metadata": {},
   "source": [
    "SVM are all-terrain machines so of course there is a variation specific to the multi-label problem."
   ]
  },
  {
   "cell_type": "code",
   "execution_count": 90,
   "metadata": {},
   "outputs": [
    {
     "name": "stdout",
     "output_type": "stream",
     "text": [
      "{'c_k': 0.125} 0.607071441399509\n"
     ]
    }
   ],
   "source": [
    "parameters = {'c_k': [2**i for i in range(-5, 5, 2)]}\n",
    "score = 'f1_macro'\n",
    "\n",
    "clf = GridSearchCV(MLTSVM(), parameters, scoring=score)\n",
    "clf.fit(X_train, y_train)\n",
    "\n",
    "print (clf.best_params_, clf.best_score_)\n",
    "prediction = clf.predict(X_test)"
   ]
  },
  {
   "cell_type": "code",
   "execution_count": 91,
   "metadata": {},
   "outputs": [
    {
     "data": {
      "text/plain": [
       "0.27145214521452143"
      ]
     },
     "execution_count": 91,
     "metadata": {},
     "output_type": "execute_result"
    }
   ],
   "source": [
    "hamming_loss(y_test, prediction)"
   ]
  }
 ],
 "metadata": {
  "kernelspec": {
   "display_name": "Python 3",
   "language": "python",
   "name": "python3"
  },
  "language_info": {
   "codemirror_mode": {
    "name": "ipython",
    "version": 3
   },
   "file_extension": ".py",
   "mimetype": "text/x-python",
   "name": "python",
   "nbconvert_exporter": "python",
   "pygments_lexer": "ipython3",
   "version": "3.9.1"
  }
 },
 "nbformat": 4,
 "nbformat_minor": 4
}
